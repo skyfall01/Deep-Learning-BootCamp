{
 "metadata": {
  "language_info": {
   "codemirror_mode": {
    "name": "ipython",
    "version": 3
   },
   "file_extension": ".py",
   "mimetype": "text/x-python",
   "name": "python",
   "nbconvert_exporter": "python",
   "pygments_lexer": "ipython3",
   "version": "3.6.8-final"
  },
  "orig_nbformat": 2,
  "kernelspec": {
   "name": "python3",
   "display_name": "Python 3",
   "language": "python"
  }
 },
 "nbformat": 4,
 "nbformat_minor": 2,
 "cells": [
  {
   "cell_type": "code",
   "execution_count": 1,
   "metadata": {},
   "outputs": [],
   "source": [
    "import pandas as pd"
   ]
  },
  {
   "source": [
    "Series & DataFrame(Preferred) DataTypes \n",
    "\n",
    "Series Discussed here - Column elements with indices and elemnts (Limitation: Only two col, 1- index, 1- values)\n",
    "\n",
    "Series(data,index)"
   ],
   "cell_type": "markdown",
   "metadata": {}
  },
  {
   "cell_type": "code",
   "execution_count": 20,
   "metadata": {},
   "outputs": [
    {
     "output_type": "execute_result",
     "data": {
      "text/plain": [
       "pandas.core.series.Series"
      ]
     },
     "metadata": {},
     "execution_count": 20
    }
   ],
   "source": [
    "list1 = [1,2,3,4]\n",
    "ser = pd.Series(list1)\n",
    "type(ser)\n"
   ]
  },
  {
   "cell_type": "code",
   "execution_count": 21,
   "metadata": {},
   "outputs": [
    {
     "output_type": "execute_result",
     "data": {
      "text/plain": [
       "0    1\n",
       "1    2\n",
       "2    3\n",
       "3    4\n",
       "dtype: int64"
      ]
     },
     "metadata": {},
     "execution_count": 21
    }
   ],
   "source": [
    "ser"
   ]
  },
  {
   "source": [
    "Indexes(Labels) can be given too\n",
    "\n",
    "Useful Example: when entering student names with marks "
   ],
   "cell_type": "markdown",
   "metadata": {}
  },
  {
   "cell_type": "code",
   "execution_count": 22,
   "metadata": {},
   "outputs": [
    {
     "output_type": "execute_result",
     "data": {
      "text/plain": [
       "a      1\n",
       "b      2\n",
       "ram    3\n",
       "d      4\n",
       "dtype: int64"
      ]
     },
     "metadata": {},
     "execution_count": 22
    }
   ],
   "source": [
    "labels = ['a','b','ram','d']\n",
    "ser = pd.Series(list1, labels)\n",
    "ser"
   ]
  },
  {
   "cell_type": "code",
   "execution_count": 23,
   "metadata": {},
   "outputs": [
    {
     "output_type": "execute_result",
     "data": {
      "text/plain": [
       "ram     64\n",
       "alex    90\n",
       "lyod    78\n",
       "dtype: int64"
      ]
     },
     "metadata": {},
     "execution_count": 23
    }
   ],
   "source": [
    "dict1 = {\"ram\":64,\"alex\":90,\"lyod\":78}\n",
    "ser2 = pd.Series(dict1)\n",
    "ser2"
   ]
  },
  {
   "cell_type": "code",
   "execution_count": 24,
   "metadata": {},
   "outputs": [
    {
     "output_type": "execute_result",
     "data": {
      "text/plain": [
       "64"
      ]
     },
     "metadata": {},
     "execution_count": 24
    }
   ],
   "source": [
    "ser2[\"ram\"]"
   ]
  },
  {
   "source": [
    "series can be concatenated.\n",
    "Just indexes are merged with values removed and replaced with NaN (done by conversion to arrays which means it's slower)\n",
    "\n",
    "\n",
    "if any index is same among both of the series, then values  get added"
   ],
   "cell_type": "markdown",
   "metadata": {}
  },
  {
   "cell_type": "code",
   "execution_count": 25,
   "metadata": {},
   "outputs": [
    {
     "output_type": "execute_result",
     "data": {
      "text/plain": [
       "a        NaN\n",
       "alex     NaN\n",
       "b        NaN\n",
       "d        NaN\n",
       "lyod     NaN\n",
       "ram     67.0\n",
       "dtype: float64"
      ]
     },
     "metadata": {},
     "execution_count": 25
    }
   ],
   "source": [
    "ser+ser2"
   ]
  }
 ]
}