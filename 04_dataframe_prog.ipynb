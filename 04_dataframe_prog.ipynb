{
 "metadata": {
  "language_info": {
   "codemirror_mode": {
    "name": "ipython",
    "version": 3
   },
   "file_extension": ".py",
   "mimetype": "text/x-python",
   "name": "python",
   "nbconvert_exporter": "python",
   "pygments_lexer": "ipython3",
   "version": "3.6.8-final"
  },
  "orig_nbformat": 2,
  "kernelspec": {
   "name": "python3",
   "display_name": "Python 3",
   "language": "python"
  }
 },
 "nbformat": 4,
 "nbformat_minor": 2,
 "cells": [
  {
   "cell_type": "code",
   "execution_count": 186,
   "metadata": {},
   "outputs": [],
   "source": [
    "import pandas as pd\n",
    "import numpy as np"
   ]
  },
  {
   "source": [
    "pd.DataFrame(data,index,col)"
   ],
   "cell_type": "markdown",
   "metadata": {}
  },
  {
   "cell_type": "code",
   "execution_count": 187,
   "metadata": {},
   "outputs": [
    {
     "output_type": "execute_result",
     "data": {
      "text/plain": [
       "   e  f  g  h\n",
       "a  1  2  3  4\n",
       "b  4  5  6  7"
      ],
      "text/html": "<div>\n<style scoped>\n    .dataframe tbody tr th:only-of-type {\n        vertical-align: middle;\n    }\n\n    .dataframe tbody tr th {\n        vertical-align: top;\n    }\n\n    .dataframe thead th {\n        text-align: right;\n    }\n</style>\n<table border=\"1\" class=\"dataframe\">\n  <thead>\n    <tr style=\"text-align: right;\">\n      <th></th>\n      <th>e</th>\n      <th>f</th>\n      <th>g</th>\n      <th>h</th>\n    </tr>\n  </thead>\n  <tbody>\n    <tr>\n      <th>a</th>\n      <td>1</td>\n      <td>2</td>\n      <td>3</td>\n      <td>4</td>\n    </tr>\n    <tr>\n      <th>b</th>\n      <td>4</td>\n      <td>5</td>\n      <td>6</td>\n      <td>7</td>\n    </tr>\n  </tbody>\n</table>\n</div>"
     },
     "metadata": {},
     "execution_count": 187
    }
   ],
   "source": [
    "list1 = [[1,2,3,4],[4,5,6,7]]\n",
    "index = [\"a\",\"b\"]\n",
    "col = [\"e\",\"f\",\"g\",\"h\"]\n",
    "df = pd.DataFrame(list1,index,col)\n",
    "df"
   ]
  },
  {
   "cell_type": "code",
   "execution_count": 188,
   "metadata": {},
   "outputs": [
    {
     "output_type": "execute_result",
     "data": {
      "text/plain": [
       "    x   y   z   w\n",
       "a   0   1   2   3\n",
       "b   4   5   6   7\n",
       "c   8   9  10  11\n",
       "d  12  13  14  15"
      ],
      "text/html": "<div>\n<style scoped>\n    .dataframe tbody tr th:only-of-type {\n        vertical-align: middle;\n    }\n\n    .dataframe tbody tr th {\n        vertical-align: top;\n    }\n\n    .dataframe thead th {\n        text-align: right;\n    }\n</style>\n<table border=\"1\" class=\"dataframe\">\n  <thead>\n    <tr style=\"text-align: right;\">\n      <th></th>\n      <th>x</th>\n      <th>y</th>\n      <th>z</th>\n      <th>w</th>\n    </tr>\n  </thead>\n  <tbody>\n    <tr>\n      <th>a</th>\n      <td>0</td>\n      <td>1</td>\n      <td>2</td>\n      <td>3</td>\n    </tr>\n    <tr>\n      <th>b</th>\n      <td>4</td>\n      <td>5</td>\n      <td>6</td>\n      <td>7</td>\n    </tr>\n    <tr>\n      <th>c</th>\n      <td>8</td>\n      <td>9</td>\n      <td>10</td>\n      <td>11</td>\n    </tr>\n    <tr>\n      <th>d</th>\n      <td>12</td>\n      <td>13</td>\n      <td>14</td>\n      <td>15</td>\n    </tr>\n  </tbody>\n</table>\n</div>"
     },
     "metadata": {},
     "execution_count": 188
    }
   ],
   "source": [
    "df1 = pd.DataFrame(np.arange(16).reshape(4,4),\"a b c d\".split(),\"x y z w\".split())\n",
    "df1"
   ]
  },
  {
   "cell_type": "code",
   "execution_count": 189,
   "metadata": {},
   "outputs": [
    {
     "output_type": "execute_result",
     "data": {
      "text/plain": [
       "pandas.core.frame.DataFrame"
      ]
     },
     "metadata": {},
     "execution_count": 189
    }
   ],
   "source": [
    "type(df1)"
   ]
  },
  {
   "cell_type": "code",
   "execution_count": 190,
   "metadata": {},
   "outputs": [
    {
     "output_type": "execute_result",
     "data": {
      "text/plain": [
       "a     3\n",
       "b     7\n",
       "c    11\n",
       "d    15\n",
       "Name: w, dtype: int32"
      ]
     },
     "metadata": {},
     "execution_count": 190
    }
   ],
   "source": [
    "df1['w'] #By columns or df1.w"
   ]
  },
  {
   "cell_type": "code",
   "execution_count": 191,
   "metadata": {},
   "outputs": [
    {
     "output_type": "execute_result",
     "data": {
      "text/plain": [
       "    y   w\n",
       "a   1   3\n",
       "b   5   7\n",
       "c   9  11\n",
       "d  13  15"
      ],
      "text/html": "<div>\n<style scoped>\n    .dataframe tbody tr th:only-of-type {\n        vertical-align: middle;\n    }\n\n    .dataframe tbody tr th {\n        vertical-align: top;\n    }\n\n    .dataframe thead th {\n        text-align: right;\n    }\n</style>\n<table border=\"1\" class=\"dataframe\">\n  <thead>\n    <tr style=\"text-align: right;\">\n      <th></th>\n      <th>y</th>\n      <th>w</th>\n    </tr>\n  </thead>\n  <tbody>\n    <tr>\n      <th>a</th>\n      <td>1</td>\n      <td>3</td>\n    </tr>\n    <tr>\n      <th>b</th>\n      <td>5</td>\n      <td>7</td>\n    </tr>\n    <tr>\n      <th>c</th>\n      <td>9</td>\n      <td>11</td>\n    </tr>\n    <tr>\n      <th>d</th>\n      <td>13</td>\n      <td>15</td>\n    </tr>\n  </tbody>\n</table>\n</div>"
     },
     "metadata": {},
     "execution_count": 191
    }
   ],
   "source": [
    "df1[['y','w']]"
   ]
  },
  {
   "cell_type": "code",
   "execution_count": 192,
   "metadata": {},
   "outputs": [
    {
     "output_type": "execute_result",
     "data": {
      "text/plain": [
       "x    0\n",
       "y    1\n",
       "z    2\n",
       "w    3\n",
       "Name: a, dtype: int32"
      ]
     },
     "metadata": {},
     "execution_count": 192
    }
   ],
   "source": [
    "df1.loc['a'] #By row"
   ]
  },
  {
   "cell_type": "code",
   "execution_count": 193,
   "metadata": {},
   "outputs": [
    {
     "output_type": "execute_result",
     "data": {
      "text/plain": [
       "   x  y  z  w\n",
       "a  0  1  2  3\n",
       "b  4  5  6  7"
      ],
      "text/html": "<div>\n<style scoped>\n    .dataframe tbody tr th:only-of-type {\n        vertical-align: middle;\n    }\n\n    .dataframe tbody tr th {\n        vertical-align: top;\n    }\n\n    .dataframe thead th {\n        text-align: right;\n    }\n</style>\n<table border=\"1\" class=\"dataframe\">\n  <thead>\n    <tr style=\"text-align: right;\">\n      <th></th>\n      <th>x</th>\n      <th>y</th>\n      <th>z</th>\n      <th>w</th>\n    </tr>\n  </thead>\n  <tbody>\n    <tr>\n      <th>a</th>\n      <td>0</td>\n      <td>1</td>\n      <td>2</td>\n      <td>3</td>\n    </tr>\n    <tr>\n      <th>b</th>\n      <td>4</td>\n      <td>5</td>\n      <td>6</td>\n      <td>7</td>\n    </tr>\n  </tbody>\n</table>\n</div>"
     },
     "metadata": {},
     "execution_count": 193
    }
   ],
   "source": [
    "df1.loc[['a','b']]"
   ]
  },
  {
   "cell_type": "code",
   "execution_count": 194,
   "metadata": {},
   "outputs": [
    {
     "output_type": "execute_result",
     "data": {
      "text/plain": [
       "    y   z   w\n",
       "c   9  10  11\n",
       "d  13  14  15"
      ],
      "text/html": "<div>\n<style scoped>\n    .dataframe tbody tr th:only-of-type {\n        vertical-align: middle;\n    }\n\n    .dataframe tbody tr th {\n        vertical-align: top;\n    }\n\n    .dataframe thead th {\n        text-align: right;\n    }\n</style>\n<table border=\"1\" class=\"dataframe\">\n  <thead>\n    <tr style=\"text-align: right;\">\n      <th></th>\n      <th>y</th>\n      <th>z</th>\n      <th>w</th>\n    </tr>\n  </thead>\n  <tbody>\n    <tr>\n      <th>c</th>\n      <td>9</td>\n      <td>10</td>\n      <td>11</td>\n    </tr>\n    <tr>\n      <th>d</th>\n      <td>13</td>\n      <td>14</td>\n      <td>15</td>\n    </tr>\n  </tbody>\n</table>\n</div>"
     },
     "metadata": {},
     "execution_count": 194
    }
   ],
   "source": [
    "df1.iloc[2:,1:] #Slicing iloc[row:,col:]"
   ]
  },
  {
   "cell_type": "code",
   "execution_count": 195,
   "metadata": {},
   "outputs": [
    {
     "output_type": "execute_result",
     "data": {
      "text/plain": [
       "    x   y   z   w  f\n",
       "a   0   1   2   3  3\n",
       "b   4   5   6   7  6\n",
       "c   8   9  10  11  7\n",
       "d  12  13  14  15  8"
      ],
      "text/html": "<div>\n<style scoped>\n    .dataframe tbody tr th:only-of-type {\n        vertical-align: middle;\n    }\n\n    .dataframe tbody tr th {\n        vertical-align: top;\n    }\n\n    .dataframe thead th {\n        text-align: right;\n    }\n</style>\n<table border=\"1\" class=\"dataframe\">\n  <thead>\n    <tr style=\"text-align: right;\">\n      <th></th>\n      <th>x</th>\n      <th>y</th>\n      <th>z</th>\n      <th>w</th>\n      <th>f</th>\n    </tr>\n  </thead>\n  <tbody>\n    <tr>\n      <th>a</th>\n      <td>0</td>\n      <td>1</td>\n      <td>2</td>\n      <td>3</td>\n      <td>3</td>\n    </tr>\n    <tr>\n      <th>b</th>\n      <td>4</td>\n      <td>5</td>\n      <td>6</td>\n      <td>7</td>\n      <td>6</td>\n    </tr>\n    <tr>\n      <th>c</th>\n      <td>8</td>\n      <td>9</td>\n      <td>10</td>\n      <td>11</td>\n      <td>7</td>\n    </tr>\n    <tr>\n      <th>d</th>\n      <td>12</td>\n      <td>13</td>\n      <td>14</td>\n      <td>15</td>\n      <td>8</td>\n    </tr>\n  </tbody>\n</table>\n</div>"
     },
     "metadata": {},
     "execution_count": 195
    }
   ],
   "source": [
    "df1['f'] = [3,6,7,8] #added col wise, len(list) = no of index\n",
    "df1"
   ]
  },
  {
   "cell_type": "code",
   "execution_count": 196,
   "metadata": {},
   "outputs": [
    {
     "output_type": "execute_result",
     "data": {
      "text/plain": [
       "          x         y         z\n",
       "a  0.803818  0.330664  0.797434\n",
       "b  0.420073  0.952207  0.397612\n",
       "c  0.087694  0.562457  0.949103\n",
       "d  0.665205  0.485694  0.279461\n",
       "e  0.707821  0.397801  0.444001"
      ],
      "text/html": "<div>\n<style scoped>\n    .dataframe tbody tr th:only-of-type {\n        vertical-align: middle;\n    }\n\n    .dataframe tbody tr th {\n        vertical-align: top;\n    }\n\n    .dataframe thead th {\n        text-align: right;\n    }\n</style>\n<table border=\"1\" class=\"dataframe\">\n  <thead>\n    <tr style=\"text-align: right;\">\n      <th></th>\n      <th>x</th>\n      <th>y</th>\n      <th>z</th>\n    </tr>\n  </thead>\n  <tbody>\n    <tr>\n      <th>a</th>\n      <td>0.803818</td>\n      <td>0.330664</td>\n      <td>0.797434</td>\n    </tr>\n    <tr>\n      <th>b</th>\n      <td>0.420073</td>\n      <td>0.952207</td>\n      <td>0.397612</td>\n    </tr>\n    <tr>\n      <th>c</th>\n      <td>0.087694</td>\n      <td>0.562457</td>\n      <td>0.949103</td>\n    </tr>\n    <tr>\n      <th>d</th>\n      <td>0.665205</td>\n      <td>0.485694</td>\n      <td>0.279461</td>\n    </tr>\n    <tr>\n      <th>e</th>\n      <td>0.707821</td>\n      <td>0.397801</td>\n      <td>0.444001</td>\n    </tr>\n  </tbody>\n</table>\n</div>"
     },
     "metadata": {},
     "execution_count": 196
    }
   ],
   "source": [
    "dict1 = {'x':np.random.rand(5),'y':np.random.rand(5),'z':np.random.rand(5)} #here keys are used as columns\n",
    "df2 = pd.DataFrame(dict1,['a','b','c','d','e'])\n",
    "df2"
   ]
  },
  {
   "cell_type": "code",
   "execution_count": 197,
   "metadata": {},
   "outputs": [
    {
     "output_type": "execute_result",
     "data": {
      "text/plain": [
       "    x   y   z   w   p   q   r   t\n",
       "a  68  50  59  11  91  16  63  53\n",
       "b  84  37  99  91  68  52   3  27\n",
       "c  45  79  33  99  26  18  51  66\n",
       "d  34  21  93  17  24  58  79  49\n",
       "e  64  36  99  68  74  73  15  62\n",
       "f  90  96  63  97  28  42  99   2\n",
       "g  31  48  13  34  44  30   8  23"
      ],
      "text/html": "<div>\n<style scoped>\n    .dataframe tbody tr th:only-of-type {\n        vertical-align: middle;\n    }\n\n    .dataframe tbody tr th {\n        vertical-align: top;\n    }\n\n    .dataframe thead th {\n        text-align: right;\n    }\n</style>\n<table border=\"1\" class=\"dataframe\">\n  <thead>\n    <tr style=\"text-align: right;\">\n      <th></th>\n      <th>x</th>\n      <th>y</th>\n      <th>z</th>\n      <th>w</th>\n      <th>p</th>\n      <th>q</th>\n      <th>r</th>\n      <th>t</th>\n    </tr>\n  </thead>\n  <tbody>\n    <tr>\n      <th>a</th>\n      <td>68</td>\n      <td>50</td>\n      <td>59</td>\n      <td>11</td>\n      <td>91</td>\n      <td>16</td>\n      <td>63</td>\n      <td>53</td>\n    </tr>\n    <tr>\n      <th>b</th>\n      <td>84</td>\n      <td>37</td>\n      <td>99</td>\n      <td>91</td>\n      <td>68</td>\n      <td>52</td>\n      <td>3</td>\n      <td>27</td>\n    </tr>\n    <tr>\n      <th>c</th>\n      <td>45</td>\n      <td>79</td>\n      <td>33</td>\n      <td>99</td>\n      <td>26</td>\n      <td>18</td>\n      <td>51</td>\n      <td>66</td>\n    </tr>\n    <tr>\n      <th>d</th>\n      <td>34</td>\n      <td>21</td>\n      <td>93</td>\n      <td>17</td>\n      <td>24</td>\n      <td>58</td>\n      <td>79</td>\n      <td>49</td>\n    </tr>\n    <tr>\n      <th>e</th>\n      <td>64</td>\n      <td>36</td>\n      <td>99</td>\n      <td>68</td>\n      <td>74</td>\n      <td>73</td>\n      <td>15</td>\n      <td>62</td>\n    </tr>\n    <tr>\n      <th>f</th>\n      <td>90</td>\n      <td>96</td>\n      <td>63</td>\n      <td>97</td>\n      <td>28</td>\n      <td>42</td>\n      <td>99</td>\n      <td>2</td>\n    </tr>\n    <tr>\n      <th>g</th>\n      <td>31</td>\n      <td>48</td>\n      <td>13</td>\n      <td>34</td>\n      <td>44</td>\n      <td>30</td>\n      <td>8</td>\n      <td>23</td>\n    </tr>\n  </tbody>\n</table>\n</div>"
     },
     "metadata": {},
     "execution_count": 197
    }
   ],
   "source": [
    "df3 = pd.DataFrame(np.random.randint(1,100,56).reshape(7,8),\"a b c d e f g\".split(),\"x y z w p q r t\".split())\n",
    "df3"
   ]
  },
  {
   "cell_type": "code",
   "execution_count": 198,
   "metadata": {},
   "outputs": [
    {
     "output_type": "execute_result",
     "data": {
      "text/plain": [
       "    p   q   r   t\n",
       "e  74  73  15  62\n",
       "f  28  42  99   2\n",
       "g  44  30   8  23"
      ],
      "text/html": "<div>\n<style scoped>\n    .dataframe tbody tr th:only-of-type {\n        vertical-align: middle;\n    }\n\n    .dataframe tbody tr th {\n        vertical-align: top;\n    }\n\n    .dataframe thead th {\n        text-align: right;\n    }\n</style>\n<table border=\"1\" class=\"dataframe\">\n  <thead>\n    <tr style=\"text-align: right;\">\n      <th></th>\n      <th>p</th>\n      <th>q</th>\n      <th>r</th>\n      <th>t</th>\n    </tr>\n  </thead>\n  <tbody>\n    <tr>\n      <th>e</th>\n      <td>74</td>\n      <td>73</td>\n      <td>15</td>\n      <td>62</td>\n    </tr>\n    <tr>\n      <th>f</th>\n      <td>28</td>\n      <td>42</td>\n      <td>99</td>\n      <td>2</td>\n    </tr>\n    <tr>\n      <th>g</th>\n      <td>44</td>\n      <td>30</td>\n      <td>8</td>\n      <td>23</td>\n    </tr>\n  </tbody>\n</table>\n</div>"
     },
     "metadata": {},
     "execution_count": 198
    }
   ],
   "source": [
    "df3.iloc[4:,4:]"
   ]
  },
  {
   "cell_type": "code",
   "execution_count": 199,
   "metadata": {},
   "outputs": [
    {
     "output_type": "execute_result",
     "data": {
      "text/plain": [
       "    x   y   z   w   p   q   r   t   l\n",
       "a  68  50  59  11  91  16  63  53  68\n",
       "b  84  37  99  91  68  52   3  27  93\n",
       "c  45  79  33  99  26  18  51  66  40\n",
       "d  34  21  93  17  24  58  79  49  55\n",
       "e  64  36  99  68  74  73  15  62  31\n",
       "f  90  96  63  97  28  42  99   2  73\n",
       "g  31  48  13  34  44  30   8  23  86"
      ],
      "text/html": "<div>\n<style scoped>\n    .dataframe tbody tr th:only-of-type {\n        vertical-align: middle;\n    }\n\n    .dataframe tbody tr th {\n        vertical-align: top;\n    }\n\n    .dataframe thead th {\n        text-align: right;\n    }\n</style>\n<table border=\"1\" class=\"dataframe\">\n  <thead>\n    <tr style=\"text-align: right;\">\n      <th></th>\n      <th>x</th>\n      <th>y</th>\n      <th>z</th>\n      <th>w</th>\n      <th>p</th>\n      <th>q</th>\n      <th>r</th>\n      <th>t</th>\n      <th>l</th>\n    </tr>\n  </thead>\n  <tbody>\n    <tr>\n      <th>a</th>\n      <td>68</td>\n      <td>50</td>\n      <td>59</td>\n      <td>11</td>\n      <td>91</td>\n      <td>16</td>\n      <td>63</td>\n      <td>53</td>\n      <td>68</td>\n    </tr>\n    <tr>\n      <th>b</th>\n      <td>84</td>\n      <td>37</td>\n      <td>99</td>\n      <td>91</td>\n      <td>68</td>\n      <td>52</td>\n      <td>3</td>\n      <td>27</td>\n      <td>93</td>\n    </tr>\n    <tr>\n      <th>c</th>\n      <td>45</td>\n      <td>79</td>\n      <td>33</td>\n      <td>99</td>\n      <td>26</td>\n      <td>18</td>\n      <td>51</td>\n      <td>66</td>\n      <td>40</td>\n    </tr>\n    <tr>\n      <th>d</th>\n      <td>34</td>\n      <td>21</td>\n      <td>93</td>\n      <td>17</td>\n      <td>24</td>\n      <td>58</td>\n      <td>79</td>\n      <td>49</td>\n      <td>55</td>\n    </tr>\n    <tr>\n      <th>e</th>\n      <td>64</td>\n      <td>36</td>\n      <td>99</td>\n      <td>68</td>\n      <td>74</td>\n      <td>73</td>\n      <td>15</td>\n      <td>62</td>\n      <td>31</td>\n    </tr>\n    <tr>\n      <th>f</th>\n      <td>90</td>\n      <td>96</td>\n      <td>63</td>\n      <td>97</td>\n      <td>28</td>\n      <td>42</td>\n      <td>99</td>\n      <td>2</td>\n      <td>73</td>\n    </tr>\n    <tr>\n      <th>g</th>\n      <td>31</td>\n      <td>48</td>\n      <td>13</td>\n      <td>34</td>\n      <td>44</td>\n      <td>30</td>\n      <td>8</td>\n      <td>23</td>\n      <td>86</td>\n    </tr>\n  </tbody>\n</table>\n</div>"
     },
     "metadata": {},
     "execution_count": 199
    }
   ],
   "source": [
    "df3['l'] = np.random.randint(1,100,7)\n",
    "df3"
   ]
  },
  {
   "cell_type": "code",
   "execution_count": 200,
   "metadata": {},
   "outputs": [
    {
     "output_type": "execute_result",
     "data": {
      "text/plain": [
       "  index   x   y   z   w   p   q   r   t   l\n",
       "0     a  68  50  59  11  91  16  63  53  68\n",
       "1     b  84  37  99  91  68  52   3  27  93\n",
       "2     c  45  79  33  99  26  18  51  66  40\n",
       "3     d  34  21  93  17  24  58  79  49  55\n",
       "4     e  64  36  99  68  74  73  15  62  31\n",
       "5     f  90  96  63  97  28  42  99   2  73\n",
       "6     g  31  48  13  34  44  30   8  23  86"
      ],
      "text/html": "<div>\n<style scoped>\n    .dataframe tbody tr th:only-of-type {\n        vertical-align: middle;\n    }\n\n    .dataframe tbody tr th {\n        vertical-align: top;\n    }\n\n    .dataframe thead th {\n        text-align: right;\n    }\n</style>\n<table border=\"1\" class=\"dataframe\">\n  <thead>\n    <tr style=\"text-align: right;\">\n      <th></th>\n      <th>index</th>\n      <th>x</th>\n      <th>y</th>\n      <th>z</th>\n      <th>w</th>\n      <th>p</th>\n      <th>q</th>\n      <th>r</th>\n      <th>t</th>\n      <th>l</th>\n    </tr>\n  </thead>\n  <tbody>\n    <tr>\n      <th>0</th>\n      <td>a</td>\n      <td>68</td>\n      <td>50</td>\n      <td>59</td>\n      <td>11</td>\n      <td>91</td>\n      <td>16</td>\n      <td>63</td>\n      <td>53</td>\n      <td>68</td>\n    </tr>\n    <tr>\n      <th>1</th>\n      <td>b</td>\n      <td>84</td>\n      <td>37</td>\n      <td>99</td>\n      <td>91</td>\n      <td>68</td>\n      <td>52</td>\n      <td>3</td>\n      <td>27</td>\n      <td>93</td>\n    </tr>\n    <tr>\n      <th>2</th>\n      <td>c</td>\n      <td>45</td>\n      <td>79</td>\n      <td>33</td>\n      <td>99</td>\n      <td>26</td>\n      <td>18</td>\n      <td>51</td>\n      <td>66</td>\n      <td>40</td>\n    </tr>\n    <tr>\n      <th>3</th>\n      <td>d</td>\n      <td>34</td>\n      <td>21</td>\n      <td>93</td>\n      <td>17</td>\n      <td>24</td>\n      <td>58</td>\n      <td>79</td>\n      <td>49</td>\n      <td>55</td>\n    </tr>\n    <tr>\n      <th>4</th>\n      <td>e</td>\n      <td>64</td>\n      <td>36</td>\n      <td>99</td>\n      <td>68</td>\n      <td>74</td>\n      <td>73</td>\n      <td>15</td>\n      <td>62</td>\n      <td>31</td>\n    </tr>\n    <tr>\n      <th>5</th>\n      <td>f</td>\n      <td>90</td>\n      <td>96</td>\n      <td>63</td>\n      <td>97</td>\n      <td>28</td>\n      <td>42</td>\n      <td>99</td>\n      <td>2</td>\n      <td>73</td>\n    </tr>\n    <tr>\n      <th>6</th>\n      <td>g</td>\n      <td>31</td>\n      <td>48</td>\n      <td>13</td>\n      <td>34</td>\n      <td>44</td>\n      <td>30</td>\n      <td>8</td>\n      <td>23</td>\n      <td>86</td>\n    </tr>\n  </tbody>\n</table>\n</div>"
     },
     "metadata": {},
     "execution_count": 200
    }
   ],
   "source": [
    "#To reset index\n",
    "df3.reset_index()"
   ]
  },
  {
   "cell_type": "code",
   "execution_count": 201,
   "metadata": {},
   "outputs": [],
   "source": [
    "#To change indexes to any column\n",
    "df3.set_index(\"l\",inplace=True) #removed and changed to index"
   ]
  },
  {
   "cell_type": "code",
   "execution_count": 202,
   "metadata": {},
   "outputs": [
    {
     "output_type": "execute_result",
     "data": {
      "text/plain": [
       "     x   y   z   w   p   q   r   t\n",
       "l                                 \n",
       "68  68  50  59  11  91  16  63  53\n",
       "93  84  37  99  91  68  52   3  27\n",
       "40  45  79  33  99  26  18  51  66\n",
       "55  34  21  93  17  24  58  79  49\n",
       "31  64  36  99  68  74  73  15  62\n",
       "73  90  96  63  97  28  42  99   2\n",
       "86  31  48  13  34  44  30   8  23"
      ],
      "text/html": "<div>\n<style scoped>\n    .dataframe tbody tr th:only-of-type {\n        vertical-align: middle;\n    }\n\n    .dataframe tbody tr th {\n        vertical-align: top;\n    }\n\n    .dataframe thead th {\n        text-align: right;\n    }\n</style>\n<table border=\"1\" class=\"dataframe\">\n  <thead>\n    <tr style=\"text-align: right;\">\n      <th></th>\n      <th>x</th>\n      <th>y</th>\n      <th>z</th>\n      <th>w</th>\n      <th>p</th>\n      <th>q</th>\n      <th>r</th>\n      <th>t</th>\n    </tr>\n    <tr>\n      <th>l</th>\n      <th></th>\n      <th></th>\n      <th></th>\n      <th></th>\n      <th></th>\n      <th></th>\n      <th></th>\n      <th></th>\n    </tr>\n  </thead>\n  <tbody>\n    <tr>\n      <th>68</th>\n      <td>68</td>\n      <td>50</td>\n      <td>59</td>\n      <td>11</td>\n      <td>91</td>\n      <td>16</td>\n      <td>63</td>\n      <td>53</td>\n    </tr>\n    <tr>\n      <th>93</th>\n      <td>84</td>\n      <td>37</td>\n      <td>99</td>\n      <td>91</td>\n      <td>68</td>\n      <td>52</td>\n      <td>3</td>\n      <td>27</td>\n    </tr>\n    <tr>\n      <th>40</th>\n      <td>45</td>\n      <td>79</td>\n      <td>33</td>\n      <td>99</td>\n      <td>26</td>\n      <td>18</td>\n      <td>51</td>\n      <td>66</td>\n    </tr>\n    <tr>\n      <th>55</th>\n      <td>34</td>\n      <td>21</td>\n      <td>93</td>\n      <td>17</td>\n      <td>24</td>\n      <td>58</td>\n      <td>79</td>\n      <td>49</td>\n    </tr>\n    <tr>\n      <th>31</th>\n      <td>64</td>\n      <td>36</td>\n      <td>99</td>\n      <td>68</td>\n      <td>74</td>\n      <td>73</td>\n      <td>15</td>\n      <td>62</td>\n    </tr>\n    <tr>\n      <th>73</th>\n      <td>90</td>\n      <td>96</td>\n      <td>63</td>\n      <td>97</td>\n      <td>28</td>\n      <td>42</td>\n      <td>99</td>\n      <td>2</td>\n    </tr>\n    <tr>\n      <th>86</th>\n      <td>31</td>\n      <td>48</td>\n      <td>13</td>\n      <td>34</td>\n      <td>44</td>\n      <td>30</td>\n      <td>8</td>\n      <td>23</td>\n    </tr>\n  </tbody>\n</table>\n</div>"
     },
     "metadata": {},
     "execution_count": 202
    }
   ],
   "source": [
    "df3"
   ]
  },
  {
   "cell_type": "code",
   "execution_count": 203,
   "metadata": {},
   "outputs": [
    {
     "output_type": "execute_result",
     "data": {
      "text/plain": [
       "     x   y   z   w   p   q   r   t\n",
       "l                                 \n",
       "68  68  50  59  11  91  16  63  53\n",
       "93  84  37  99  91  68  52   3  27\n",
       "40  45  79  33  99  26  18  51  66\n",
       "55  34  21  93  17  24  58  79  49\n",
       "31  64  36  99  68  74  73  15  62"
      ],
      "text/html": "<div>\n<style scoped>\n    .dataframe tbody tr th:only-of-type {\n        vertical-align: middle;\n    }\n\n    .dataframe tbody tr th {\n        vertical-align: top;\n    }\n\n    .dataframe thead th {\n        text-align: right;\n    }\n</style>\n<table border=\"1\" class=\"dataframe\">\n  <thead>\n    <tr style=\"text-align: right;\">\n      <th></th>\n      <th>x</th>\n      <th>y</th>\n      <th>z</th>\n      <th>w</th>\n      <th>p</th>\n      <th>q</th>\n      <th>r</th>\n      <th>t</th>\n    </tr>\n    <tr>\n      <th>l</th>\n      <th></th>\n      <th></th>\n      <th></th>\n      <th></th>\n      <th></th>\n      <th></th>\n      <th></th>\n      <th></th>\n    </tr>\n  </thead>\n  <tbody>\n    <tr>\n      <th>68</th>\n      <td>68</td>\n      <td>50</td>\n      <td>59</td>\n      <td>11</td>\n      <td>91</td>\n      <td>16</td>\n      <td>63</td>\n      <td>53</td>\n    </tr>\n    <tr>\n      <th>93</th>\n      <td>84</td>\n      <td>37</td>\n      <td>99</td>\n      <td>91</td>\n      <td>68</td>\n      <td>52</td>\n      <td>3</td>\n      <td>27</td>\n    </tr>\n    <tr>\n      <th>40</th>\n      <td>45</td>\n      <td>79</td>\n      <td>33</td>\n      <td>99</td>\n      <td>26</td>\n      <td>18</td>\n      <td>51</td>\n      <td>66</td>\n    </tr>\n    <tr>\n      <th>55</th>\n      <td>34</td>\n      <td>21</td>\n      <td>93</td>\n      <td>17</td>\n      <td>24</td>\n      <td>58</td>\n      <td>79</td>\n      <td>49</td>\n    </tr>\n    <tr>\n      <th>31</th>\n      <td>64</td>\n      <td>36</td>\n      <td>99</td>\n      <td>68</td>\n      <td>74</td>\n      <td>73</td>\n      <td>15</td>\n      <td>62</td>\n    </tr>\n  </tbody>\n</table>\n</div>"
     },
     "metadata": {},
     "execution_count": 203
    }
   ],
   "source": [
    "df3.head() #first five indexes"
   ]
  },
  {
   "cell_type": "code",
   "execution_count": 204,
   "metadata": {},
   "outputs": [
    {
     "output_type": "execute_result",
     "data": {
      "text/plain": [
       "     x   y   z   w   p   q   r   t\n",
       "l                                 \n",
       "68  68  50  59  11  91  16  63  53\n",
       "93  84  37  99  91  68  52   3  27"
      ],
      "text/html": "<div>\n<style scoped>\n    .dataframe tbody tr th:only-of-type {\n        vertical-align: middle;\n    }\n\n    .dataframe tbody tr th {\n        vertical-align: top;\n    }\n\n    .dataframe thead th {\n        text-align: right;\n    }\n</style>\n<table border=\"1\" class=\"dataframe\">\n  <thead>\n    <tr style=\"text-align: right;\">\n      <th></th>\n      <th>x</th>\n      <th>y</th>\n      <th>z</th>\n      <th>w</th>\n      <th>p</th>\n      <th>q</th>\n      <th>r</th>\n      <th>t</th>\n    </tr>\n    <tr>\n      <th>l</th>\n      <th></th>\n      <th></th>\n      <th></th>\n      <th></th>\n      <th></th>\n      <th></th>\n      <th></th>\n      <th></th>\n    </tr>\n  </thead>\n  <tbody>\n    <tr>\n      <th>68</th>\n      <td>68</td>\n      <td>50</td>\n      <td>59</td>\n      <td>11</td>\n      <td>91</td>\n      <td>16</td>\n      <td>63</td>\n      <td>53</td>\n    </tr>\n    <tr>\n      <th>93</th>\n      <td>84</td>\n      <td>37</td>\n      <td>99</td>\n      <td>91</td>\n      <td>68</td>\n      <td>52</td>\n      <td>3</td>\n      <td>27</td>\n    </tr>\n  </tbody>\n</table>\n</div>"
     },
     "metadata": {},
     "execution_count": 204
    }
   ],
   "source": [
    "df3.head(2)#n number of indexes"
   ]
  },
  {
   "cell_type": "code",
   "execution_count": 205,
   "metadata": {},
   "outputs": [
    {
     "output_type": "execute_result",
     "data": {
      "text/plain": [
       "     x   y   z   w   p   q   r   t\n",
       "l                                 \n",
       "73  90  96  63  97  28  42  99   2\n",
       "86  31  48  13  34  44  30   8  23"
      ],
      "text/html": "<div>\n<style scoped>\n    .dataframe tbody tr th:only-of-type {\n        vertical-align: middle;\n    }\n\n    .dataframe tbody tr th {\n        vertical-align: top;\n    }\n\n    .dataframe thead th {\n        text-align: right;\n    }\n</style>\n<table border=\"1\" class=\"dataframe\">\n  <thead>\n    <tr style=\"text-align: right;\">\n      <th></th>\n      <th>x</th>\n      <th>y</th>\n      <th>z</th>\n      <th>w</th>\n      <th>p</th>\n      <th>q</th>\n      <th>r</th>\n      <th>t</th>\n    </tr>\n    <tr>\n      <th>l</th>\n      <th></th>\n      <th></th>\n      <th></th>\n      <th></th>\n      <th></th>\n      <th></th>\n      <th></th>\n      <th></th>\n    </tr>\n  </thead>\n  <tbody>\n    <tr>\n      <th>73</th>\n      <td>90</td>\n      <td>96</td>\n      <td>63</td>\n      <td>97</td>\n      <td>28</td>\n      <td>42</td>\n      <td>99</td>\n      <td>2</td>\n    </tr>\n    <tr>\n      <th>86</th>\n      <td>31</td>\n      <td>48</td>\n      <td>13</td>\n      <td>34</td>\n      <td>44</td>\n      <td>30</td>\n      <td>8</td>\n      <td>23</td>\n    </tr>\n  </tbody>\n</table>\n</div>"
     },
     "metadata": {},
     "execution_count": 205
    }
   ],
   "source": [
    "df3.tail(2)#last two indexes"
   ]
  },
  {
   "cell_type": "code",
   "execution_count": 206,
   "metadata": {},
   "outputs": [
    {
     "output_type": "execute_result",
     "data": {
      "text/plain": [
       "               x          y          z          w          p          q  \\\n",
       "count   7.000000   7.000000   7.000000   7.000000   7.000000   7.000000   \n",
       "mean   59.428571  52.428571  65.571429  59.571429  50.714286  41.285714   \n",
       "std    23.436845  26.222491  33.817437  38.383404  26.924055  21.250210   \n",
       "min    31.000000  21.000000  13.000000  11.000000  24.000000  16.000000   \n",
       "25%    39.500000  36.500000  46.000000  25.500000  27.000000  24.000000   \n",
       "50%    64.000000  48.000000  63.000000  68.000000  44.000000  42.000000   \n",
       "75%    76.000000  64.500000  96.000000  94.000000  71.000000  55.000000   \n",
       "max    90.000000  96.000000  99.000000  99.000000  91.000000  73.000000   \n",
       "\n",
       "               r          t  \n",
       "count   7.000000   7.000000  \n",
       "mean   45.428571  40.285714  \n",
       "std    37.558209  23.492653  \n",
       "min     3.000000   2.000000  \n",
       "25%    11.500000  25.000000  \n",
       "50%    51.000000  49.000000  \n",
       "75%    71.000000  57.500000  \n",
       "max    99.000000  66.000000  "
      ],
      "text/html": "<div>\n<style scoped>\n    .dataframe tbody tr th:only-of-type {\n        vertical-align: middle;\n    }\n\n    .dataframe tbody tr th {\n        vertical-align: top;\n    }\n\n    .dataframe thead th {\n        text-align: right;\n    }\n</style>\n<table border=\"1\" class=\"dataframe\">\n  <thead>\n    <tr style=\"text-align: right;\">\n      <th></th>\n      <th>x</th>\n      <th>y</th>\n      <th>z</th>\n      <th>w</th>\n      <th>p</th>\n      <th>q</th>\n      <th>r</th>\n      <th>t</th>\n    </tr>\n  </thead>\n  <tbody>\n    <tr>\n      <th>count</th>\n      <td>7.000000</td>\n      <td>7.000000</td>\n      <td>7.000000</td>\n      <td>7.000000</td>\n      <td>7.000000</td>\n      <td>7.000000</td>\n      <td>7.000000</td>\n      <td>7.000000</td>\n    </tr>\n    <tr>\n      <th>mean</th>\n      <td>59.428571</td>\n      <td>52.428571</td>\n      <td>65.571429</td>\n      <td>59.571429</td>\n      <td>50.714286</td>\n      <td>41.285714</td>\n      <td>45.428571</td>\n      <td>40.285714</td>\n    </tr>\n    <tr>\n      <th>std</th>\n      <td>23.436845</td>\n      <td>26.222491</td>\n      <td>33.817437</td>\n      <td>38.383404</td>\n      <td>26.924055</td>\n      <td>21.250210</td>\n      <td>37.558209</td>\n      <td>23.492653</td>\n    </tr>\n    <tr>\n      <th>min</th>\n      <td>31.000000</td>\n      <td>21.000000</td>\n      <td>13.000000</td>\n      <td>11.000000</td>\n      <td>24.000000</td>\n      <td>16.000000</td>\n      <td>3.000000</td>\n      <td>2.000000</td>\n    </tr>\n    <tr>\n      <th>25%</th>\n      <td>39.500000</td>\n      <td>36.500000</td>\n      <td>46.000000</td>\n      <td>25.500000</td>\n      <td>27.000000</td>\n      <td>24.000000</td>\n      <td>11.500000</td>\n      <td>25.000000</td>\n    </tr>\n    <tr>\n      <th>50%</th>\n      <td>64.000000</td>\n      <td>48.000000</td>\n      <td>63.000000</td>\n      <td>68.000000</td>\n      <td>44.000000</td>\n      <td>42.000000</td>\n      <td>51.000000</td>\n      <td>49.000000</td>\n    </tr>\n    <tr>\n      <th>75%</th>\n      <td>76.000000</td>\n      <td>64.500000</td>\n      <td>96.000000</td>\n      <td>94.000000</td>\n      <td>71.000000</td>\n      <td>55.000000</td>\n      <td>71.000000</td>\n      <td>57.500000</td>\n    </tr>\n    <tr>\n      <th>max</th>\n      <td>90.000000</td>\n      <td>96.000000</td>\n      <td>99.000000</td>\n      <td>99.000000</td>\n      <td>91.000000</td>\n      <td>73.000000</td>\n      <td>99.000000</td>\n      <td>66.000000</td>\n    </tr>\n  </tbody>\n</table>\n</div>"
     },
     "metadata": {},
     "execution_count": 206
    }
   ],
   "source": [
    "df3.describe()#statistical info\n",
    "#each row elemnst represent that col's description"
   ]
  },
  {
   "cell_type": "code",
   "execution_count": 207,
   "metadata": {},
   "outputs": [
    {
     "output_type": "execute_result",
     "data": {
      "text/plain": [
       "count     7.000000\n",
       "mean     59.428571\n",
       "std      23.436845\n",
       "min      31.000000\n",
       "25%      39.500000\n",
       "50%      64.000000\n",
       "75%      76.000000\n",
       "max      90.000000\n",
       "Name: x, dtype: float64"
      ]
     },
     "metadata": {},
     "execution_count": 207
    }
   ],
   "source": [
    "df3['x'].describe() #particular col info"
   ]
  },
  {
   "cell_type": "code",
   "execution_count": 208,
   "metadata": {},
   "outputs": [
    {
     "output_type": "stream",
     "name": "stdout",
     "text": [
      "<class 'pandas.core.frame.DataFrame'>\nInt64Index: 7 entries, 68 to 86\nData columns (total 8 columns):\n #   Column  Non-Null Count  Dtype\n---  ------  --------------  -----\n 0   x       7 non-null      int32\n 1   y       7 non-null      int32\n 2   z       7 non-null      int32\n 3   w       7 non-null      int32\n 4   p       7 non-null      int32\n 5   q       7 non-null      int32\n 6   r       7 non-null      int32\n 7   t       7 non-null      int32\ndtypes: int32(8)\nmemory usage: 280.0 bytes\n"
     ]
    }
   ],
   "source": [
    "df3.info() #each col info"
   ]
  },
  {
   "cell_type": "code",
   "execution_count": 209,
   "metadata": {},
   "outputs": [
    {
     "output_type": "execute_result",
     "data": {
      "text/plain": [
       "array([68, 84, 45, 34, 64, 90, 31])"
      ]
     },
     "metadata": {},
     "execution_count": 209
    }
   ],
   "source": [
    "df3['x'].unique() #all unique elements in that particular col"
   ]
  },
  {
   "cell_type": "code",
   "execution_count": 210,
   "metadata": {},
   "outputs": [
    {
     "output_type": "execute_result",
     "data": {
      "text/plain": [
       "84    1\n",
       "45    1\n",
       "90    1\n",
       "31    1\n",
       "68    1\n",
       "34    1\n",
       "64    1\n",
       "Name: x, dtype: int64"
      ]
     },
     "metadata": {},
     "execution_count": 210
    }
   ],
   "source": [
    "df3['x'].value_counts() #count of all elemnts in that particular row"
   ]
  },
  {
   "cell_type": "code",
   "execution_count": 211,
   "metadata": {},
   "outputs": [
    {
     "output_type": "execute_result",
     "data": {
      "text/plain": [
       "x    False\n",
       "y    False\n",
       "z    False\n",
       "w    False\n",
       "p    False\n",
       "q    False\n",
       "r    False\n",
       "t    False\n",
       "dtype: bool"
      ]
     },
     "metadata": {},
     "execution_count": 211
    }
   ],
   "source": [
    "df3.isnull().any() #if any missing/null elemnts in every col"
   ]
  },
  {
   "cell_type": "code",
   "execution_count": 212,
   "metadata": {},
   "outputs": [
    {
     "output_type": "execute_result",
     "data": {
      "text/plain": [
       "       x     y     z     w     p     q      r      t\n",
       "l                                                   \n",
       "68  True  True  True  True  True  True   True   True\n",
       "93  True  True  True  True  True  True  False   True\n",
       "40  True  True  True  True  True  True   True   True\n",
       "55  True  True  True  True  True  True   True   True\n",
       "31  True  True  True  True  True  True   True   True\n",
       "73  True  True  True  True  True  True   True  False\n",
       "86  True  True  True  True  True  True   True   True"
      ],
      "text/html": "<div>\n<style scoped>\n    .dataframe tbody tr th:only-of-type {\n        vertical-align: middle;\n    }\n\n    .dataframe tbody tr th {\n        vertical-align: top;\n    }\n\n    .dataframe thead th {\n        text-align: right;\n    }\n</style>\n<table border=\"1\" class=\"dataframe\">\n  <thead>\n    <tr style=\"text-align: right;\">\n      <th></th>\n      <th>x</th>\n      <th>y</th>\n      <th>z</th>\n      <th>w</th>\n      <th>p</th>\n      <th>q</th>\n      <th>r</th>\n      <th>t</th>\n    </tr>\n    <tr>\n      <th>l</th>\n      <th></th>\n      <th></th>\n      <th></th>\n      <th></th>\n      <th></th>\n      <th></th>\n      <th></th>\n      <th></th>\n    </tr>\n  </thead>\n  <tbody>\n    <tr>\n      <th>68</th>\n      <td>True</td>\n      <td>True</td>\n      <td>True</td>\n      <td>True</td>\n      <td>True</td>\n      <td>True</td>\n      <td>True</td>\n      <td>True</td>\n    </tr>\n    <tr>\n      <th>93</th>\n      <td>True</td>\n      <td>True</td>\n      <td>True</td>\n      <td>True</td>\n      <td>True</td>\n      <td>True</td>\n      <td>False</td>\n      <td>True</td>\n    </tr>\n    <tr>\n      <th>40</th>\n      <td>True</td>\n      <td>True</td>\n      <td>True</td>\n      <td>True</td>\n      <td>True</td>\n      <td>True</td>\n      <td>True</td>\n      <td>True</td>\n    </tr>\n    <tr>\n      <th>55</th>\n      <td>True</td>\n      <td>True</td>\n      <td>True</td>\n      <td>True</td>\n      <td>True</td>\n      <td>True</td>\n      <td>True</td>\n      <td>True</td>\n    </tr>\n    <tr>\n      <th>31</th>\n      <td>True</td>\n      <td>True</td>\n      <td>True</td>\n      <td>True</td>\n      <td>True</td>\n      <td>True</td>\n      <td>True</td>\n      <td>True</td>\n    </tr>\n    <tr>\n      <th>73</th>\n      <td>True</td>\n      <td>True</td>\n      <td>True</td>\n      <td>True</td>\n      <td>True</td>\n      <td>True</td>\n      <td>True</td>\n      <td>False</td>\n    </tr>\n    <tr>\n      <th>86</th>\n      <td>True</td>\n      <td>True</td>\n      <td>True</td>\n      <td>True</td>\n      <td>True</td>\n      <td>True</td>\n      <td>True</td>\n      <td>True</td>\n    </tr>\n  </tbody>\n</table>\n</div>"
     },
     "metadata": {},
     "execution_count": 212
    }
   ],
   "source": [
    "df3 > 5 #boolean operations directly on DF  "
   ]
  },
  {
   "cell_type": "code",
   "execution_count": 213,
   "metadata": {},
   "outputs": [],
   "source": [
    "df3.drop('t',axis=1,inplace=True)#remove that particular col"
   ]
  },
  {
   "cell_type": "code",
   "execution_count": 215,
   "metadata": {},
   "outputs": [],
   "source": [
    "df3.drop(86,inplace=True)#to remove a row"
   ]
  },
  {
   "cell_type": "code",
   "execution_count": 216,
   "metadata": {},
   "outputs": [
    {
     "output_type": "execute_result",
     "data": {
      "text/plain": [
       "     x   y   z   w   p   q   r\n",
       "l                             \n",
       "68  68  50  59  11  91  16  63\n",
       "93  84  37  99  91  68  52   3\n",
       "40  45  79  33  99  26  18  51\n",
       "55  34  21  93  17  24  58  79\n",
       "31  64  36  99  68  74  73  15\n",
       "73  90  96  63  97  28  42  99"
      ],
      "text/html": "<div>\n<style scoped>\n    .dataframe tbody tr th:only-of-type {\n        vertical-align: middle;\n    }\n\n    .dataframe tbody tr th {\n        vertical-align: top;\n    }\n\n    .dataframe thead th {\n        text-align: right;\n    }\n</style>\n<table border=\"1\" class=\"dataframe\">\n  <thead>\n    <tr style=\"text-align: right;\">\n      <th></th>\n      <th>x</th>\n      <th>y</th>\n      <th>z</th>\n      <th>w</th>\n      <th>p</th>\n      <th>q</th>\n      <th>r</th>\n    </tr>\n    <tr>\n      <th>l</th>\n      <th></th>\n      <th></th>\n      <th></th>\n      <th></th>\n      <th></th>\n      <th></th>\n      <th></th>\n    </tr>\n  </thead>\n  <tbody>\n    <tr>\n      <th>68</th>\n      <td>68</td>\n      <td>50</td>\n      <td>59</td>\n      <td>11</td>\n      <td>91</td>\n      <td>16</td>\n      <td>63</td>\n    </tr>\n    <tr>\n      <th>93</th>\n      <td>84</td>\n      <td>37</td>\n      <td>99</td>\n      <td>91</td>\n      <td>68</td>\n      <td>52</td>\n      <td>3</td>\n    </tr>\n    <tr>\n      <th>40</th>\n      <td>45</td>\n      <td>79</td>\n      <td>33</td>\n      <td>99</td>\n      <td>26</td>\n      <td>18</td>\n      <td>51</td>\n    </tr>\n    <tr>\n      <th>55</th>\n      <td>34</td>\n      <td>21</td>\n      <td>93</td>\n      <td>17</td>\n      <td>24</td>\n      <td>58</td>\n      <td>79</td>\n    </tr>\n    <tr>\n      <th>31</th>\n      <td>64</td>\n      <td>36</td>\n      <td>99</td>\n      <td>68</td>\n      <td>74</td>\n      <td>73</td>\n      <td>15</td>\n    </tr>\n    <tr>\n      <th>73</th>\n      <td>90</td>\n      <td>96</td>\n      <td>63</td>\n      <td>97</td>\n      <td>28</td>\n      <td>42</td>\n      <td>99</td>\n    </tr>\n  </tbody>\n</table>\n</div>"
     },
     "metadata": {},
     "execution_count": 216
    }
   ],
   "source": [
    "df3"
   ]
  },
  {
   "cell_type": "code",
   "execution_count": 32,
   "metadata": {},
   "outputs": [
    {
     "output_type": "execute_result",
     "data": {
      "text/plain": [
       "    x     y   z   w   p   q     r     l\n",
       "a  81  87.0  76  63  35  34   NaN  29.0\n",
       "b  56   NaN  44  83  30  21  98.0  49.0\n",
       "c  19  88.0  39  38  35  22  73.0   NaN\n",
       "d  67  81.0  45  90  80  71  17.0  69.0\n",
       "e  10  39.0  94  44  64  72  22.0   8.0\n",
       "g  86  52.0  96  52  31  20  17.0  82.0"
      ],
      "text/html": "<div>\n<style scoped>\n    .dataframe tbody tr th:only-of-type {\n        vertical-align: middle;\n    }\n\n    .dataframe tbody tr th {\n        vertical-align: top;\n    }\n\n    .dataframe thead th {\n        text-align: right;\n    }\n</style>\n<table border=\"1\" class=\"dataframe\">\n  <thead>\n    <tr style=\"text-align: right;\">\n      <th></th>\n      <th>x</th>\n      <th>y</th>\n      <th>z</th>\n      <th>w</th>\n      <th>p</th>\n      <th>q</th>\n      <th>r</th>\n      <th>l</th>\n    </tr>\n  </thead>\n  <tbody>\n    <tr>\n      <th>a</th>\n      <td>81</td>\n      <td>87.0</td>\n      <td>76</td>\n      <td>63</td>\n      <td>35</td>\n      <td>34</td>\n      <td>NaN</td>\n      <td>29.0</td>\n    </tr>\n    <tr>\n      <th>b</th>\n      <td>56</td>\n      <td>NaN</td>\n      <td>44</td>\n      <td>83</td>\n      <td>30</td>\n      <td>21</td>\n      <td>98.0</td>\n      <td>49.0</td>\n    </tr>\n    <tr>\n      <th>c</th>\n      <td>19</td>\n      <td>88.0</td>\n      <td>39</td>\n      <td>38</td>\n      <td>35</td>\n      <td>22</td>\n      <td>73.0</td>\n      <td>NaN</td>\n    </tr>\n    <tr>\n      <th>d</th>\n      <td>67</td>\n      <td>81.0</td>\n      <td>45</td>\n      <td>90</td>\n      <td>80</td>\n      <td>71</td>\n      <td>17.0</td>\n      <td>69.0</td>\n    </tr>\n    <tr>\n      <th>e</th>\n      <td>10</td>\n      <td>39.0</td>\n      <td>94</td>\n      <td>44</td>\n      <td>64</td>\n      <td>72</td>\n      <td>22.0</td>\n      <td>8.0</td>\n    </tr>\n    <tr>\n      <th>g</th>\n      <td>86</td>\n      <td>52.0</td>\n      <td>96</td>\n      <td>52</td>\n      <td>31</td>\n      <td>20</td>\n      <td>17.0</td>\n      <td>82.0</td>\n    </tr>\n  </tbody>\n</table>\n</div>"
     },
     "metadata": {},
     "execution_count": 32
    }
   ],
   "source": [
    "df4 = df3[df3 > 6] #elements retained if condition is true. if false it's replaced with NaN\n",
    "df4"
   ]
  },
  {
   "cell_type": "code",
   "execution_count": 33,
   "metadata": {},
   "outputs": [
    {
     "output_type": "execute_result",
     "data": {
      "text/plain": [
       "x    False\n",
       "y     True\n",
       "z    False\n",
       "w    False\n",
       "p    False\n",
       "q    False\n",
       "r     True\n",
       "l     True\n",
       "dtype: bool"
      ]
     },
     "metadata": {},
     "execution_count": 33
    }
   ],
   "source": [
    "df4.isnull().any()"
   ]
  },
  {
   "cell_type": "code",
   "execution_count": 34,
   "metadata": {},
   "outputs": [],
   "source": [
    "df4.fillna(df4['q'].mean(),inplace=True) #To replace NaN values with mean(can be done with  median,mode(here bif there are two modes then df4['col].mode()[0] - num can be the number of modes))"
   ]
  },
  {
   "cell_type": "code",
   "execution_count": 35,
   "metadata": {},
   "outputs": [
    {
     "output_type": "execute_result",
     "data": {
      "text/plain": [
       "    x     y   z   w   p   q     r     l\n",
       "a  81  87.0  76  63  35  34  40.0  29.0\n",
       "b  56  40.0  44  83  30  21  98.0  49.0\n",
       "c  19  88.0  39  38  35  22  73.0  40.0\n",
       "d  67  81.0  45  90  80  71  17.0  69.0\n",
       "e  10  39.0  94  44  64  72  22.0   8.0\n",
       "g  86  52.0  96  52  31  20  17.0  82.0"
      ],
      "text/html": "<div>\n<style scoped>\n    .dataframe tbody tr th:only-of-type {\n        vertical-align: middle;\n    }\n\n    .dataframe tbody tr th {\n        vertical-align: top;\n    }\n\n    .dataframe thead th {\n        text-align: right;\n    }\n</style>\n<table border=\"1\" class=\"dataframe\">\n  <thead>\n    <tr style=\"text-align: right;\">\n      <th></th>\n      <th>x</th>\n      <th>y</th>\n      <th>z</th>\n      <th>w</th>\n      <th>p</th>\n      <th>q</th>\n      <th>r</th>\n      <th>l</th>\n    </tr>\n  </thead>\n  <tbody>\n    <tr>\n      <th>a</th>\n      <td>81</td>\n      <td>87.0</td>\n      <td>76</td>\n      <td>63</td>\n      <td>35</td>\n      <td>34</td>\n      <td>40.0</td>\n      <td>29.0</td>\n    </tr>\n    <tr>\n      <th>b</th>\n      <td>56</td>\n      <td>40.0</td>\n      <td>44</td>\n      <td>83</td>\n      <td>30</td>\n      <td>21</td>\n      <td>98.0</td>\n      <td>49.0</td>\n    </tr>\n    <tr>\n      <th>c</th>\n      <td>19</td>\n      <td>88.0</td>\n      <td>39</td>\n      <td>38</td>\n      <td>35</td>\n      <td>22</td>\n      <td>73.0</td>\n      <td>40.0</td>\n    </tr>\n    <tr>\n      <th>d</th>\n      <td>67</td>\n      <td>81.0</td>\n      <td>45</td>\n      <td>90</td>\n      <td>80</td>\n      <td>71</td>\n      <td>17.0</td>\n      <td>69.0</td>\n    </tr>\n    <tr>\n      <th>e</th>\n      <td>10</td>\n      <td>39.0</td>\n      <td>94</td>\n      <td>44</td>\n      <td>64</td>\n      <td>72</td>\n      <td>22.0</td>\n      <td>8.0</td>\n    </tr>\n    <tr>\n      <th>g</th>\n      <td>86</td>\n      <td>52.0</td>\n      <td>96</td>\n      <td>52</td>\n      <td>31</td>\n      <td>20</td>\n      <td>17.0</td>\n      <td>82.0</td>\n    </tr>\n  </tbody>\n</table>\n</div>"
     },
     "metadata": {},
     "execution_count": 35
    }
   ],
   "source": [
    "df4"
   ]
  },
  {
   "cell_type": "code",
   "execution_count": 36,
   "metadata": {},
   "outputs": [
    {
     "output_type": "execute_result",
     "data": {
      "text/plain": [
       "x    False\n",
       "y    False\n",
       "z    False\n",
       "w    False\n",
       "p    False\n",
       "q    False\n",
       "r    False\n",
       "l    False\n",
       "dtype: bool"
      ]
     },
     "metadata": {},
     "execution_count": 36
    }
   ],
   "source": [
    "df4.isnull().any()"
   ]
  },
  {
   "cell_type": "code",
   "execution_count": null,
   "metadata": {},
   "outputs": [],
   "source": []
  }
 ]
}