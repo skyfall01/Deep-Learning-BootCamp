{
 "metadata": {
  "language_info": {
   "codemirror_mode": {
    "name": "ipython",
    "version": 3
   },
   "file_extension": ".py",
   "mimetype": "text/x-python",
   "name": "python",
   "nbconvert_exporter": "python",
   "pygments_lexer": "ipython3",
   "version": "3.6.8-final"
  },
  "orig_nbformat": 2,
  "kernelspec": {
   "name": "python3",
   "display_name": "Python 3",
   "language": "python"
  }
 },
 "nbformat": 4,
 "nbformat_minor": 2,
 "cells": [
  {
   "cell_type": "code",
   "execution_count": 56,
   "metadata": {},
   "outputs": [],
   "source": [
    "import numpy as np\n",
    "import matplotlib.pyplot as plt\n",
    "import pandas as pd"
   ]
  },
  {
   "cell_type": "code",
   "execution_count": 57,
   "metadata": {},
   "outputs": [],
   "source": [
    "dataset_train = pd.read_csv(r\"Google_Stock_Price_Train.csv\")"
   ]
  },
  {
   "cell_type": "code",
   "execution_count": 58,
   "metadata": {},
   "outputs": [],
   "source": [
    "train_set = dataset_train.iloc[:,1:2] #we will predict only opening values, so we grab 1st column\n",
    "#remember in rnn, i/p and o/p is same\n",
    "train_set = train_set.values"
   ]
  },
  {
   "cell_type": "code",
   "execution_count": 59,
   "metadata": {},
   "outputs": [],
   "source": [
    "#standard scaling to convert values b/w specific range. here we use minmaxscaler(0 to 1)\n",
    "from sklearn.preprocessing import MinMaxScaler\n",
    "sc = MinMaxScaler()\n",
    "train_set = sc.fit_transform(train_set)"
   ]
  },
  {
   "cell_type": "code",
   "execution_count": 60,
   "metadata": {},
   "outputs": [],
   "source": [
    "#To split b/w i/p and o/p we can decide no of rows are i/p's to a specific output\n",
    "#Remember i/p and o/p is same in rnn\n",
    "#ex: 0-60 rows i/p\n",
    "#61 row - o/p\n",
    "#1-61 - i/p\n",
    "#62 - o/p\n",
    "#here we decide for every o/p 60 rows of i/p data is req\n",
    "x_train = []\n",
    "y_train = []\n",
    "for i in range(60,dataset_train.shape[0]):\n",
    "    x_train.append(train_set[i-60:i,0]) #array([0.9,0.3,....]) is appended to list literally\n",
    "    y_train.append(train_set[i,0])\n",
    " \n",
    "x_train,y_train = np.array(x_train),np.array(y_train)#Now evry 60 elements become columns"
   ]
  },
  {
   "source": [
    "x_train.shape"
   ],
   "cell_type": "code",
   "metadata": {},
   "execution_count": 61,
   "outputs": [
    {
     "output_type": "execute_result",
     "data": {
      "text/plain": [
       "(1198, 60)"
      ]
     },
     "metadata": {},
     "execution_count": 61
    }
   ]
  },
  {
   "cell_type": "code",
   "execution_count": 62,
   "metadata": {},
   "outputs": [],
   "source": [
    "x_train = np.reshape(x_train,(x_train.shape[0],x_train.shape[1],1))#just like cnn, rnn needs 3 dimensions"
   ]
  },
  {
   "cell_type": "code",
   "execution_count": 63,
   "metadata": {},
   "outputs": [],
   "source": [
    "from keras.models import Sequential\n",
    "from keras.layers import Dense\n",
    "from keras.layers import LSTM\n",
    "from keras.layers import Dropout"
   ]
  },
  {
   "cell_type": "code",
   "execution_count": 64,
   "metadata": {},
   "outputs": [],
   "source": [
    "model = Sequential()\n",
    "model.add(LSTM(units=60, return_sequences=True,input_shape = (x_train.shape[1],1)))#return seq being true means we will add more LSTM layers afterwards\n",
    "model.add(Dropout(0.2))#if there are repeated values in training data, it will omit them. 0.2 indicates if > 20% repitions, omit them i think\n",
    "model.add(LSTM(units=60, return_sequences=True))\n",
    "model.add(Dropout(0.2))\n",
    "model.add(LSTM(units=60))\n",
    "model.add(Dropout(0.2))\n",
    "#I think 3 LSTM layers for three gates as seen in 13_rnn.ipynb\n",
    "model.add(Dense(units=1))"
   ]
  },
  {
   "cell_type": "code",
   "execution_count": 65,
   "metadata": {},
   "outputs": [],
   "source": [
    "model.compile(optimizer=\"adam\",loss=\"mse\",metrics=[\"mse\"])"
   ]
  },
  {
   "cell_type": "code",
   "execution_count": 66,
   "metadata": {
    "tags": [
     "outputPrepend"
    ]
   },
   "outputs": [
    {
     "output_type": "stream",
     "name": "stdout",
     "text": [
      "=================] - 1s 24ms/step - loss: 6.6904e-04 - mse: 6.6904e-04\n",
      "Epoch 813/1000\n",
      "38/38 [==============================] - 1s 23ms/step - loss: 6.7467e-04 - mse: 6.7467e-04\n",
      "Epoch 814/1000\n",
      "38/38 [==============================] - 1s 25ms/step - loss: 6.9627e-04 - mse: 6.9627e-04\n",
      "Epoch 815/1000\n",
      "38/38 [==============================] - 1s 24ms/step - loss: 6.6468e-04 - mse: 6.6468e-04\n",
      "Epoch 816/1000\n",
      "38/38 [==============================] - 1s 23ms/step - loss: 7.1465e-04 - mse: 7.1465e-04\n",
      "Epoch 817/1000\n",
      "38/38 [==============================] - 1s 23ms/step - loss: 7.2294e-04 - mse: 7.2294e-04\n",
      "Epoch 818/1000\n",
      "38/38 [==============================] - 1s 23ms/step - loss: 6.8483e-04 - mse: 6.8483e-04\n",
      "Epoch 819/1000\n",
      "38/38 [==============================] - 1s 24ms/step - loss: 7.4790e-04 - mse: 7.4790e-04\n",
      "Epoch 820/1000\n",
      "38/38 [==============================] - 1s 24ms/step - loss: 7.2047e-04 - mse: 7.2047e-04\n",
      "Epoch 821/1000\n",
      "38/38 [==============================] - 1s 23ms/step - loss: 7.0882e-04 - mse: 7.0882e-04\n",
      "Epoch 822/1000\n",
      "38/38 [==============================] - 1s 24ms/step - loss: 6.8552e-04 - mse: 6.8552e-04\n",
      "Epoch 823/1000\n",
      "38/38 [==============================] - 1s 23ms/step - loss: 6.6799e-04 - mse: 6.6799e-04\n",
      "Epoch 824/1000\n",
      "38/38 [==============================] - 1s 24ms/step - loss: 6.6655e-04 - mse: 6.6655e-04\n",
      "Epoch 825/1000\n",
      "38/38 [==============================] - 1s 24ms/step - loss: 7.1739e-04 - mse: 7.1739e-04\n",
      "Epoch 826/1000\n",
      "38/38 [==============================] - 1s 24ms/step - loss: 6.8722e-04 - mse: 6.8722e-04\n",
      "Epoch 827/1000\n",
      "38/38 [==============================] - 1s 25ms/step - loss: 6.5258e-04 - mse: 6.5258e-04\n",
      "Epoch 828/1000\n",
      "38/38 [==============================] - 1s 23ms/step - loss: 6.0955e-04 - mse: 6.0955e-04\n",
      "Epoch 829/1000\n",
      "38/38 [==============================] - 1s 23ms/step - loss: 7.0413e-04 - mse: 7.0413e-04\n",
      "Epoch 830/1000\n",
      "38/38 [==============================] - 1s 24ms/step - loss: 6.9437e-04 - mse: 6.9437e-04\n",
      "Epoch 831/1000\n",
      "38/38 [==============================] - 1s 24ms/step - loss: 7.5446e-04 - mse: 7.5446e-04\n",
      "Epoch 832/1000\n",
      "38/38 [==============================] - 1s 23ms/step - loss: 7.7618e-04 - mse: 7.7618e-04\n",
      "Epoch 833/1000\n",
      "38/38 [==============================] - 1s 26ms/step - loss: 7.0726e-04 - mse: 7.0726e-04\n",
      "Epoch 834/1000\n",
      "38/38 [==============================] - 1s 23ms/step - loss: 7.2825e-04 - mse: 7.2825e-04\n",
      "Epoch 835/1000\n",
      "38/38 [==============================] - 1s 23ms/step - loss: 6.6423e-04 - mse: 6.6423e-04\n",
      "Epoch 836/1000\n",
      "38/38 [==============================] - 1s 24ms/step - loss: 6.6253e-04 - mse: 6.6253e-04\n",
      "Epoch 837/1000\n",
      "38/38 [==============================] - 1s 24ms/step - loss: 7.7030e-04 - mse: 7.7030e-04\n",
      "Epoch 838/1000\n",
      "38/38 [==============================] - 1s 23ms/step - loss: 6.7632e-04 - mse: 6.7632e-04\n",
      "Epoch 839/1000\n",
      "38/38 [==============================] - 1s 23ms/step - loss: 6.7542e-04 - mse: 6.7542e-04\n",
      "Epoch 840/1000\n",
      "38/38 [==============================] - 1s 24ms/step - loss: 8.2149e-04 - mse: 8.2149e-04\n",
      "Epoch 841/1000\n",
      "38/38 [==============================] - 1s 23ms/step - loss: 7.0457e-04 - mse: 7.0457e-04\n",
      "Epoch 842/1000\n",
      "38/38 [==============================] - 1s 24ms/step - loss: 6.6262e-04 - mse: 6.6262e-04\n",
      "Epoch 843/1000\n",
      "38/38 [==============================] - 1s 24ms/step - loss: 6.5886e-04 - mse: 6.5886e-04\n",
      "Epoch 844/1000\n",
      "38/38 [==============================] - 1s 24ms/step - loss: 6.9556e-04 - mse: 6.9556e-04\n",
      "Epoch 845/1000\n",
      "38/38 [==============================] - 1s 24ms/step - loss: 6.4106e-04 - mse: 6.4106e-04\n",
      "Epoch 846/1000\n",
      "38/38 [==============================] - 1s 23ms/step - loss: 6.6190e-04 - mse: 6.6190e-04\n",
      "Epoch 847/1000\n",
      "38/38 [==============================] - 1s 23ms/step - loss: 6.5456e-04 - mse: 6.5456e-04\n",
      "Epoch 848/1000\n",
      "38/38 [==============================] - 1s 23ms/step - loss: 7.2808e-04 - mse: 7.2808e-04\n",
      "Epoch 849/1000\n",
      "38/38 [==============================] - 1s 24ms/step - loss: 6.9740e-04 - mse: 6.9740e-04\n",
      "Epoch 850/1000\n",
      "38/38 [==============================] - 1s 24ms/step - loss: 7.3141e-04 - mse: 7.3141e-04\n",
      "Epoch 851/1000\n",
      "38/38 [==============================] - 1s 24ms/step - loss: 6.8955e-04 - mse: 6.8955e-04\n",
      "Epoch 852/1000\n",
      "38/38 [==============================] - 1s 24ms/step - loss: 7.5590e-04 - mse: 7.5590e-04\n",
      "Epoch 853/1000\n",
      "38/38 [==============================] - 1s 23ms/step - loss: 6.5982e-04 - mse: 6.5982e-04\n",
      "Epoch 854/1000\n",
      "38/38 [==============================] - 1s 23ms/step - loss: 6.2377e-04 - mse: 6.2377e-04\n",
      "Epoch 855/1000\n",
      "38/38 [==============================] - 1s 23ms/step - loss: 6.8391e-04 - mse: 6.8391e-04\n",
      "Epoch 856/1000\n",
      "38/38 [==============================] - 1s 23ms/step - loss: 7.1157e-04 - mse: 7.1157e-04\n",
      "Epoch 857/1000\n",
      "38/38 [==============================] - 1s 24ms/step - loss: 6.7081e-04 - mse: 6.7081e-04\n",
      "Epoch 858/1000\n",
      "38/38 [==============================] - 1s 23ms/step - loss: 7.4056e-04 - mse: 7.4056e-04\n",
      "Epoch 859/1000\n",
      "38/38 [==============================] - 1s 24ms/step - loss: 6.5839e-04 - mse: 6.5839e-04\n",
      "Epoch 860/1000\n",
      "38/38 [==============================] - 1s 24ms/step - loss: 6.4019e-04 - mse: 6.4019e-04\n",
      "Epoch 861/1000\n",
      "38/38 [==============================] - 1s 24ms/step - loss: 7.1145e-04 - mse: 7.1145e-04\n",
      "Epoch 862/1000\n",
      "38/38 [==============================] - 1s 29ms/step - loss: 6.6561e-04 - mse: 6.6561e-04\n",
      "Epoch 863/1000\n",
      "38/38 [==============================] - 1s 23ms/step - loss: 6.4528e-04 - mse: 6.4528e-04\n",
      "Epoch 864/1000\n",
      "38/38 [==============================] - 1s 24ms/step - loss: 6.5568e-04 - mse: 6.5568e-04\n",
      "Epoch 865/1000\n",
      "38/38 [==============================] - 1s 23ms/step - loss: 7.0040e-04 - mse: 7.0040e-04\n",
      "Epoch 866/1000\n",
      "38/38 [==============================] - 1s 23ms/step - loss: 6.9915e-04 - mse: 6.9915e-04\n",
      "Epoch 867/1000\n",
      "38/38 [==============================] - 1s 24ms/step - loss: 6.5659e-04 - mse: 6.5659e-04\n",
      "Epoch 868/1000\n",
      "38/38 [==============================] - 1s 23ms/step - loss: 6.4829e-04 - mse: 6.4829e-04\n",
      "Epoch 869/1000\n",
      "38/38 [==============================] - 1s 24ms/step - loss: 7.4454e-04 - mse: 7.4454e-04\n",
      "Epoch 870/1000\n",
      "38/38 [==============================] - 1s 24ms/step - loss: 6.1386e-04 - mse: 6.1386e-04\n",
      "Epoch 871/1000\n",
      "38/38 [==============================] - 1s 25ms/step - loss: 7.0351e-04 - mse: 7.0351e-04\n",
      "Epoch 872/1000\n",
      "38/38 [==============================] - 1s 23ms/step - loss: 6.4138e-04 - mse: 6.4138e-04\n",
      "Epoch 873/1000\n",
      "38/38 [==============================] - 1s 23ms/step - loss: 6.9898e-04 - mse: 6.9898e-04\n",
      "Epoch 874/1000\n",
      "38/38 [==============================] - 1s 24ms/step - loss: 6.4823e-04 - mse: 6.4823e-04\n",
      "Epoch 875/1000\n",
      "38/38 [==============================] - 1s 23ms/step - loss: 6.9128e-04 - mse: 6.9128e-04\n",
      "Epoch 876/1000\n",
      "38/38 [==============================] - 1s 25ms/step - loss: 7.1655e-04 - mse: 7.1655e-04\n",
      "Epoch 877/1000\n",
      "38/38 [==============================] - 1s 24ms/step - loss: 6.8245e-04 - mse: 6.8245e-04\n",
      "Epoch 878/1000\n",
      "38/38 [==============================] - 1s 23ms/step - loss: 6.6418e-04 - mse: 6.6418e-04\n",
      "Epoch 879/1000\n",
      "38/38 [==============================] - 1s 24ms/step - loss: 6.3800e-04 - mse: 6.3800e-04\n",
      "Epoch 880/1000\n",
      "38/38 [==============================] - 1s 24ms/step - loss: 7.0424e-04 - mse: 7.0424e-04\n",
      "Epoch 881/1000\n",
      "38/38 [==============================] - 1s 24ms/step - loss: 7.2632e-04 - mse: 7.2632e-04\n",
      "Epoch 882/1000\n",
      "38/38 [==============================] - 1s 23ms/step - loss: 7.0079e-04 - mse: 7.0079e-04\n",
      "Epoch 883/1000\n",
      "38/38 [==============================] - 1s 24ms/step - loss: 6.5245e-04 - mse: 6.5245e-04\n",
      "Epoch 884/1000\n",
      "38/38 [==============================] - 1s 24ms/step - loss: 6.3047e-04 - mse: 6.3047e-04\n",
      "Epoch 885/1000\n",
      "38/38 [==============================] - 1s 24ms/step - loss: 6.4920e-04 - mse: 6.4920e-04\n",
      "Epoch 886/1000\n",
      "38/38 [==============================] - 1s 24ms/step - loss: 6.1652e-04 - mse: 6.1652e-04\n",
      "Epoch 887/1000\n",
      "38/38 [==============================] - 1s 23ms/step - loss: 6.0276e-04 - mse: 6.0276e-04\n",
      "Epoch 888/1000\n",
      "38/38 [==============================] - 1s 25ms/step - loss: 7.2582e-04 - mse: 7.2582e-04\n",
      "Epoch 889/1000\n",
      "38/38 [==============================] - 1s 23ms/step - loss: 6.3651e-04 - mse: 6.3651e-04\n",
      "Epoch 890/1000\n",
      "38/38 [==============================] - 1s 24ms/step - loss: 7.0030e-04 - mse: 7.0030e-04\n",
      "Epoch 891/1000\n",
      "38/38 [==============================] - 1s 25ms/step - loss: 6.3302e-04 - mse: 6.3302e-04\n",
      "Epoch 892/1000\n",
      "38/38 [==============================] - 1s 23ms/step - loss: 7.4458e-04 - mse: 7.4458e-04\n",
      "Epoch 893/1000\n",
      "38/38 [==============================] - 1s 24ms/step - loss: 7.0081e-04 - mse: 7.0081e-04\n",
      "Epoch 894/1000\n",
      "38/38 [==============================] - 1s 23ms/step - loss: 6.5196e-04 - mse: 6.5196e-04\n",
      "Epoch 895/1000\n",
      "38/38 [==============================] - 1s 23ms/step - loss: 6.8079e-04 - mse: 6.8079e-04\n",
      "Epoch 896/1000\n",
      "38/38 [==============================] - 1s 24ms/step - loss: 7.2930e-04 - mse: 7.2930e-04\n",
      "Epoch 897/1000\n",
      "38/38 [==============================] - 1s 23ms/step - loss: 7.1706e-04 - mse: 7.1706e-04\n",
      "Epoch 898/1000\n",
      "38/38 [==============================] - 1s 23ms/step - loss: 6.2171e-04 - mse: 6.2171e-04\n",
      "Epoch 899/1000\n",
      "38/38 [==============================] - 1s 24ms/step - loss: 6.8162e-04 - mse: 6.8162e-04\n",
      "Epoch 900/1000\n",
      "38/38 [==============================] - 1s 23ms/step - loss: 6.5322e-04 - mse: 6.5322e-04\n",
      "Epoch 901/1000\n",
      "38/38 [==============================] - 1s 24ms/step - loss: 6.5685e-04 - mse: 6.5685e-04\n",
      "Epoch 902/1000\n",
      "38/38 [==============================] - 1s 23ms/step - loss: 6.7123e-04 - mse: 6.7123e-04\n",
      "Epoch 903/1000\n",
      "38/38 [==============================] - 1s 25ms/step - loss: 6.4302e-04 - mse: 6.4302e-04\n",
      "Epoch 904/1000\n",
      "38/38 [==============================] - 1s 24ms/step - loss: 6.6385e-04 - mse: 6.6385e-04\n",
      "Epoch 905/1000\n",
      "38/38 [==============================] - 1s 24ms/step - loss: 6.9925e-04 - mse: 6.9925e-04\n",
      "Epoch 906/1000\n",
      "38/38 [==============================] - 1s 23ms/step - loss: 7.5850e-04 - mse: 7.5850e-04\n",
      "Epoch 907/1000\n",
      "38/38 [==============================] - 1s 23ms/step - loss: 6.4438e-04 - mse: 6.4438e-04\n",
      "Epoch 908/1000\n",
      "38/38 [==============================] - 1s 23ms/step - loss: 6.6204e-04 - mse: 6.6204e-04\n",
      "Epoch 909/1000\n",
      "38/38 [==============================] - 1s 23ms/step - loss: 6.7002e-04 - mse: 6.7002e-04\n",
      "Epoch 910/1000\n",
      "38/38 [==============================] - 1s 24ms/step - loss: 8.4601e-04 - mse: 8.4601e-04\n",
      "Epoch 911/1000\n",
      "38/38 [==============================] - 1s 24ms/step - loss: 6.5037e-04 - mse: 6.5037e-04\n",
      "Epoch 912/1000\n",
      "38/38 [==============================] - 1s 24ms/step - loss: 7.1051e-04 - mse: 7.1051e-04\n",
      "Epoch 913/1000\n",
      "38/38 [==============================] - 1s 24ms/step - loss: 6.7699e-04 - mse: 6.7699e-04\n",
      "Epoch 914/1000\n",
      "38/38 [==============================] - 1s 23ms/step - loss: 7.2068e-04 - mse: 7.2068e-04\n",
      "Epoch 915/1000\n",
      "38/38 [==============================] - 1s 24ms/step - loss: 7.4029e-04 - mse: 7.4029e-04\n",
      "Epoch 916/1000\n",
      "38/38 [==============================] - 1s 24ms/step - loss: 7.1446e-04 - mse: 7.1446e-04\n",
      "Epoch 917/1000\n",
      "38/38 [==============================] - 1s 25ms/step - loss: 7.0787e-04 - mse: 7.0787e-04\n",
      "Epoch 918/1000\n",
      "38/38 [==============================] - 1s 24ms/step - loss: 7.2199e-04 - mse: 7.2199e-04\n",
      "Epoch 919/1000\n",
      "38/38 [==============================] - 1s 24ms/step - loss: 6.8715e-04 - mse: 6.8715e-04\n",
      "Epoch 920/1000\n",
      "38/38 [==============================] - 1s 24ms/step - loss: 6.5128e-04 - mse: 6.5128e-04\n",
      "Epoch 921/1000\n",
      "38/38 [==============================] - 1s 24ms/step - loss: 7.0385e-04 - mse: 7.0385e-04\n",
      "Epoch 922/1000\n",
      "38/38 [==============================] - 1s 23ms/step - loss: 6.6572e-04 - mse: 6.6572e-04\n",
      "Epoch 923/1000\n",
      "38/38 [==============================] - 1s 24ms/step - loss: 7.1101e-04 - mse: 7.1101e-04\n",
      "Epoch 924/1000\n",
      "38/38 [==============================] - 1s 24ms/step - loss: 6.2454e-04 - mse: 6.2454e-04\n",
      "Epoch 925/1000\n",
      "38/38 [==============================] - 1s 24ms/step - loss: 7.1272e-04 - mse: 7.1272e-04\n",
      "Epoch 926/1000\n",
      "38/38 [==============================] - 1s 22ms/step - loss: 6.7923e-04 - mse: 6.7923e-04\n",
      "Epoch 927/1000\n",
      "38/38 [==============================] - 1s 24ms/step - loss: 6.6805e-04 - mse: 6.6805e-04\n",
      "Epoch 928/1000\n",
      "38/38 [==============================] - 1s 24ms/step - loss: 7.2860e-04 - mse: 7.2860e-04\n",
      "Epoch 929/1000\n",
      "38/38 [==============================] - 1s 24ms/step - loss: 6.2562e-04 - mse: 6.2562e-04\n",
      "Epoch 930/1000\n",
      "38/38 [==============================] - 1s 24ms/step - loss: 6.6715e-04 - mse: 6.6715e-04\n",
      "Epoch 931/1000\n",
      "38/38 [==============================] - 1s 23ms/step - loss: 6.2765e-04 - mse: 6.2765e-04\n",
      "Epoch 932/1000\n",
      "38/38 [==============================] - 1s 24ms/step - loss: 6.6039e-04 - mse: 6.6039e-04\n",
      "Epoch 933/1000\n",
      "38/38 [==============================] - 1s 24ms/step - loss: 7.1928e-04 - mse: 7.1928e-04\n",
      "Epoch 934/1000\n",
      "38/38 [==============================] - 1s 23ms/step - loss: 6.1442e-04 - mse: 6.1442e-04\n",
      "Epoch 935/1000\n",
      "38/38 [==============================] - 1s 23ms/step - loss: 6.1740e-04 - mse: 6.1740e-04\n",
      "Epoch 936/1000\n",
      "38/38 [==============================] - 1s 23ms/step - loss: 6.7418e-04 - mse: 6.7418e-04\n",
      "Epoch 937/1000\n",
      "38/38 [==============================] - 1s 23ms/step - loss: 7.5496e-04 - mse: 7.5496e-04\n",
      "Epoch 938/1000\n",
      "38/38 [==============================] - 1s 24ms/step - loss: 6.8832e-04 - mse: 6.8832e-04\n",
      "Epoch 939/1000\n",
      "38/38 [==============================] - 1s 24ms/step - loss: 7.2502e-04 - mse: 7.2502e-04\n",
      "Epoch 940/1000\n",
      "38/38 [==============================] - 1s 25ms/step - loss: 6.9764e-04 - mse: 6.9764e-04\n",
      "Epoch 941/1000\n",
      "38/38 [==============================] - 1s 25ms/step - loss: 7.3645e-04 - mse: 7.3645e-04\n",
      "Epoch 942/1000\n",
      "38/38 [==============================] - 1s 25ms/step - loss: 6.6570e-04 - mse: 6.6570e-04\n",
      "Epoch 943/1000\n",
      "38/38 [==============================] - 1s 23ms/step - loss: 6.7170e-04 - mse: 6.7170e-04\n",
      "Epoch 944/1000\n",
      "38/38 [==============================] - 1s 23ms/step - loss: 7.4844e-04 - mse: 7.4844e-04\n",
      "Epoch 945/1000\n",
      "38/38 [==============================] - 1s 23ms/step - loss: 6.3219e-04 - mse: 6.3219e-04\n",
      "Epoch 946/1000\n",
      "38/38 [==============================] - 1s 23ms/step - loss: 7.1862e-04 - mse: 7.1862e-04\n",
      "Epoch 947/1000\n",
      "38/38 [==============================] - 1s 25ms/step - loss: 6.3104e-04 - mse: 6.3104e-04\n",
      "Epoch 948/1000\n",
      "38/38 [==============================] - 1s 26ms/step - loss: 6.1203e-04 - mse: 6.1203e-04\n",
      "Epoch 949/1000\n",
      "38/38 [==============================] - 1s 24ms/step - loss: 6.4692e-04 - mse: 6.4692e-04\n",
      "Epoch 950/1000\n",
      "38/38 [==============================] - 1s 24ms/step - loss: 5.9631e-04 - mse: 5.9631e-04\n",
      "Epoch 951/1000\n",
      "38/38 [==============================] - 1s 24ms/step - loss: 6.7006e-04 - mse: 6.7006e-04\n",
      "Epoch 952/1000\n",
      "38/38 [==============================] - 1s 24ms/step - loss: 6.4727e-04 - mse: 6.4727e-04\n",
      "Epoch 953/1000\n",
      "38/38 [==============================] - 1s 23ms/step - loss: 7.1852e-04 - mse: 7.1852e-04\n",
      "Epoch 954/1000\n",
      "38/38 [==============================] - 1s 23ms/step - loss: 7.0448e-04 - mse: 7.0448e-04\n",
      "Epoch 955/1000\n",
      "38/38 [==============================] - 1s 26ms/step - loss: 6.8031e-04 - mse: 6.8031e-04\n",
      "Epoch 956/1000\n",
      "38/38 [==============================] - 1s 24ms/step - loss: 7.1505e-04 - mse: 7.1505e-04\n",
      "Epoch 957/1000\n",
      "38/38 [==============================] - 1s 23ms/step - loss: 7.3513e-04 - mse: 7.3513e-04\n",
      "Epoch 958/1000\n",
      "38/38 [==============================] - 1s 24ms/step - loss: 6.6550e-04 - mse: 6.6550e-04\n",
      "Epoch 959/1000\n",
      "38/38 [==============================] - 1s 23ms/step - loss: 6.7568e-04 - mse: 6.7568e-04\n",
      "Epoch 960/1000\n",
      "38/38 [==============================] - 1s 24ms/step - loss: 7.1646e-04 - mse: 7.1646e-04\n",
      "Epoch 961/1000\n",
      "38/38 [==============================] - 1s 24ms/step - loss: 6.4217e-04 - mse: 6.4217e-04\n",
      "Epoch 962/1000\n",
      "38/38 [==============================] - 1s 24ms/step - loss: 6.0910e-04 - mse: 6.0910e-04\n",
      "Epoch 963/1000\n",
      "38/38 [==============================] - 1s 24ms/step - loss: 6.3934e-04 - mse: 6.3934e-04\n",
      "Epoch 964/1000\n",
      "38/38 [==============================] - 1s 23ms/step - loss: 6.5168e-04 - mse: 6.5168e-04\n",
      "Epoch 965/1000\n",
      "38/38 [==============================] - 1s 24ms/step - loss: 6.3901e-04 - mse: 6.3901e-04\n",
      "Epoch 966/1000\n",
      "38/38 [==============================] - 1s 23ms/step - loss: 6.6639e-04 - mse: 6.6639e-04\n",
      "Epoch 967/1000\n",
      "38/38 [==============================] - 1s 25ms/step - loss: 6.9214e-04 - mse: 6.9214e-04\n",
      "Epoch 968/1000\n",
      "38/38 [==============================] - 1s 24ms/step - loss: 6.7139e-04 - mse: 6.7139e-04\n",
      "Epoch 969/1000\n",
      "38/38 [==============================] - 1s 23ms/step - loss: 6.6871e-04 - mse: 6.6871e-04\n",
      "Epoch 970/1000\n",
      "38/38 [==============================] - 1s 23ms/step - loss: 6.4931e-04 - mse: 6.4931e-04\n",
      "Epoch 971/1000\n",
      "38/38 [==============================] - 1s 24ms/step - loss: 6.6280e-04 - mse: 6.6280e-04\n",
      "Epoch 972/1000\n",
      "38/38 [==============================] - 1s 23ms/step - loss: 6.7214e-04 - mse: 6.7214e-04\n",
      "Epoch 973/1000\n",
      "38/38 [==============================] - 1s 24ms/step - loss: 7.1091e-04 - mse: 7.1091e-04\n",
      "Epoch 974/1000\n",
      "38/38 [==============================] - 1s 24ms/step - loss: 6.1177e-04 - mse: 6.1177e-04\n",
      "Epoch 975/1000\n",
      "38/38 [==============================] - 1s 23ms/step - loss: 6.8380e-04 - mse: 6.8380e-04\n",
      "Epoch 976/1000\n",
      "38/38 [==============================] - 1s 24ms/step - loss: 6.4787e-04 - mse: 6.4787e-04\n",
      "Epoch 977/1000\n",
      "38/38 [==============================] - 1s 23ms/step - loss: 7.0763e-04 - mse: 7.0763e-04\n",
      "Epoch 978/1000\n",
      "38/38 [==============================] - 1s 24ms/step - loss: 6.0948e-04 - mse: 6.0948e-04\n",
      "Epoch 979/1000\n",
      "38/38 [==============================] - 1s 23ms/step - loss: 6.3480e-04 - mse: 6.3480e-04\n",
      "Epoch 980/1000\n",
      "38/38 [==============================] - 1s 24ms/step - loss: 6.5362e-04 - mse: 6.5362e-04\n",
      "Epoch 981/1000\n",
      "38/38 [==============================] - 1s 26ms/step - loss: 8.0433e-04 - mse: 8.0433e-04\n",
      "Epoch 982/1000\n",
      "38/38 [==============================] - 1s 24ms/step - loss: 6.5364e-04 - mse: 6.5364e-04\n",
      "Epoch 983/1000\n",
      "38/38 [==============================] - 1s 24ms/step - loss: 7.0555e-04 - mse: 7.0555e-04\n",
      "Epoch 984/1000\n",
      "38/38 [==============================] - 1s 23ms/step - loss: 6.6077e-04 - mse: 6.6077e-04\n",
      "Epoch 985/1000\n",
      "38/38 [==============================] - 1s 24ms/step - loss: 6.9308e-04 - mse: 6.9308e-04\n",
      "Epoch 986/1000\n",
      "38/38 [==============================] - 1s 24ms/step - loss: 6.6417e-04 - mse: 6.6417e-04\n",
      "Epoch 987/1000\n",
      "38/38 [==============================] - 1s 24ms/step - loss: 5.9242e-04 - mse: 5.9242e-04\n",
      "Epoch 988/1000\n",
      "38/38 [==============================] - 1s 23ms/step - loss: 6.9864e-04 - mse: 6.9864e-04\n",
      "Epoch 989/1000\n",
      "38/38 [==============================] - 1s 23ms/step - loss: 6.5009e-04 - mse: 6.5009e-04\n",
      "Epoch 990/1000\n",
      "38/38 [==============================] - 1s 25ms/step - loss: 6.7453e-04 - mse: 6.7453e-04\n",
      "Epoch 991/1000\n",
      "38/38 [==============================] - 1s 23ms/step - loss: 6.2654e-04 - mse: 6.2654e-04\n",
      "Epoch 992/1000\n",
      "38/38 [==============================] - 1s 23ms/step - loss: 6.3118e-04 - mse: 6.3118e-04\n",
      "Epoch 993/1000\n",
      "38/38 [==============================] - 1s 24ms/step - loss: 6.8228e-04 - mse: 6.8228e-04\n",
      "Epoch 994/1000\n",
      "38/38 [==============================] - 1s 23ms/step - loss: 6.3311e-04 - mse: 6.3311e-04\n",
      "Epoch 995/1000\n",
      "38/38 [==============================] - 1s 24ms/step - loss: 6.5479e-04 - mse: 6.5479e-04\n",
      "Epoch 996/1000\n",
      "38/38 [==============================] - 1s 23ms/step - loss: 7.1456e-04 - mse: 7.1456e-04\n",
      "Epoch 997/1000\n",
      "38/38 [==============================] - 1s 24ms/step - loss: 7.7160e-04 - mse: 7.7160e-04\n",
      "Epoch 998/1000\n",
      "38/38 [==============================] - 1s 23ms/step - loss: 6.5684e-04 - mse: 6.5684e-04\n",
      "Epoch 999/1000\n",
      "38/38 [==============================] - 1s 23ms/step - loss: 6.9172e-04 - mse: 6.9172e-04\n",
      "Epoch 1000/1000\n",
      "38/38 [==============================] - 1s 23ms/step - loss: 6.2247e-04 - mse: 6.2247e-04\n"
     ]
    },
    {
     "output_type": "execute_result",
     "data": {
      "text/plain": [
       "<tensorflow.python.keras.callbacks.History at 0x13b4e3b35c0>"
      ]
     },
     "metadata": {},
     "execution_count": 66
    }
   ],
   "source": [
    "model.fit(x_train,y_train,batch_size=32,epochs=1000)#for LSTM epochs > 1000, 100 is not at all sufficient"
   ]
  },
  {
   "cell_type": "code",
   "execution_count": 67,
   "metadata": {},
   "outputs": [],
   "source": [
    "dataset_test = pd.read_csv(r\"Google_Stock_Price_Test.csv\")"
   ]
  },
  {
   "cell_type": "code",
   "execution_count": 68,
   "metadata": {},
   "outputs": [],
   "source": [
    "y_test = dataset_test.iloc[:,1:2].values"
   ]
  },
  {
   "cell_type": "code",
   "execution_count": 69,
   "metadata": {},
   "outputs": [],
   "source": [
    "dataset_total = pd.concat((dataset_train[\"Open\"],dataset_test[\"Open\"]),axis=0)"
   ]
  },
  {
   "cell_type": "code",
   "execution_count": 70,
   "metadata": {},
   "outputs": [],
   "source": [
    "test_set = dataset_total.iloc[(dataset_total.shape[0] - dataset_test.shape[0] - 60):]#we grab last 80 rows of total dataset as test dataset only has 20 rows, but for predicting an output we need atleast 60 columns. so we take last 60 rows of dataset_train and 20 rows of dataset_test which means now we have total of 80 rows\n",
    "#Later we create x_test having 60 columns like x_train previously "
   ]
  },
  {
   "cell_type": "code",
   "execution_count": 71,
   "metadata": {},
   "outputs": [
    {
     "output_type": "execute_result",
     "data": {
      "text/plain": [
       "(80,)"
      ]
     },
     "metadata": {},
     "execution_count": 71
    }
   ],
   "source": [
    "test_set = np.array(test_set)\n",
    "test_set.shape"
   ]
  },
  {
   "cell_type": "code",
   "execution_count": 72,
   "metadata": {},
   "outputs": [
    {
     "output_type": "execute_result",
     "data": {
      "text/plain": [
       "(80, 1)"
      ]
     },
     "metadata": {},
     "execution_count": 72
    }
   ],
   "source": [
    "test_set = test_set.reshape(-1,1)\n",
    "test_set.shape"
   ]
  },
  {
   "cell_type": "code",
   "execution_count": 73,
   "metadata": {},
   "outputs": [],
   "source": [
    "test_set = sc.fit_transform(test_set)\n",
    "x_test = []\n",
    "for i in range(60,test_set.shape[0]):\n",
    "    x_test.append(test_set[i-60:i,0])"
   ]
  },
  {
   "cell_type": "code",
   "execution_count": 74,
   "metadata": {},
   "outputs": [
    {
     "output_type": "execute_result",
     "data": {
      "text/plain": [
       "(20, 60)"
      ]
     },
     "metadata": {},
     "execution_count": 74
    }
   ],
   "source": [
    "x_test = np.array(x_test)\n",
    "x_test.shape"
   ]
  },
  {
   "cell_type": "code",
   "execution_count": 75,
   "metadata": {},
   "outputs": [
    {
     "output_type": "execute_result",
     "data": {
      "text/plain": [
       "(20, 60, 1)"
      ]
     },
     "metadata": {},
     "execution_count": 75
    }
   ],
   "source": [
    "x_test = np.reshape(x_test,(x_test.shape[0],x_test.shape[1],1))\n",
    "x_test.shape"
   ]
  },
  {
   "cell_type": "code",
   "execution_count": 76,
   "metadata": {},
   "outputs": [],
   "source": [
    "y_pred = model.predict(x_test)\n",
    "y_pred = sc.inverse_transform(y_pred)"
   ]
  },
  {
   "cell_type": "code",
   "execution_count": 77,
   "metadata": {},
   "outputs": [
    {
     "output_type": "display_data",
     "data": {
      "text/plain": "<Figure size 432x288 with 1 Axes>",
      "image/svg+xml": "<?xml version=\"1.0\" encoding=\"utf-8\" standalone=\"no\"?>\r\n<!DOCTYPE svg PUBLIC \"-//W3C//DTD SVG 1.1//EN\"\r\n  \"http://www.w3.org/Graphics/SVG/1.1/DTD/svg11.dtd\">\r\n<!-- Created with matplotlib (https://matplotlib.org/) -->\r\n<svg height=\"277.314375pt\" version=\"1.1\" viewBox=\"0 0 388.965625 277.314375\" width=\"388.965625pt\" xmlns=\"http://www.w3.org/2000/svg\" xmlns:xlink=\"http://www.w3.org/1999/xlink\">\r\n <metadata>\r\n  <rdf:RDF xmlns:cc=\"http://creativecommons.org/ns#\" xmlns:dc=\"http://purl.org/dc/elements/1.1/\" xmlns:rdf=\"http://www.w3.org/1999/02/22-rdf-syntax-ns#\">\r\n   <cc:Work>\r\n    <dc:type rdf:resource=\"http://purl.org/dc/dcmitype/StillImage\"/>\r\n    <dc:date>2021-02-17T23:39:44.557660</dc:date>\r\n    <dc:format>image/svg+xml</dc:format>\r\n    <dc:creator>\r\n     <cc:Agent>\r\n      <dc:title>Matplotlib v3.3.1, https://matplotlib.org/</dc:title>\r\n     </cc:Agent>\r\n    </dc:creator>\r\n   </cc:Work>\r\n  </rdf:RDF>\r\n </metadata>\r\n <defs>\r\n  <style type=\"text/css\">*{stroke-linecap:butt;stroke-linejoin:round;}</style>\r\n </defs>\r\n <g id=\"figure_1\">\r\n  <g id=\"patch_1\">\r\n   <path d=\"M 0 277.314375 \r\nL 388.965625 277.314375 \r\nL 388.965625 0 \r\nL 0 0 \r\nz\r\n\" style=\"fill:none;\"/>\r\n  </g>\r\n  <g id=\"axes_1\">\r\n   <g id=\"patch_2\">\r\n    <path d=\"M 46.965625 239.758125 \r\nL 381.765625 239.758125 \r\nL 381.765625 22.318125 \r\nL 46.965625 22.318125 \r\nz\r\n\" style=\"fill:#ffffff;\"/>\r\n   </g>\r\n   <g id=\"matplotlib.axis_1\">\r\n    <g id=\"xtick_1\">\r\n     <g id=\"line2d_1\">\r\n      <defs>\r\n       <path d=\"M 0 0 \r\nL 0 3.5 \r\n\" id=\"me3c33c4df0\" style=\"stroke:#000000;stroke-width:0.8;\"/>\r\n      </defs>\r\n      <g>\r\n       <use style=\"stroke:#000000;stroke-width:0.8;\" x=\"62.183807\" xlink:href=\"#me3c33c4df0\" y=\"239.758125\"/>\r\n      </g>\r\n     </g>\r\n     <g id=\"text_1\">\r\n      <!-- 0.0 -->\r\n      <g transform=\"translate(54.232244 254.356562)scale(0.1 -0.1)\">\r\n       <defs>\r\n        <path d=\"M 31.78125 66.40625 \r\nQ 24.171875 66.40625 20.328125 58.90625 \r\nQ 16.5 51.421875 16.5 36.375 \r\nQ 16.5 21.390625 20.328125 13.890625 \r\nQ 24.171875 6.390625 31.78125 6.390625 \r\nQ 39.453125 6.390625 43.28125 13.890625 \r\nQ 47.125 21.390625 47.125 36.375 \r\nQ 47.125 51.421875 43.28125 58.90625 \r\nQ 39.453125 66.40625 31.78125 66.40625 \r\nz\r\nM 31.78125 74.21875 \r\nQ 44.046875 74.21875 50.515625 64.515625 \r\nQ 56.984375 54.828125 56.984375 36.375 \r\nQ 56.984375 17.96875 50.515625 8.265625 \r\nQ 44.046875 -1.421875 31.78125 -1.421875 \r\nQ 19.53125 -1.421875 13.0625 8.265625 \r\nQ 6.59375 17.96875 6.59375 36.375 \r\nQ 6.59375 54.828125 13.0625 64.515625 \r\nQ 19.53125 74.21875 31.78125 74.21875 \r\nz\r\n\" id=\"DejaVuSans-48\"/>\r\n        <path d=\"M 10.6875 12.40625 \r\nL 21 12.40625 \r\nL 21 0 \r\nL 10.6875 0 \r\nz\r\n\" id=\"DejaVuSans-46\"/>\r\n       </defs>\r\n       <use xlink:href=\"#DejaVuSans-48\"/>\r\n       <use x=\"63.623047\" xlink:href=\"#DejaVuSans-46\"/>\r\n       <use x=\"95.410156\" xlink:href=\"#DejaVuSans-48\"/>\r\n      </g>\r\n     </g>\r\n    </g>\r\n    <g id=\"xtick_2\">\r\n     <g id=\"line2d_2\">\r\n      <g>\r\n       <use style=\"stroke:#000000;stroke-width:0.8;\" x=\"102.231654\" xlink:href=\"#me3c33c4df0\" y=\"239.758125\"/>\r\n      </g>\r\n     </g>\r\n     <g id=\"text_2\">\r\n      <!-- 2.5 -->\r\n      <g transform=\"translate(94.280091 254.356562)scale(0.1 -0.1)\">\r\n       <defs>\r\n        <path d=\"M 19.1875 8.296875 \r\nL 53.609375 8.296875 \r\nL 53.609375 0 \r\nL 7.328125 0 \r\nL 7.328125 8.296875 \r\nQ 12.9375 14.109375 22.625 23.890625 \r\nQ 32.328125 33.6875 34.8125 36.53125 \r\nQ 39.546875 41.84375 41.421875 45.53125 \r\nQ 43.3125 49.21875 43.3125 52.78125 \r\nQ 43.3125 58.59375 39.234375 62.25 \r\nQ 35.15625 65.921875 28.609375 65.921875 \r\nQ 23.96875 65.921875 18.8125 64.3125 \r\nQ 13.671875 62.703125 7.8125 59.421875 \r\nL 7.8125 69.390625 \r\nQ 13.765625 71.78125 18.9375 73 \r\nQ 24.125 74.21875 28.421875 74.21875 \r\nQ 39.75 74.21875 46.484375 68.546875 \r\nQ 53.21875 62.890625 53.21875 53.421875 \r\nQ 53.21875 48.921875 51.53125 44.890625 \r\nQ 49.859375 40.875 45.40625 35.40625 \r\nQ 44.1875 33.984375 37.640625 27.21875 \r\nQ 31.109375 20.453125 19.1875 8.296875 \r\nz\r\n\" id=\"DejaVuSans-50\"/>\r\n        <path d=\"M 10.796875 72.90625 \r\nL 49.515625 72.90625 \r\nL 49.515625 64.59375 \r\nL 19.828125 64.59375 \r\nL 19.828125 46.734375 \r\nQ 21.96875 47.46875 24.109375 47.828125 \r\nQ 26.265625 48.1875 28.421875 48.1875 \r\nQ 40.625 48.1875 47.75 41.5 \r\nQ 54.890625 34.8125 54.890625 23.390625 \r\nQ 54.890625 11.625 47.5625 5.09375 \r\nQ 40.234375 -1.421875 26.90625 -1.421875 \r\nQ 22.3125 -1.421875 17.546875 -0.640625 \r\nQ 12.796875 0.140625 7.71875 1.703125 \r\nL 7.71875 11.625 \r\nQ 12.109375 9.234375 16.796875 8.0625 \r\nQ 21.484375 6.890625 26.703125 6.890625 \r\nQ 35.15625 6.890625 40.078125 11.328125 \r\nQ 45.015625 15.765625 45.015625 23.390625 \r\nQ 45.015625 31 40.078125 35.4375 \r\nQ 35.15625 39.890625 26.703125 39.890625 \r\nQ 22.75 39.890625 18.8125 39.015625 \r\nQ 14.890625 38.140625 10.796875 36.28125 \r\nz\r\n\" id=\"DejaVuSans-53\"/>\r\n       </defs>\r\n       <use xlink:href=\"#DejaVuSans-50\"/>\r\n       <use x=\"63.623047\" xlink:href=\"#DejaVuSans-46\"/>\r\n       <use x=\"95.410156\" xlink:href=\"#DejaVuSans-53\"/>\r\n      </g>\r\n     </g>\r\n    </g>\r\n    <g id=\"xtick_3\">\r\n     <g id=\"line2d_3\">\r\n      <g>\r\n       <use style=\"stroke:#000000;stroke-width:0.8;\" x=\"142.279501\" xlink:href=\"#me3c33c4df0\" y=\"239.758125\"/>\r\n      </g>\r\n     </g>\r\n     <g id=\"text_3\">\r\n      <!-- 5.0 -->\r\n      <g transform=\"translate(134.327938 254.356562)scale(0.1 -0.1)\">\r\n       <use xlink:href=\"#DejaVuSans-53\"/>\r\n       <use x=\"63.623047\" xlink:href=\"#DejaVuSans-46\"/>\r\n       <use x=\"95.410156\" xlink:href=\"#DejaVuSans-48\"/>\r\n      </g>\r\n     </g>\r\n    </g>\r\n    <g id=\"xtick_4\">\r\n     <g id=\"line2d_4\">\r\n      <g>\r\n       <use style=\"stroke:#000000;stroke-width:0.8;\" x=\"182.327347\" xlink:href=\"#me3c33c4df0\" y=\"239.758125\"/>\r\n      </g>\r\n     </g>\r\n     <g id=\"text_4\">\r\n      <!-- 7.5 -->\r\n      <g transform=\"translate(174.375785 254.356562)scale(0.1 -0.1)\">\r\n       <defs>\r\n        <path d=\"M 8.203125 72.90625 \r\nL 55.078125 72.90625 \r\nL 55.078125 68.703125 \r\nL 28.609375 0 \r\nL 18.3125 0 \r\nL 43.21875 64.59375 \r\nL 8.203125 64.59375 \r\nz\r\n\" id=\"DejaVuSans-55\"/>\r\n       </defs>\r\n       <use xlink:href=\"#DejaVuSans-55\"/>\r\n       <use x=\"63.623047\" xlink:href=\"#DejaVuSans-46\"/>\r\n       <use x=\"95.410156\" xlink:href=\"#DejaVuSans-53\"/>\r\n      </g>\r\n     </g>\r\n    </g>\r\n    <g id=\"xtick_5\">\r\n     <g id=\"line2d_5\">\r\n      <g>\r\n       <use style=\"stroke:#000000;stroke-width:0.8;\" x=\"222.375194\" xlink:href=\"#me3c33c4df0\" y=\"239.758125\"/>\r\n      </g>\r\n     </g>\r\n     <g id=\"text_5\">\r\n      <!-- 10.0 -->\r\n      <g transform=\"translate(211.242382 254.356562)scale(0.1 -0.1)\">\r\n       <defs>\r\n        <path d=\"M 12.40625 8.296875 \r\nL 28.515625 8.296875 \r\nL 28.515625 63.921875 \r\nL 10.984375 60.40625 \r\nL 10.984375 69.390625 \r\nL 28.421875 72.90625 \r\nL 38.28125 72.90625 \r\nL 38.28125 8.296875 \r\nL 54.390625 8.296875 \r\nL 54.390625 0 \r\nL 12.40625 0 \r\nz\r\n\" id=\"DejaVuSans-49\"/>\r\n       </defs>\r\n       <use xlink:href=\"#DejaVuSans-49\"/>\r\n       <use x=\"63.623047\" xlink:href=\"#DejaVuSans-48\"/>\r\n       <use x=\"127.246094\" xlink:href=\"#DejaVuSans-46\"/>\r\n       <use x=\"159.033203\" xlink:href=\"#DejaVuSans-48\"/>\r\n      </g>\r\n     </g>\r\n    </g>\r\n    <g id=\"xtick_6\">\r\n     <g id=\"line2d_6\">\r\n      <g>\r\n       <use style=\"stroke:#000000;stroke-width:0.8;\" x=\"262.423041\" xlink:href=\"#me3c33c4df0\" y=\"239.758125\"/>\r\n      </g>\r\n     </g>\r\n     <g id=\"text_6\">\r\n      <!-- 12.5 -->\r\n      <g transform=\"translate(251.290229 254.356562)scale(0.1 -0.1)\">\r\n       <use xlink:href=\"#DejaVuSans-49\"/>\r\n       <use x=\"63.623047\" xlink:href=\"#DejaVuSans-50\"/>\r\n       <use x=\"127.246094\" xlink:href=\"#DejaVuSans-46\"/>\r\n       <use x=\"159.033203\" xlink:href=\"#DejaVuSans-53\"/>\r\n      </g>\r\n     </g>\r\n    </g>\r\n    <g id=\"xtick_7\">\r\n     <g id=\"line2d_7\">\r\n      <g>\r\n       <use style=\"stroke:#000000;stroke-width:0.8;\" x=\"302.470888\" xlink:href=\"#me3c33c4df0\" y=\"239.758125\"/>\r\n      </g>\r\n     </g>\r\n     <g id=\"text_7\">\r\n      <!-- 15.0 -->\r\n      <g transform=\"translate(291.338076 254.356562)scale(0.1 -0.1)\">\r\n       <use xlink:href=\"#DejaVuSans-49\"/>\r\n       <use x=\"63.623047\" xlink:href=\"#DejaVuSans-53\"/>\r\n       <use x=\"127.246094\" xlink:href=\"#DejaVuSans-46\"/>\r\n       <use x=\"159.033203\" xlink:href=\"#DejaVuSans-48\"/>\r\n      </g>\r\n     </g>\r\n    </g>\r\n    <g id=\"xtick_8\">\r\n     <g id=\"line2d_8\">\r\n      <g>\r\n       <use style=\"stroke:#000000;stroke-width:0.8;\" x=\"342.518735\" xlink:href=\"#me3c33c4df0\" y=\"239.758125\"/>\r\n      </g>\r\n     </g>\r\n     <g id=\"text_8\">\r\n      <!-- 17.5 -->\r\n      <g transform=\"translate(331.385923 254.356562)scale(0.1 -0.1)\">\r\n       <use xlink:href=\"#DejaVuSans-49\"/>\r\n       <use x=\"63.623047\" xlink:href=\"#DejaVuSans-55\"/>\r\n       <use x=\"127.246094\" xlink:href=\"#DejaVuSans-46\"/>\r\n       <use x=\"159.033203\" xlink:href=\"#DejaVuSans-53\"/>\r\n      </g>\r\n     </g>\r\n    </g>\r\n    <g id=\"text_9\">\r\n     <!-- Column Number -->\r\n     <g transform=\"translate(173.542969 268.034687)scale(0.1 -0.1)\">\r\n      <defs>\r\n       <path d=\"M 64.40625 67.28125 \r\nL 64.40625 56.890625 \r\nQ 59.421875 61.53125 53.78125 63.8125 \r\nQ 48.140625 66.109375 41.796875 66.109375 \r\nQ 29.296875 66.109375 22.65625 58.46875 \r\nQ 16.015625 50.828125 16.015625 36.375 \r\nQ 16.015625 21.96875 22.65625 14.328125 \r\nQ 29.296875 6.6875 41.796875 6.6875 \r\nQ 48.140625 6.6875 53.78125 8.984375 \r\nQ 59.421875 11.28125 64.40625 15.921875 \r\nL 64.40625 5.609375 \r\nQ 59.234375 2.09375 53.4375 0.328125 \r\nQ 47.65625 -1.421875 41.21875 -1.421875 \r\nQ 24.65625 -1.421875 15.125 8.703125 \r\nQ 5.609375 18.84375 5.609375 36.375 \r\nQ 5.609375 53.953125 15.125 64.078125 \r\nQ 24.65625 74.21875 41.21875 74.21875 \r\nQ 47.75 74.21875 53.53125 72.484375 \r\nQ 59.328125 70.75 64.40625 67.28125 \r\nz\r\n\" id=\"DejaVuSans-67\"/>\r\n       <path d=\"M 30.609375 48.390625 \r\nQ 23.390625 48.390625 19.1875 42.75 \r\nQ 14.984375 37.109375 14.984375 27.296875 \r\nQ 14.984375 17.484375 19.15625 11.84375 \r\nQ 23.34375 6.203125 30.609375 6.203125 \r\nQ 37.796875 6.203125 41.984375 11.859375 \r\nQ 46.1875 17.53125 46.1875 27.296875 \r\nQ 46.1875 37.015625 41.984375 42.703125 \r\nQ 37.796875 48.390625 30.609375 48.390625 \r\nz\r\nM 30.609375 56 \r\nQ 42.328125 56 49.015625 48.375 \r\nQ 55.71875 40.765625 55.71875 27.296875 \r\nQ 55.71875 13.875 49.015625 6.21875 \r\nQ 42.328125 -1.421875 30.609375 -1.421875 \r\nQ 18.84375 -1.421875 12.171875 6.21875 \r\nQ 5.515625 13.875 5.515625 27.296875 \r\nQ 5.515625 40.765625 12.171875 48.375 \r\nQ 18.84375 56 30.609375 56 \r\nz\r\n\" id=\"DejaVuSans-111\"/>\r\n       <path d=\"M 9.421875 75.984375 \r\nL 18.40625 75.984375 \r\nL 18.40625 0 \r\nL 9.421875 0 \r\nz\r\n\" id=\"DejaVuSans-108\"/>\r\n       <path d=\"M 8.5 21.578125 \r\nL 8.5 54.6875 \r\nL 17.484375 54.6875 \r\nL 17.484375 21.921875 \r\nQ 17.484375 14.15625 20.5 10.265625 \r\nQ 23.53125 6.390625 29.59375 6.390625 \r\nQ 36.859375 6.390625 41.078125 11.03125 \r\nQ 45.3125 15.671875 45.3125 23.6875 \r\nL 45.3125 54.6875 \r\nL 54.296875 54.6875 \r\nL 54.296875 0 \r\nL 45.3125 0 \r\nL 45.3125 8.40625 \r\nQ 42.046875 3.421875 37.71875 1 \r\nQ 33.40625 -1.421875 27.6875 -1.421875 \r\nQ 18.265625 -1.421875 13.375 4.4375 \r\nQ 8.5 10.296875 8.5 21.578125 \r\nz\r\nM 31.109375 56 \r\nz\r\n\" id=\"DejaVuSans-117\"/>\r\n       <path d=\"M 52 44.1875 \r\nQ 55.375 50.25 60.0625 53.125 \r\nQ 64.75 56 71.09375 56 \r\nQ 79.640625 56 84.28125 50.015625 \r\nQ 88.921875 44.046875 88.921875 33.015625 \r\nL 88.921875 0 \r\nL 79.890625 0 \r\nL 79.890625 32.71875 \r\nQ 79.890625 40.578125 77.09375 44.375 \r\nQ 74.3125 48.1875 68.609375 48.1875 \r\nQ 61.625 48.1875 57.5625 43.546875 \r\nQ 53.515625 38.921875 53.515625 30.90625 \r\nL 53.515625 0 \r\nL 44.484375 0 \r\nL 44.484375 32.71875 \r\nQ 44.484375 40.625 41.703125 44.40625 \r\nQ 38.921875 48.1875 33.109375 48.1875 \r\nQ 26.21875 48.1875 22.15625 43.53125 \r\nQ 18.109375 38.875 18.109375 30.90625 \r\nL 18.109375 0 \r\nL 9.078125 0 \r\nL 9.078125 54.6875 \r\nL 18.109375 54.6875 \r\nL 18.109375 46.1875 \r\nQ 21.1875 51.21875 25.484375 53.609375 \r\nQ 29.78125 56 35.6875 56 \r\nQ 41.65625 56 45.828125 52.96875 \r\nQ 50 49.953125 52 44.1875 \r\nz\r\n\" id=\"DejaVuSans-109\"/>\r\n       <path d=\"M 54.890625 33.015625 \r\nL 54.890625 0 \r\nL 45.90625 0 \r\nL 45.90625 32.71875 \r\nQ 45.90625 40.484375 42.875 44.328125 \r\nQ 39.84375 48.1875 33.796875 48.1875 \r\nQ 26.515625 48.1875 22.3125 43.546875 \r\nQ 18.109375 38.921875 18.109375 30.90625 \r\nL 18.109375 0 \r\nL 9.078125 0 \r\nL 9.078125 54.6875 \r\nL 18.109375 54.6875 \r\nL 18.109375 46.1875 \r\nQ 21.34375 51.125 25.703125 53.5625 \r\nQ 30.078125 56 35.796875 56 \r\nQ 45.21875 56 50.046875 50.171875 \r\nQ 54.890625 44.34375 54.890625 33.015625 \r\nz\r\n\" id=\"DejaVuSans-110\"/>\r\n       <path id=\"DejaVuSans-32\"/>\r\n       <path d=\"M 9.8125 72.90625 \r\nL 23.09375 72.90625 \r\nL 55.421875 11.921875 \r\nL 55.421875 72.90625 \r\nL 64.984375 72.90625 \r\nL 64.984375 0 \r\nL 51.703125 0 \r\nL 19.390625 60.984375 \r\nL 19.390625 0 \r\nL 9.8125 0 \r\nz\r\n\" id=\"DejaVuSans-78\"/>\r\n       <path d=\"M 48.6875 27.296875 \r\nQ 48.6875 37.203125 44.609375 42.84375 \r\nQ 40.53125 48.484375 33.40625 48.484375 \r\nQ 26.265625 48.484375 22.1875 42.84375 \r\nQ 18.109375 37.203125 18.109375 27.296875 \r\nQ 18.109375 17.390625 22.1875 11.75 \r\nQ 26.265625 6.109375 33.40625 6.109375 \r\nQ 40.53125 6.109375 44.609375 11.75 \r\nQ 48.6875 17.390625 48.6875 27.296875 \r\nz\r\nM 18.109375 46.390625 \r\nQ 20.953125 51.265625 25.265625 53.625 \r\nQ 29.59375 56 35.59375 56 \r\nQ 45.5625 56 51.78125 48.09375 \r\nQ 58.015625 40.1875 58.015625 27.296875 \r\nQ 58.015625 14.40625 51.78125 6.484375 \r\nQ 45.5625 -1.421875 35.59375 -1.421875 \r\nQ 29.59375 -1.421875 25.265625 0.953125 \r\nQ 20.953125 3.328125 18.109375 8.203125 \r\nL 18.109375 0 \r\nL 9.078125 0 \r\nL 9.078125 75.984375 \r\nL 18.109375 75.984375 \r\nz\r\n\" id=\"DejaVuSans-98\"/>\r\n       <path d=\"M 56.203125 29.59375 \r\nL 56.203125 25.203125 \r\nL 14.890625 25.203125 \r\nQ 15.484375 15.921875 20.484375 11.0625 \r\nQ 25.484375 6.203125 34.421875 6.203125 \r\nQ 39.59375 6.203125 44.453125 7.46875 \r\nQ 49.3125 8.734375 54.109375 11.28125 \r\nL 54.109375 2.78125 \r\nQ 49.265625 0.734375 44.1875 -0.34375 \r\nQ 39.109375 -1.421875 33.890625 -1.421875 \r\nQ 20.796875 -1.421875 13.15625 6.1875 \r\nQ 5.515625 13.8125 5.515625 26.8125 \r\nQ 5.515625 40.234375 12.765625 48.109375 \r\nQ 20.015625 56 32.328125 56 \r\nQ 43.359375 56 49.78125 48.890625 \r\nQ 56.203125 41.796875 56.203125 29.59375 \r\nz\r\nM 47.21875 32.234375 \r\nQ 47.125 39.59375 43.09375 43.984375 \r\nQ 39.0625 48.390625 32.421875 48.390625 \r\nQ 24.90625 48.390625 20.390625 44.140625 \r\nQ 15.875 39.890625 15.1875 32.171875 \r\nz\r\n\" id=\"DejaVuSans-101\"/>\r\n       <path d=\"M 41.109375 46.296875 \r\nQ 39.59375 47.171875 37.8125 47.578125 \r\nQ 36.03125 48 33.890625 48 \r\nQ 26.265625 48 22.1875 43.046875 \r\nQ 18.109375 38.09375 18.109375 28.8125 \r\nL 18.109375 0 \r\nL 9.078125 0 \r\nL 9.078125 54.6875 \r\nL 18.109375 54.6875 \r\nL 18.109375 46.1875 \r\nQ 20.953125 51.171875 25.484375 53.578125 \r\nQ 30.03125 56 36.53125 56 \r\nQ 37.453125 56 38.578125 55.875 \r\nQ 39.703125 55.765625 41.0625 55.515625 \r\nz\r\n\" id=\"DejaVuSans-114\"/>\r\n      </defs>\r\n      <use xlink:href=\"#DejaVuSans-67\"/>\r\n      <use x=\"69.824219\" xlink:href=\"#DejaVuSans-111\"/>\r\n      <use x=\"131.005859\" xlink:href=\"#DejaVuSans-108\"/>\r\n      <use x=\"158.789062\" xlink:href=\"#DejaVuSans-117\"/>\r\n      <use x=\"222.167969\" xlink:href=\"#DejaVuSans-109\"/>\r\n      <use x=\"319.580078\" xlink:href=\"#DejaVuSans-110\"/>\r\n      <use x=\"382.958984\" xlink:href=\"#DejaVuSans-32\"/>\r\n      <use x=\"414.746094\" xlink:href=\"#DejaVuSans-78\"/>\r\n      <use x=\"489.550781\" xlink:href=\"#DejaVuSans-117\"/>\r\n      <use x=\"552.929688\" xlink:href=\"#DejaVuSans-109\"/>\r\n      <use x=\"650.341797\" xlink:href=\"#DejaVuSans-98\"/>\r\n      <use x=\"713.818359\" xlink:href=\"#DejaVuSans-101\"/>\r\n      <use x=\"775.341797\" xlink:href=\"#DejaVuSans-114\"/>\r\n     </g>\r\n    </g>\r\n   </g>\r\n   <g id=\"matplotlib.axis_2\">\r\n    <g id=\"ytick_1\">\r\n     <g id=\"line2d_9\">\r\n      <defs>\r\n       <path d=\"M 0 0 \r\nL -3.5 0 \r\n\" id=\"m56d63b4e78\" style=\"stroke:#000000;stroke-width:0.8;\"/>\r\n      </defs>\r\n      <g>\r\n       <use style=\"stroke:#000000;stroke-width:0.8;\" x=\"46.965625\" xlink:href=\"#m56d63b4e78\" y=\"225.88753\"/>\r\n      </g>\r\n     </g>\r\n     <g id=\"text_10\">\r\n      <!-- 780 -->\r\n      <g transform=\"translate(20.878125 229.686749)scale(0.1 -0.1)\">\r\n       <defs>\r\n        <path d=\"M 31.78125 34.625 \r\nQ 24.75 34.625 20.71875 30.859375 \r\nQ 16.703125 27.09375 16.703125 20.515625 \r\nQ 16.703125 13.921875 20.71875 10.15625 \r\nQ 24.75 6.390625 31.78125 6.390625 \r\nQ 38.8125 6.390625 42.859375 10.171875 \r\nQ 46.921875 13.96875 46.921875 20.515625 \r\nQ 46.921875 27.09375 42.890625 30.859375 \r\nQ 38.875 34.625 31.78125 34.625 \r\nz\r\nM 21.921875 38.8125 \r\nQ 15.578125 40.375 12.03125 44.71875 \r\nQ 8.5 49.078125 8.5 55.328125 \r\nQ 8.5 64.0625 14.71875 69.140625 \r\nQ 20.953125 74.21875 31.78125 74.21875 \r\nQ 42.671875 74.21875 48.875 69.140625 \r\nQ 55.078125 64.0625 55.078125 55.328125 \r\nQ 55.078125 49.078125 51.53125 44.71875 \r\nQ 48 40.375 41.703125 38.8125 \r\nQ 48.828125 37.15625 52.796875 32.3125 \r\nQ 56.78125 27.484375 56.78125 20.515625 \r\nQ 56.78125 9.90625 50.3125 4.234375 \r\nQ 43.84375 -1.421875 31.78125 -1.421875 \r\nQ 19.734375 -1.421875 13.25 4.234375 \r\nQ 6.78125 9.90625 6.78125 20.515625 \r\nQ 6.78125 27.484375 10.78125 32.3125 \r\nQ 14.796875 37.15625 21.921875 38.8125 \r\nz\r\nM 18.3125 54.390625 \r\nQ 18.3125 48.734375 21.84375 45.5625 \r\nQ 25.390625 42.390625 31.78125 42.390625 \r\nQ 38.140625 42.390625 41.71875 45.5625 \r\nQ 45.3125 48.734375 45.3125 54.390625 \r\nQ 45.3125 60.0625 41.71875 63.234375 \r\nQ 38.140625 66.40625 31.78125 66.40625 \r\nQ 25.390625 66.40625 21.84375 63.234375 \r\nQ 18.3125 60.0625 18.3125 54.390625 \r\nz\r\n\" id=\"DejaVuSans-56\"/>\r\n       </defs>\r\n       <use xlink:href=\"#DejaVuSans-55\"/>\r\n       <use x=\"63.623047\" xlink:href=\"#DejaVuSans-56\"/>\r\n       <use x=\"127.246094\" xlink:href=\"#DejaVuSans-48\"/>\r\n      </g>\r\n     </g>\r\n    </g>\r\n    <g id=\"ytick_2\">\r\n     <g id=\"line2d_10\">\r\n      <g>\r\n       <use style=\"stroke:#000000;stroke-width:0.8;\" x=\"46.965625\" xlink:href=\"#m56d63b4e78\" y=\"192.383678\"/>\r\n      </g>\r\n     </g>\r\n     <g id=\"text_11\">\r\n      <!-- 790 -->\r\n      <g transform=\"translate(20.878125 196.182897)scale(0.1 -0.1)\">\r\n       <defs>\r\n        <path d=\"M 10.984375 1.515625 \r\nL 10.984375 10.5 \r\nQ 14.703125 8.734375 18.5 7.8125 \r\nQ 22.3125 6.890625 25.984375 6.890625 \r\nQ 35.75 6.890625 40.890625 13.453125 \r\nQ 46.046875 20.015625 46.78125 33.40625 \r\nQ 43.953125 29.203125 39.59375 26.953125 \r\nQ 35.25 24.703125 29.984375 24.703125 \r\nQ 19.046875 24.703125 12.671875 31.3125 \r\nQ 6.296875 37.9375 6.296875 49.421875 \r\nQ 6.296875 60.640625 12.9375 67.421875 \r\nQ 19.578125 74.21875 30.609375 74.21875 \r\nQ 43.265625 74.21875 49.921875 64.515625 \r\nQ 56.59375 54.828125 56.59375 36.375 \r\nQ 56.59375 19.140625 48.40625 8.859375 \r\nQ 40.234375 -1.421875 26.421875 -1.421875 \r\nQ 22.703125 -1.421875 18.890625 -0.6875 \r\nQ 15.09375 0.046875 10.984375 1.515625 \r\nz\r\nM 30.609375 32.421875 \r\nQ 37.25 32.421875 41.125 36.953125 \r\nQ 45.015625 41.5 45.015625 49.421875 \r\nQ 45.015625 57.28125 41.125 61.84375 \r\nQ 37.25 66.40625 30.609375 66.40625 \r\nQ 23.96875 66.40625 20.09375 61.84375 \r\nQ 16.21875 57.28125 16.21875 49.421875 \r\nQ 16.21875 41.5 20.09375 36.953125 \r\nQ 23.96875 32.421875 30.609375 32.421875 \r\nz\r\n\" id=\"DejaVuSans-57\"/>\r\n       </defs>\r\n       <use xlink:href=\"#DejaVuSans-55\"/>\r\n       <use x=\"63.623047\" xlink:href=\"#DejaVuSans-57\"/>\r\n       <use x=\"127.246094\" xlink:href=\"#DejaVuSans-48\"/>\r\n      </g>\r\n     </g>\r\n    </g>\r\n    <g id=\"ytick_3\">\r\n     <g id=\"line2d_11\">\r\n      <g>\r\n       <use style=\"stroke:#000000;stroke-width:0.8;\" x=\"46.965625\" xlink:href=\"#m56d63b4e78\" y=\"158.879826\"/>\r\n      </g>\r\n     </g>\r\n     <g id=\"text_12\">\r\n      <!-- 800 -->\r\n      <g transform=\"translate(20.878125 162.679045)scale(0.1 -0.1)\">\r\n       <use xlink:href=\"#DejaVuSans-56\"/>\r\n       <use x=\"63.623047\" xlink:href=\"#DejaVuSans-48\"/>\r\n       <use x=\"127.246094\" xlink:href=\"#DejaVuSans-48\"/>\r\n      </g>\r\n     </g>\r\n    </g>\r\n    <g id=\"ytick_4\">\r\n     <g id=\"line2d_12\">\r\n      <g>\r\n       <use style=\"stroke:#000000;stroke-width:0.8;\" x=\"46.965625\" xlink:href=\"#m56d63b4e78\" y=\"125.375974\"/>\r\n      </g>\r\n     </g>\r\n     <g id=\"text_13\">\r\n      <!-- 810 -->\r\n      <g transform=\"translate(20.878125 129.175193)scale(0.1 -0.1)\">\r\n       <use xlink:href=\"#DejaVuSans-56\"/>\r\n       <use x=\"63.623047\" xlink:href=\"#DejaVuSans-49\"/>\r\n       <use x=\"127.246094\" xlink:href=\"#DejaVuSans-48\"/>\r\n      </g>\r\n     </g>\r\n    </g>\r\n    <g id=\"ytick_5\">\r\n     <g id=\"line2d_13\">\r\n      <g>\r\n       <use style=\"stroke:#000000;stroke-width:0.8;\" x=\"46.965625\" xlink:href=\"#m56d63b4e78\" y=\"91.872122\"/>\r\n      </g>\r\n     </g>\r\n     <g id=\"text_14\">\r\n      <!-- 820 -->\r\n      <g transform=\"translate(20.878125 95.671341)scale(0.1 -0.1)\">\r\n       <use xlink:href=\"#DejaVuSans-56\"/>\r\n       <use x=\"63.623047\" xlink:href=\"#DejaVuSans-50\"/>\r\n       <use x=\"127.246094\" xlink:href=\"#DejaVuSans-48\"/>\r\n      </g>\r\n     </g>\r\n    </g>\r\n    <g id=\"ytick_6\">\r\n     <g id=\"line2d_14\">\r\n      <g>\r\n       <use style=\"stroke:#000000;stroke-width:0.8;\" x=\"46.965625\" xlink:href=\"#m56d63b4e78\" y=\"58.36827\"/>\r\n      </g>\r\n     </g>\r\n     <g id=\"text_15\">\r\n      <!-- 830 -->\r\n      <g transform=\"translate(20.878125 62.167489)scale(0.1 -0.1)\">\r\n       <defs>\r\n        <path d=\"M 40.578125 39.3125 \r\nQ 47.65625 37.796875 51.625 33 \r\nQ 55.609375 28.21875 55.609375 21.1875 \r\nQ 55.609375 10.40625 48.1875 4.484375 \r\nQ 40.765625 -1.421875 27.09375 -1.421875 \r\nQ 22.515625 -1.421875 17.65625 -0.515625 \r\nQ 12.796875 0.390625 7.625 2.203125 \r\nL 7.625 11.71875 \r\nQ 11.71875 9.328125 16.59375 8.109375 \r\nQ 21.484375 6.890625 26.8125 6.890625 \r\nQ 36.078125 6.890625 40.9375 10.546875 \r\nQ 45.796875 14.203125 45.796875 21.1875 \r\nQ 45.796875 27.640625 41.28125 31.265625 \r\nQ 36.765625 34.90625 28.71875 34.90625 \r\nL 20.21875 34.90625 \r\nL 20.21875 43.015625 \r\nL 29.109375 43.015625 \r\nQ 36.375 43.015625 40.234375 45.921875 \r\nQ 44.09375 48.828125 44.09375 54.296875 \r\nQ 44.09375 59.90625 40.109375 62.90625 \r\nQ 36.140625 65.921875 28.71875 65.921875 \r\nQ 24.65625 65.921875 20.015625 65.03125 \r\nQ 15.375 64.15625 9.8125 62.3125 \r\nL 9.8125 71.09375 \r\nQ 15.4375 72.65625 20.34375 73.4375 \r\nQ 25.25 74.21875 29.59375 74.21875 \r\nQ 40.828125 74.21875 47.359375 69.109375 \r\nQ 53.90625 64.015625 53.90625 55.328125 \r\nQ 53.90625 49.265625 50.4375 45.09375 \r\nQ 46.96875 40.921875 40.578125 39.3125 \r\nz\r\n\" id=\"DejaVuSans-51\"/>\r\n       </defs>\r\n       <use xlink:href=\"#DejaVuSans-56\"/>\r\n       <use x=\"63.623047\" xlink:href=\"#DejaVuSans-51\"/>\r\n       <use x=\"127.246094\" xlink:href=\"#DejaVuSans-48\"/>\r\n      </g>\r\n     </g>\r\n    </g>\r\n    <g id=\"ytick_7\">\r\n     <g id=\"line2d_15\">\r\n      <g>\r\n       <use style=\"stroke:#000000;stroke-width:0.8;\" x=\"46.965625\" xlink:href=\"#m56d63b4e78\" y=\"24.864418\"/>\r\n      </g>\r\n     </g>\r\n     <g id=\"text_16\">\r\n      <!-- 840 -->\r\n      <g transform=\"translate(20.878125 28.663637)scale(0.1 -0.1)\">\r\n       <defs>\r\n        <path d=\"M 37.796875 64.3125 \r\nL 12.890625 25.390625 \r\nL 37.796875 25.390625 \r\nz\r\nM 35.203125 72.90625 \r\nL 47.609375 72.90625 \r\nL 47.609375 25.390625 \r\nL 58.015625 25.390625 \r\nL 58.015625 17.1875 \r\nL 47.609375 17.1875 \r\nL 47.609375 0 \r\nL 37.796875 0 \r\nL 37.796875 17.1875 \r\nL 4.890625 17.1875 \r\nL 4.890625 26.703125 \r\nz\r\n\" id=\"DejaVuSans-52\"/>\r\n       </defs>\r\n       <use xlink:href=\"#DejaVuSans-56\"/>\r\n       <use x=\"63.623047\" xlink:href=\"#DejaVuSans-52\"/>\r\n       <use x=\"127.246094\" xlink:href=\"#DejaVuSans-48\"/>\r\n      </g>\r\n     </g>\r\n    </g>\r\n    <g id=\"text_17\">\r\n     <!-- Stock Open value -->\r\n     <g transform=\"translate(14.798438 175.067812)rotate(-90)scale(0.1 -0.1)\">\r\n      <defs>\r\n       <path d=\"M 53.515625 70.515625 \r\nL 53.515625 60.890625 \r\nQ 47.90625 63.578125 42.921875 64.890625 \r\nQ 37.9375 66.21875 33.296875 66.21875 \r\nQ 25.25 66.21875 20.875 63.09375 \r\nQ 16.5 59.96875 16.5 54.203125 \r\nQ 16.5 49.359375 19.40625 46.890625 \r\nQ 22.3125 44.4375 30.421875 42.921875 \r\nL 36.375 41.703125 \r\nQ 47.40625 39.59375 52.65625 34.296875 \r\nQ 57.90625 29 57.90625 20.125 \r\nQ 57.90625 9.515625 50.796875 4.046875 \r\nQ 43.703125 -1.421875 29.984375 -1.421875 \r\nQ 24.8125 -1.421875 18.96875 -0.25 \r\nQ 13.140625 0.921875 6.890625 3.21875 \r\nL 6.890625 13.375 \r\nQ 12.890625 10.015625 18.65625 8.296875 \r\nQ 24.421875 6.59375 29.984375 6.59375 \r\nQ 38.421875 6.59375 43.015625 9.90625 \r\nQ 47.609375 13.234375 47.609375 19.390625 \r\nQ 47.609375 24.75 44.3125 27.78125 \r\nQ 41.015625 30.8125 33.5 32.328125 \r\nL 27.484375 33.5 \r\nQ 16.453125 35.6875 11.515625 40.375 \r\nQ 6.59375 45.0625 6.59375 53.421875 \r\nQ 6.59375 63.09375 13.40625 68.65625 \r\nQ 20.21875 74.21875 32.171875 74.21875 \r\nQ 37.3125 74.21875 42.625 73.28125 \r\nQ 47.953125 72.359375 53.515625 70.515625 \r\nz\r\n\" id=\"DejaVuSans-83\"/>\r\n       <path d=\"M 18.3125 70.21875 \r\nL 18.3125 54.6875 \r\nL 36.8125 54.6875 \r\nL 36.8125 47.703125 \r\nL 18.3125 47.703125 \r\nL 18.3125 18.015625 \r\nQ 18.3125 11.328125 20.140625 9.421875 \r\nQ 21.96875 7.515625 27.59375 7.515625 \r\nL 36.8125 7.515625 \r\nL 36.8125 0 \r\nL 27.59375 0 \r\nQ 17.1875 0 13.234375 3.875 \r\nQ 9.28125 7.765625 9.28125 18.015625 \r\nL 9.28125 47.703125 \r\nL 2.6875 47.703125 \r\nL 2.6875 54.6875 \r\nL 9.28125 54.6875 \r\nL 9.28125 70.21875 \r\nz\r\n\" id=\"DejaVuSans-116\"/>\r\n       <path d=\"M 48.78125 52.59375 \r\nL 48.78125 44.1875 \r\nQ 44.96875 46.296875 41.140625 47.34375 \r\nQ 37.3125 48.390625 33.40625 48.390625 \r\nQ 24.65625 48.390625 19.8125 42.84375 \r\nQ 14.984375 37.3125 14.984375 27.296875 \r\nQ 14.984375 17.28125 19.8125 11.734375 \r\nQ 24.65625 6.203125 33.40625 6.203125 \r\nQ 37.3125 6.203125 41.140625 7.25 \r\nQ 44.96875 8.296875 48.78125 10.40625 \r\nL 48.78125 2.09375 \r\nQ 45.015625 0.34375 40.984375 -0.53125 \r\nQ 36.96875 -1.421875 32.421875 -1.421875 \r\nQ 20.0625 -1.421875 12.78125 6.34375 \r\nQ 5.515625 14.109375 5.515625 27.296875 \r\nQ 5.515625 40.671875 12.859375 48.328125 \r\nQ 20.21875 56 33.015625 56 \r\nQ 37.15625 56 41.109375 55.140625 \r\nQ 45.0625 54.296875 48.78125 52.59375 \r\nz\r\n\" id=\"DejaVuSans-99\"/>\r\n       <path d=\"M 9.078125 75.984375 \r\nL 18.109375 75.984375 \r\nL 18.109375 31.109375 \r\nL 44.921875 54.6875 \r\nL 56.390625 54.6875 \r\nL 27.390625 29.109375 \r\nL 57.625 0 \r\nL 45.90625 0 \r\nL 18.109375 26.703125 \r\nL 18.109375 0 \r\nL 9.078125 0 \r\nz\r\n\" id=\"DejaVuSans-107\"/>\r\n       <path d=\"M 39.40625 66.21875 \r\nQ 28.65625 66.21875 22.328125 58.203125 \r\nQ 16.015625 50.203125 16.015625 36.375 \r\nQ 16.015625 22.609375 22.328125 14.59375 \r\nQ 28.65625 6.59375 39.40625 6.59375 \r\nQ 50.140625 6.59375 56.421875 14.59375 \r\nQ 62.703125 22.609375 62.703125 36.375 \r\nQ 62.703125 50.203125 56.421875 58.203125 \r\nQ 50.140625 66.21875 39.40625 66.21875 \r\nz\r\nM 39.40625 74.21875 \r\nQ 54.734375 74.21875 63.90625 63.9375 \r\nQ 73.09375 53.65625 73.09375 36.375 \r\nQ 73.09375 19.140625 63.90625 8.859375 \r\nQ 54.734375 -1.421875 39.40625 -1.421875 \r\nQ 24.03125 -1.421875 14.8125 8.828125 \r\nQ 5.609375 19.09375 5.609375 36.375 \r\nQ 5.609375 53.65625 14.8125 63.9375 \r\nQ 24.03125 74.21875 39.40625 74.21875 \r\nz\r\n\" id=\"DejaVuSans-79\"/>\r\n       <path d=\"M 18.109375 8.203125 \r\nL 18.109375 -20.796875 \r\nL 9.078125 -20.796875 \r\nL 9.078125 54.6875 \r\nL 18.109375 54.6875 \r\nL 18.109375 46.390625 \r\nQ 20.953125 51.265625 25.265625 53.625 \r\nQ 29.59375 56 35.59375 56 \r\nQ 45.5625 56 51.78125 48.09375 \r\nQ 58.015625 40.1875 58.015625 27.296875 \r\nQ 58.015625 14.40625 51.78125 6.484375 \r\nQ 45.5625 -1.421875 35.59375 -1.421875 \r\nQ 29.59375 -1.421875 25.265625 0.953125 \r\nQ 20.953125 3.328125 18.109375 8.203125 \r\nz\r\nM 48.6875 27.296875 \r\nQ 48.6875 37.203125 44.609375 42.84375 \r\nQ 40.53125 48.484375 33.40625 48.484375 \r\nQ 26.265625 48.484375 22.1875 42.84375 \r\nQ 18.109375 37.203125 18.109375 27.296875 \r\nQ 18.109375 17.390625 22.1875 11.75 \r\nQ 26.265625 6.109375 33.40625 6.109375 \r\nQ 40.53125 6.109375 44.609375 11.75 \r\nQ 48.6875 17.390625 48.6875 27.296875 \r\nz\r\n\" id=\"DejaVuSans-112\"/>\r\n       <path d=\"M 2.984375 54.6875 \r\nL 12.5 54.6875 \r\nL 29.59375 8.796875 \r\nL 46.6875 54.6875 \r\nL 56.203125 54.6875 \r\nL 35.6875 0 \r\nL 23.484375 0 \r\nz\r\n\" id=\"DejaVuSans-118\"/>\r\n       <path d=\"M 34.28125 27.484375 \r\nQ 23.390625 27.484375 19.1875 25 \r\nQ 14.984375 22.515625 14.984375 16.5 \r\nQ 14.984375 11.71875 18.140625 8.90625 \r\nQ 21.296875 6.109375 26.703125 6.109375 \r\nQ 34.1875 6.109375 38.703125 11.40625 \r\nQ 43.21875 16.703125 43.21875 25.484375 \r\nL 43.21875 27.484375 \r\nz\r\nM 52.203125 31.203125 \r\nL 52.203125 0 \r\nL 43.21875 0 \r\nL 43.21875 8.296875 \r\nQ 40.140625 3.328125 35.546875 0.953125 \r\nQ 30.953125 -1.421875 24.3125 -1.421875 \r\nQ 15.921875 -1.421875 10.953125 3.296875 \r\nQ 6 8.015625 6 15.921875 \r\nQ 6 25.140625 12.171875 29.828125 \r\nQ 18.359375 34.515625 30.609375 34.515625 \r\nL 43.21875 34.515625 \r\nL 43.21875 35.40625 \r\nQ 43.21875 41.609375 39.140625 45 \r\nQ 35.0625 48.390625 27.6875 48.390625 \r\nQ 23 48.390625 18.546875 47.265625 \r\nQ 14.109375 46.140625 10.015625 43.890625 \r\nL 10.015625 52.203125 \r\nQ 14.9375 54.109375 19.578125 55.046875 \r\nQ 24.21875 56 28.609375 56 \r\nQ 40.484375 56 46.34375 49.84375 \r\nQ 52.203125 43.703125 52.203125 31.203125 \r\nz\r\n\" id=\"DejaVuSans-97\"/>\r\n      </defs>\r\n      <use xlink:href=\"#DejaVuSans-83\"/>\r\n      <use x=\"63.476562\" xlink:href=\"#DejaVuSans-116\"/>\r\n      <use x=\"102.685547\" xlink:href=\"#DejaVuSans-111\"/>\r\n      <use x=\"163.867188\" xlink:href=\"#DejaVuSans-99\"/>\r\n      <use x=\"218.847656\" xlink:href=\"#DejaVuSans-107\"/>\r\n      <use x=\"276.757812\" xlink:href=\"#DejaVuSans-32\"/>\r\n      <use x=\"308.544922\" xlink:href=\"#DejaVuSans-79\"/>\r\n      <use x=\"387.255859\" xlink:href=\"#DejaVuSans-112\"/>\r\n      <use x=\"450.732422\" xlink:href=\"#DejaVuSans-101\"/>\r\n      <use x=\"512.255859\" xlink:href=\"#DejaVuSans-110\"/>\r\n      <use x=\"575.634766\" xlink:href=\"#DejaVuSans-32\"/>\r\n      <use x=\"607.421875\" xlink:href=\"#DejaVuSans-118\"/>\r\n      <use x=\"666.601562\" xlink:href=\"#DejaVuSans-97\"/>\r\n      <use x=\"727.880859\" xlink:href=\"#DejaVuSans-108\"/>\r\n      <use x=\"755.664062\" xlink:href=\"#DejaVuSans-117\"/>\r\n      <use x=\"819.042969\" xlink:href=\"#DejaVuSans-101\"/>\r\n     </g>\r\n    </g>\r\n   </g>\r\n   <g id=\"line2d_16\">\r\n    <path clip-path=\"url(#p6a89f645d3)\" d=\"M 62.183807 229.874489 \r\nL 78.202946 197.87831 \r\nL 94.222084 205.517188 \r\nL 110.241223 174.760652 \r\nL 126.260362 137.437361 \r\nL 142.279501 132.545798 \r\nL 158.298639 142.1279 \r\nL 174.317778 134.958076 \r\nL 190.336917 133.818945 \r\nL 206.356056 135.159099 \r\nL 222.375194 139.414088 \r\nL 238.394333 141.725854 \r\nL 254.413472 135.728664 \r\nL 270.432611 134.589533 \r\nL 286.451749 84.166236 \r\nL 302.470888 59.641416 \r\nL 318.490027 32.201761 \r\nL 334.509166 42.587956 \r\nL 350.528304 109.763179 \r\nL 366.547443 169.400036 \r\n\" style=\"fill:none;stroke:#ff0000;stroke-linecap:square;stroke-width:1.5;\"/>\r\n   </g>\r\n   <g id=\"line2d_17\">\r\n    <path clip-path=\"url(#p6a89f645d3)\" d=\"M 62.183807 215.849258 \r\nL 78.202946 222.834884 \r\nL 94.222084 202.240976 \r\nL 110.241223 202.491478 \r\nL 126.260362 172.64802 \r\nL 142.279501 126.891254 \r\nL 158.298639 132.851971 \r\nL 174.317778 139.312669 \r\nL 190.336917 138.851336 \r\nL 206.356056 142.134853 \r\nL 222.375194 141.2537 \r\nL 238.394333 142.049375 \r\nL 254.413472 142.856911 \r\nL 270.432611 137.711502 \r\nL 286.451749 134.873776 \r\nL 302.470888 99.290657 \r\nL 318.490027 74.5376 \r\nL 334.509166 54.709512 \r\nL 350.528304 85.56193 \r\nL 366.547443 155.44744 \r\n\" style=\"fill:none;stroke:#0000ff;stroke-linecap:square;stroke-width:1.5;\"/>\r\n   </g>\r\n   <g id=\"patch_3\">\r\n    <path d=\"M 46.965625 239.758125 \r\nL 46.965625 22.318125 \r\n\" style=\"fill:none;stroke:#000000;stroke-linecap:square;stroke-linejoin:miter;stroke-width:0.8;\"/>\r\n   </g>\r\n   <g id=\"patch_4\">\r\n    <path d=\"M 381.765625 239.758125 \r\nL 381.765625 22.318125 \r\n\" style=\"fill:none;stroke:#000000;stroke-linecap:square;stroke-linejoin:miter;stroke-width:0.8;\"/>\r\n   </g>\r\n   <g id=\"patch_5\">\r\n    <path d=\"M 46.965625 239.758125 \r\nL 381.765625 239.758125 \r\n\" style=\"fill:none;stroke:#000000;stroke-linecap:square;stroke-linejoin:miter;stroke-width:0.8;\"/>\r\n   </g>\r\n   <g id=\"patch_6\">\r\n    <path d=\"M 46.965625 22.318125 \r\nL 381.765625 22.318125 \r\n\" style=\"fill:none;stroke:#000000;stroke-linecap:square;stroke-linejoin:miter;stroke-width:0.8;\"/>\r\n   </g>\r\n   <g id=\"text_18\">\r\n    <!-- Google Opening Stock value -->\r\n    <g transform=\"translate(129.185313 16.318125)scale(0.12 -0.12)\">\r\n     <defs>\r\n      <path d=\"M 59.515625 10.40625 \r\nL 59.515625 29.984375 \r\nL 43.40625 29.984375 \r\nL 43.40625 38.09375 \r\nL 69.28125 38.09375 \r\nL 69.28125 6.78125 \r\nQ 63.578125 2.734375 56.6875 0.65625 \r\nQ 49.8125 -1.421875 42 -1.421875 \r\nQ 24.90625 -1.421875 15.25 8.5625 \r\nQ 5.609375 18.5625 5.609375 36.375 \r\nQ 5.609375 54.25 15.25 64.234375 \r\nQ 24.90625 74.21875 42 74.21875 \r\nQ 49.125 74.21875 55.546875 72.453125 \r\nQ 61.96875 70.703125 67.390625 67.28125 \r\nL 67.390625 56.78125 \r\nQ 61.921875 61.421875 55.765625 63.765625 \r\nQ 49.609375 66.109375 42.828125 66.109375 \r\nQ 29.4375 66.109375 22.71875 58.640625 \r\nQ 16.015625 51.171875 16.015625 36.375 \r\nQ 16.015625 21.625 22.71875 14.15625 \r\nQ 29.4375 6.6875 42.828125 6.6875 \r\nQ 48.046875 6.6875 52.140625 7.59375 \r\nQ 56.25 8.5 59.515625 10.40625 \r\nz\r\n\" id=\"DejaVuSans-71\"/>\r\n      <path d=\"M 45.40625 27.984375 \r\nQ 45.40625 37.75 41.375 43.109375 \r\nQ 37.359375 48.484375 30.078125 48.484375 \r\nQ 22.859375 48.484375 18.828125 43.109375 \r\nQ 14.796875 37.75 14.796875 27.984375 \r\nQ 14.796875 18.265625 18.828125 12.890625 \r\nQ 22.859375 7.515625 30.078125 7.515625 \r\nQ 37.359375 7.515625 41.375 12.890625 \r\nQ 45.40625 18.265625 45.40625 27.984375 \r\nz\r\nM 54.390625 6.78125 \r\nQ 54.390625 -7.171875 48.1875 -13.984375 \r\nQ 42 -20.796875 29.203125 -20.796875 \r\nQ 24.46875 -20.796875 20.265625 -20.09375 \r\nQ 16.0625 -19.390625 12.109375 -17.921875 \r\nL 12.109375 -9.1875 \r\nQ 16.0625 -11.328125 19.921875 -12.34375 \r\nQ 23.78125 -13.375 27.78125 -13.375 \r\nQ 36.625 -13.375 41.015625 -8.765625 \r\nQ 45.40625 -4.15625 45.40625 5.171875 \r\nL 45.40625 9.625 \r\nQ 42.625 4.78125 38.28125 2.390625 \r\nQ 33.9375 0 27.875 0 \r\nQ 17.828125 0 11.671875 7.65625 \r\nQ 5.515625 15.328125 5.515625 27.984375 \r\nQ 5.515625 40.671875 11.671875 48.328125 \r\nQ 17.828125 56 27.875 56 \r\nQ 33.9375 56 38.28125 53.609375 \r\nQ 42.625 51.21875 45.40625 46.390625 \r\nL 45.40625 54.6875 \r\nL 54.390625 54.6875 \r\nz\r\n\" id=\"DejaVuSans-103\"/>\r\n      <path d=\"M 9.421875 54.6875 \r\nL 18.40625 54.6875 \r\nL 18.40625 0 \r\nL 9.421875 0 \r\nz\r\nM 9.421875 75.984375 \r\nL 18.40625 75.984375 \r\nL 18.40625 64.59375 \r\nL 9.421875 64.59375 \r\nz\r\n\" id=\"DejaVuSans-105\"/>\r\n     </defs>\r\n     <use xlink:href=\"#DejaVuSans-71\"/>\r\n     <use x=\"77.490234\" xlink:href=\"#DejaVuSans-111\"/>\r\n     <use x=\"138.671875\" xlink:href=\"#DejaVuSans-111\"/>\r\n     <use x=\"199.853516\" xlink:href=\"#DejaVuSans-103\"/>\r\n     <use x=\"263.330078\" xlink:href=\"#DejaVuSans-108\"/>\r\n     <use x=\"291.113281\" xlink:href=\"#DejaVuSans-101\"/>\r\n     <use x=\"352.636719\" xlink:href=\"#DejaVuSans-32\"/>\r\n     <use x=\"384.423828\" xlink:href=\"#DejaVuSans-79\"/>\r\n     <use x=\"463.134766\" xlink:href=\"#DejaVuSans-112\"/>\r\n     <use x=\"526.611328\" xlink:href=\"#DejaVuSans-101\"/>\r\n     <use x=\"588.134766\" xlink:href=\"#DejaVuSans-110\"/>\r\n     <use x=\"651.513672\" xlink:href=\"#DejaVuSans-105\"/>\r\n     <use x=\"679.296875\" xlink:href=\"#DejaVuSans-110\"/>\r\n     <use x=\"742.675781\" xlink:href=\"#DejaVuSans-103\"/>\r\n     <use x=\"806.152344\" xlink:href=\"#DejaVuSans-32\"/>\r\n     <use x=\"837.939453\" xlink:href=\"#DejaVuSans-83\"/>\r\n     <use x=\"901.416016\" xlink:href=\"#DejaVuSans-116\"/>\r\n     <use x=\"940.625\" xlink:href=\"#DejaVuSans-111\"/>\r\n     <use x=\"1001.806641\" xlink:href=\"#DejaVuSans-99\"/>\r\n     <use x=\"1056.787109\" xlink:href=\"#DejaVuSans-107\"/>\r\n     <use x=\"1114.697266\" xlink:href=\"#DejaVuSans-32\"/>\r\n     <use x=\"1146.484375\" xlink:href=\"#DejaVuSans-118\"/>\r\n     <use x=\"1205.664062\" xlink:href=\"#DejaVuSans-97\"/>\r\n     <use x=\"1266.943359\" xlink:href=\"#DejaVuSans-108\"/>\r\n     <use x=\"1294.726562\" xlink:href=\"#DejaVuSans-117\"/>\r\n     <use x=\"1358.105469\" xlink:href=\"#DejaVuSans-101\"/>\r\n    </g>\r\n   </g>\r\n   <g id=\"legend_1\">\r\n    <g id=\"patch_7\">\r\n     <path d=\"M 53.965625 59.674375 \r\nL 168.75625 59.674375 \r\nQ 170.75625 59.674375 170.75625 57.674375 \r\nL 170.75625 29.318125 \r\nQ 170.75625 27.318125 168.75625 27.318125 \r\nL 53.965625 27.318125 \r\nQ 51.965625 27.318125 51.965625 29.318125 \r\nL 51.965625 57.674375 \r\nQ 51.965625 59.674375 53.965625 59.674375 \r\nz\r\n\" style=\"fill:#ffffff;opacity:0.8;stroke:#cccccc;stroke-linejoin:miter;\"/>\r\n    </g>\r\n    <g id=\"line2d_18\">\r\n     <path d=\"M 55.965625 35.416562 \r\nL 75.965625 35.416562 \r\n\" style=\"fill:none;stroke:#ff0000;stroke-linecap:square;stroke-width:1.5;\"/>\r\n    </g>\r\n    <g id=\"line2d_19\"/>\r\n    <g id=\"text_19\">\r\n     <!-- Actual Values -->\r\n     <g transform=\"translate(83.965625 38.916562)scale(0.1 -0.1)\">\r\n      <defs>\r\n       <path d=\"M 34.1875 63.1875 \r\nL 20.796875 26.90625 \r\nL 47.609375 26.90625 \r\nz\r\nM 28.609375 72.90625 \r\nL 39.796875 72.90625 \r\nL 67.578125 0 \r\nL 57.328125 0 \r\nL 50.6875 18.703125 \r\nL 17.828125 18.703125 \r\nL 11.1875 0 \r\nL 0.78125 0 \r\nz\r\n\" id=\"DejaVuSans-65\"/>\r\n       <path d=\"M 28.609375 0 \r\nL 0.78125 72.90625 \r\nL 11.078125 72.90625 \r\nL 34.1875 11.53125 \r\nL 57.328125 72.90625 \r\nL 67.578125 72.90625 \r\nL 39.796875 0 \r\nz\r\n\" id=\"DejaVuSans-86\"/>\r\n       <path d=\"M 44.28125 53.078125 \r\nL 44.28125 44.578125 \r\nQ 40.484375 46.53125 36.375 47.5 \r\nQ 32.28125 48.484375 27.875 48.484375 \r\nQ 21.1875 48.484375 17.84375 46.4375 \r\nQ 14.5 44.390625 14.5 40.28125 \r\nQ 14.5 37.15625 16.890625 35.375 \r\nQ 19.28125 33.59375 26.515625 31.984375 \r\nL 29.59375 31.296875 \r\nQ 39.15625 29.25 43.1875 25.515625 \r\nQ 47.21875 21.78125 47.21875 15.09375 \r\nQ 47.21875 7.46875 41.1875 3.015625 \r\nQ 35.15625 -1.421875 24.609375 -1.421875 \r\nQ 20.21875 -1.421875 15.453125 -0.5625 \r\nQ 10.6875 0.296875 5.421875 2 \r\nL 5.421875 11.28125 \r\nQ 10.40625 8.6875 15.234375 7.390625 \r\nQ 20.0625 6.109375 24.8125 6.109375 \r\nQ 31.15625 6.109375 34.5625 8.28125 \r\nQ 37.984375 10.453125 37.984375 14.40625 \r\nQ 37.984375 18.0625 35.515625 20.015625 \r\nQ 33.0625 21.96875 24.703125 23.78125 \r\nL 21.578125 24.515625 \r\nQ 13.234375 26.265625 9.515625 29.90625 \r\nQ 5.8125 33.546875 5.8125 39.890625 \r\nQ 5.8125 47.609375 11.28125 51.796875 \r\nQ 16.75 56 26.8125 56 \r\nQ 31.78125 56 36.171875 55.265625 \r\nQ 40.578125 54.546875 44.28125 53.078125 \r\nz\r\n\" id=\"DejaVuSans-115\"/>\r\n      </defs>\r\n      <use xlink:href=\"#DejaVuSans-65\"/>\r\n      <use x=\"66.658203\" xlink:href=\"#DejaVuSans-99\"/>\r\n      <use x=\"121.638672\" xlink:href=\"#DejaVuSans-116\"/>\r\n      <use x=\"160.847656\" xlink:href=\"#DejaVuSans-117\"/>\r\n      <use x=\"224.226562\" xlink:href=\"#DejaVuSans-97\"/>\r\n      <use x=\"285.505859\" xlink:href=\"#DejaVuSans-108\"/>\r\n      <use x=\"313.289062\" xlink:href=\"#DejaVuSans-32\"/>\r\n      <use x=\"345.076172\" xlink:href=\"#DejaVuSans-86\"/>\r\n      <use x=\"405.734375\" xlink:href=\"#DejaVuSans-97\"/>\r\n      <use x=\"467.013672\" xlink:href=\"#DejaVuSans-108\"/>\r\n      <use x=\"494.796875\" xlink:href=\"#DejaVuSans-117\"/>\r\n      <use x=\"558.175781\" xlink:href=\"#DejaVuSans-101\"/>\r\n      <use x=\"619.699219\" xlink:href=\"#DejaVuSans-115\"/>\r\n     </g>\r\n    </g>\r\n    <g id=\"line2d_20\">\r\n     <path d=\"M 55.965625 50.094687 \r\nL 75.965625 50.094687 \r\n\" style=\"fill:none;stroke:#0000ff;stroke-linecap:square;stroke-width:1.5;\"/>\r\n    </g>\r\n    <g id=\"line2d_21\"/>\r\n    <g id=\"text_20\">\r\n     <!-- Predicted Values -->\r\n     <g transform=\"translate(83.965625 53.594687)scale(0.1 -0.1)\">\r\n      <defs>\r\n       <path d=\"M 19.671875 64.796875 \r\nL 19.671875 37.40625 \r\nL 32.078125 37.40625 \r\nQ 38.96875 37.40625 42.71875 40.96875 \r\nQ 46.484375 44.53125 46.484375 51.125 \r\nQ 46.484375 57.671875 42.71875 61.234375 \r\nQ 38.96875 64.796875 32.078125 64.796875 \r\nz\r\nM 9.8125 72.90625 \r\nL 32.078125 72.90625 \r\nQ 44.34375 72.90625 50.609375 67.359375 \r\nQ 56.890625 61.8125 56.890625 51.125 \r\nQ 56.890625 40.328125 50.609375 34.8125 \r\nQ 44.34375 29.296875 32.078125 29.296875 \r\nL 19.671875 29.296875 \r\nL 19.671875 0 \r\nL 9.8125 0 \r\nz\r\n\" id=\"DejaVuSans-80\"/>\r\n       <path d=\"M 45.40625 46.390625 \r\nL 45.40625 75.984375 \r\nL 54.390625 75.984375 \r\nL 54.390625 0 \r\nL 45.40625 0 \r\nL 45.40625 8.203125 \r\nQ 42.578125 3.328125 38.25 0.953125 \r\nQ 33.9375 -1.421875 27.875 -1.421875 \r\nQ 17.96875 -1.421875 11.734375 6.484375 \r\nQ 5.515625 14.40625 5.515625 27.296875 \r\nQ 5.515625 40.1875 11.734375 48.09375 \r\nQ 17.96875 56 27.875 56 \r\nQ 33.9375 56 38.25 53.625 \r\nQ 42.578125 51.265625 45.40625 46.390625 \r\nz\r\nM 14.796875 27.296875 \r\nQ 14.796875 17.390625 18.875 11.75 \r\nQ 22.953125 6.109375 30.078125 6.109375 \r\nQ 37.203125 6.109375 41.296875 11.75 \r\nQ 45.40625 17.390625 45.40625 27.296875 \r\nQ 45.40625 37.203125 41.296875 42.84375 \r\nQ 37.203125 48.484375 30.078125 48.484375 \r\nQ 22.953125 48.484375 18.875 42.84375 \r\nQ 14.796875 37.203125 14.796875 27.296875 \r\nz\r\n\" id=\"DejaVuSans-100\"/>\r\n      </defs>\r\n      <use xlink:href=\"#DejaVuSans-80\"/>\r\n      <use x=\"58.552734\" xlink:href=\"#DejaVuSans-114\"/>\r\n      <use x=\"97.416016\" xlink:href=\"#DejaVuSans-101\"/>\r\n      <use x=\"158.939453\" xlink:href=\"#DejaVuSans-100\"/>\r\n      <use x=\"222.416016\" xlink:href=\"#DejaVuSans-105\"/>\r\n      <use x=\"250.199219\" xlink:href=\"#DejaVuSans-99\"/>\r\n      <use x=\"305.179688\" xlink:href=\"#DejaVuSans-116\"/>\r\n      <use x=\"344.388672\" xlink:href=\"#DejaVuSans-101\"/>\r\n      <use x=\"405.912109\" xlink:href=\"#DejaVuSans-100\"/>\r\n      <use x=\"469.388672\" xlink:href=\"#DejaVuSans-32\"/>\r\n      <use x=\"501.175781\" xlink:href=\"#DejaVuSans-86\"/>\r\n      <use x=\"561.833984\" xlink:href=\"#DejaVuSans-97\"/>\r\n      <use x=\"623.113281\" xlink:href=\"#DejaVuSans-108\"/>\r\n      <use x=\"650.896484\" xlink:href=\"#DejaVuSans-117\"/>\r\n      <use x=\"714.275391\" xlink:href=\"#DejaVuSans-101\"/>\r\n      <use x=\"775.798828\" xlink:href=\"#DejaVuSans-115\"/>\r\n     </g>\r\n    </g>\r\n   </g>\r\n  </g>\r\n </g>\r\n <defs>\r\n  <clipPath id=\"p6a89f645d3\">\r\n   <rect height=\"217.44\" width=\"334.8\" x=\"46.965625\" y=\"22.318125\"/>\r\n  </clipPath>\r\n </defs>\r\n</svg>\r\n",
      "image/png": "[encoded data removed]"
     },
     "metadata": {
      "needs_background": "light"
     }
    }
   ],
   "source": [
    "plt.plot(y_test,color=\"red\",label=\"Actual Values\")\n",
    "plt.plot(y_pred,color=\"blue\",label=\"Predicted Values\")\n",
    "plt.xlabel(\"Column Number\")\n",
    "plt.ylabel(\"Stock Open value\")\n",
    "plt.title(\"Google Opening Stock value\")\n",
    "plt.legend()\n",
    "plt.show()"
   ]
  },
  {
   "cell_type": "code",
   "execution_count": null,
   "metadata": {},
   "outputs": [],
   "source": []
  }
 ]
}