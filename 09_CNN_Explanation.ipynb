{
 "metadata": {
  "language_info": {
   "codemirror_mode": {
    "name": "ipython",
    "version": 3
   },
   "file_extension": ".py",
   "mimetype": "text/x-python",
   "name": "python",
   "nbconvert_exporter": "python",
   "pygments_lexer": "ipython3",
   "version": "3.6.8-final"
  },
  "orig_nbformat": 2,
  "kernelspec": {
   "name": "python3",
   "display_name": "Python 3",
   "language": "python"
  }
 },
 "nbformat": 4,
 "nbformat_minor": 2,
 "cells": [
  {
   "source": [
    "Binary Image - 0 or 1\n",
    "\n",
    "GrayScale Image - (0-255,0-255) Black,White\n",
    "\n",
    "Colored Image - (0-255,0-255,0-255) RGB values"
   ],
   "cell_type": "markdown",
   "metadata": {}
  },
  {
   "source": [
    "4 layers in CNN\n",
    "\n",
    "Convolution Layer\n",
    "\n",
    "Pooling Layer\n",
    "\n",
    "Flattening Layer\n",
    "\n",
    "Fully Connected Layer"
   ],
   "cell_type": "markdown",
   "metadata": {}
  },
  {
   "source": [
    "Convolution Layer:\n",
    "\n",
    "    Two entiities convolute to produce another entity\n",
    "\n",
    "    (f*g)(t) = integral(f(tau)*g(t-tau))(from -infinity to +infinity)\n",
    "\n",
    "In Images:\n",
    "\n",
    " A image(array of pixels) is convoluted(dot product or common elements) with one or more feature detectors (edge detector, sharpening, blur etc.) will produce one or more feature maps\n",
    "\n",
    "Dot product:\n",
    "\n",
    "1 0 1 1              1  0                    -3  0  0\n",
    "\n",
    "1 0 0 1      *      -2 -1           =         1 -1 -3\n",
    "\n",
    "0 0 1 1       \n",
    "\n",
    " Image         Feature detector            Feature map\n",
    "\n",
    "here 2x2 fd is placed on 2x2 part of image\n",
    "each element is multiplied(each eloement mul with corresponding element) and added to produce output. Then fd is moved 1 or n steps right.\n",
    "Once we reach end then we move down(stride) to start with new row of image\n",
    "\n",
    "Common elements:\n",
    "\n",
    "1 0 1 1           1  0\n",
    "\n",
    "1 0 0 1     *    -2 -1\n",
    "\n",
    "0 0 1 1       \n",
    "\n",
    " Image         Feature detector\n",
    "\n",
    "here 2x2 fd is placed on 2x2 part of image\n",
    "only those common are outputed while if no common then it outputs 0's. Then fd is moved 1 or n steps right.\n",
    "Once we reach end then we move down(stride) to start with new row of image"
   ],
   "cell_type": "code",
   "metadata": {},
   "execution_count": null,
   "outputs": []
  },
  {
   "cell_type": "code",
   "execution_count": null,
   "metadata": {},
   "outputs": [],
   "source": [
    "Spatial Invariance:\n",
    " While gathering features the best features is selected from image(feature maps) having very good/high quality features and used for selecting features\n",
    " This is avoided by max pooling\n",
    "\n",
    "Max Pooling:\n",
    "\n",
    "From feature maps, the max value is taken from nxn(feature detector size) size of feature map to produce another map\n",
    "\n",
    "-3  0  0    Max pool         1 0     (2x2 grid of fm layed across fm)\n",
    " 1 -1 -3   ---------->      max pool o/p"
   ]
  },
  {
   "cell_type": "code",
   "execution_count": null,
   "metadata": {},
   "outputs": [],
   "source": [
    "Flattening layer:\n",
    "n dimensions max pooled o/p to 1 dimension"
   ]
  },
  {
   "cell_type": "code",
   "execution_count": null,
   "metadata": {},
   "outputs": [],
   "source": [
    "Fully connected layer:\n",
    "Flattening layer connected to hidden layers and o/p layer(basically multi perceptrons previous examples except i/p is flattening layer)"
   ]
  },
  {
   "cell_type": "code",
   "execution_count": null,
   "metadata": {},
   "outputs": [],
   "source": []
  }
 ]
}