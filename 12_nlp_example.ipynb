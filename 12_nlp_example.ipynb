{
 "metadata": {
  "language_info": {
   "codemirror_mode": {
    "name": "ipython",
    "version": 3
   },
   "file_extension": ".py",
   "mimetype": "text/x-python",
   "name": "python",
   "nbconvert_exporter": "python",
   "pygments_lexer": "ipython3",
   "version": "3.6.8-final"
  },
  "orig_nbformat": 2,
  "kernelspec": {
   "name": "python3",
   "display_name": "Python 3",
   "language": "python"
  }
 },
 "nbformat": 4,
 "nbformat_minor": 2,
 "cells": [
  {
   "source": [
    "Sentimental analysis of Restaurant reviews (Binary +ve or -ve)"
   ],
   "cell_type": "markdown",
   "metadata": {}
  },
  {
   "cell_type": "code",
   "execution_count": 99,
   "metadata": {},
   "outputs": [],
   "source": [
    "import numpy as np\n",
    "import pandas as pd\n",
    "import matplotlib.pyplot as plt"
   ]
  },
  {
   "cell_type": "code",
   "execution_count": 100,
   "metadata": {},
   "outputs": [],
   "source": [
    "dataset = pd.read_csv(r\"Restaurant_Reviews.tsv\",delimiter = \"\\t\",quoting=3)\n",
    "\n",
    "#quoting = 0 - minimal quoting values\n",
    "#          1 - all values\n",
    "#          2 - non numerical values\n",
    "#          3 - omit quotes while splitting\n"
   ]
  },
  {
   "cell_type": "code",
   "execution_count": 101,
   "metadata": {},
   "outputs": [
    {
     "output_type": "execute_result",
     "data": {
      "text/plain": [
       "                     Review  Liked\n",
       "0  Wow... Loved this place.      1\n",
       "1        Crust is not good.      0"
      ],
      "text/html": "<div>\n<style scoped>\n    .dataframe tbody tr th:only-of-type {\n        vertical-align: middle;\n    }\n\n    .dataframe tbody tr th {\n        vertical-align: top;\n    }\n\n    .dataframe thead th {\n        text-align: right;\n    }\n</style>\n<table border=\"1\" class=\"dataframe\">\n  <thead>\n    <tr style=\"text-align: right;\">\n      <th></th>\n      <th>Review</th>\n      <th>Liked</th>\n    </tr>\n  </thead>\n  <tbody>\n    <tr>\n      <th>0</th>\n      <td>Wow... Loved this place.</td>\n      <td>1</td>\n    </tr>\n    <tr>\n      <th>1</th>\n      <td>Crust is not good.</td>\n      <td>0</td>\n    </tr>\n  </tbody>\n</table>\n</div>"
     },
     "metadata": {},
     "execution_count": 101
    }
   ],
   "source": [
    "dataset.head(2)"
   ]
  },
  {
   "cell_type": "code",
   "execution_count": 102,
   "metadata": {},
   "outputs": [
    {
     "output_type": "execute_result",
     "data": {
      "text/plain": [
       "                                                Review  Liked\n",
       "998  The whole experience was underwhelming, and I ...      0\n",
       "999  Then, as if I hadn't wasted enough of my life ...      0"
      ],
      "text/html": "<div>\n<style scoped>\n    .dataframe tbody tr th:only-of-type {\n        vertical-align: middle;\n    }\n\n    .dataframe tbody tr th {\n        vertical-align: top;\n    }\n\n    .dataframe thead th {\n        text-align: right;\n    }\n</style>\n<table border=\"1\" class=\"dataframe\">\n  <thead>\n    <tr style=\"text-align: right;\">\n      <th></th>\n      <th>Review</th>\n      <th>Liked</th>\n    </tr>\n  </thead>\n  <tbody>\n    <tr>\n      <th>998</th>\n      <td>The whole experience was underwhelming, and I ...</td>\n      <td>0</td>\n    </tr>\n    <tr>\n      <th>999</th>\n      <td>Then, as if I hadn't wasted enough of my life ...</td>\n      <td>0</td>\n    </tr>\n  </tbody>\n</table>\n</div>"
     },
     "metadata": {},
     "execution_count": 102
    }
   ],
   "source": [
    "dataset.tail(2)"
   ]
  },
  {
   "cell_type": "code",
   "execution_count": 103,
   "metadata": {},
   "outputs": [
    {
     "output_type": "stream",
     "name": "stderr",
     "text": [
      "[nltk_data] Downloading package stopwords to\n[nltk_data]     C:\\Users\\vaish\\AppData\\Roaming\\nltk_data...\n[nltk_data]   Package stopwords is already up-to-date!\n"
     ]
    }
   ],
   "source": [
    "import re\n",
    "import nltk\n",
    "nltk.download(\"stopwords\")\n",
    "from nltk.corpus import stopwords\n",
    "from nltk.stem.porter import PorterStemmer\n",
    "ps = PorterStemmer()"
   ]
  },
  {
   "cell_type": "code",
   "execution_count": 104,
   "metadata": {},
   "outputs": [],
   "source": [
    "dataset_list = []\n",
    "for i in range(0,dataset.shape[0]):\n",
    "    review = re.sub(\"[^a-zA-Z]\",\" \", dataset[\"Review\"][i])\n",
    "#except alphabets, replace/substitute everything with space\n",
    "    review = review.lower().split() #convert all capital to small letters and convert sentence to list, delimiter = \" \"\n",
    "    review = [ps.stem(word) for word in review if word not in set (stopwords.words(\"english\"))]#remove stop words & stemming\n",
    "    dataset_list.append(\" \".join(review))#finally join every word in list and append it to a new list"
   ]
  },
  {
   "cell_type": "code",
   "execution_count": 105,
   "metadata": {},
   "outputs": [],
   "source": [
    "from sklearn.feature_extraction.text import CountVectorizer\n",
    "cv = CountVectorizer(max_features = 1500)#max_features is max number of words that are to be columns. To avoid sparcity(more number of zeros)"
   ]
  },
  {
   "cell_type": "code",
   "execution_count": 106,
   "metadata": {},
   "outputs": [],
   "source": [
    "x = cv.fit_transform(dataset_list).toarray() #convert every word(as column) and update its frequency per sentence(as row) in dataset_list\n",
    "#visualize x in variables to undertsand it or refer to bag of words(nlp pipeline) in 11_nlp.ipynb\n",
    "y = dataset.iloc[:,-1].values#numpy array of last cloumn of dataset"
   ]
  },
  {
   "cell_type": "code",
   "execution_count": 107,
   "metadata": {},
   "outputs": [],
   "source": [
    "from sklearn.model_selection import train_test_split\n",
    "x_train, x_test, y_train, y_test = train_test_split(x,y,test_size=0.2,random_state=0)"
   ]
  },
  {
   "cell_type": "code",
   "execution_count": 108,
   "metadata": {},
   "outputs": [],
   "source": [
    "from keras.models import Sequential\n",
    "from keras.layers import Dense\n",
    "model = Sequential()"
   ]
  },
  {
   "cell_type": "code",
   "execution_count": 109,
   "metadata": {},
   "outputs": [],
   "source": [
    "model.add(Dense(input_dim=1500,kernel_initializer = \"random_uniform\",activation = \"sigmoid\",units=1000))\n",
    "model.add(Dense(units=100,kernel_initializer = \"random_uniform\",activation = \"sigmoid\"))\n",
    "model.add(Dense(units=1,kernel_initializer = \"random_uniform\",activation = \"sigmoid\"))"
   ]
  },
  {
   "cell_type": "code",
   "execution_count": 110,
   "metadata": {},
   "outputs": [],
   "source": [
    "model.compile(optimizer=\"adam\",loss=\"binary_crossentropy\",metrics=[\"accuracy\"])"
   ]
  },
  {
   "cell_type": "code",
   "execution_count": 111,
   "metadata": {},
   "outputs": [
    {
     "output_type": "stream",
     "name": "stdout",
     "text": [
      "Epoch 1/50\n",
      "80/80 [==============================] - 0s 3ms/step - loss: 0.6999 - accuracy: 0.5013\n",
      "Epoch 2/50\n",
      "80/80 [==============================] - 0s 3ms/step - loss: 0.6963 - accuracy: 0.5013\n",
      "Epoch 3/50\n",
      "80/80 [==============================] - 0s 3ms/step - loss: 0.6860 - accuracy: 0.5650\n",
      "Epoch 4/50\n",
      "80/80 [==============================] - 0s 3ms/step - loss: 0.5634 - accuracy: 0.7575\n",
      "Epoch 5/50\n",
      "80/80 [==============================] - 0s 3ms/step - loss: 0.3158 - accuracy: 0.8950\n",
      "Epoch 6/50\n",
      "80/80 [==============================] - 0s 3ms/step - loss: 0.1848 - accuracy: 0.9400\n",
      "Epoch 7/50\n",
      "80/80 [==============================] - 0s 3ms/step - loss: 0.1390 - accuracy: 0.9450\n",
      "Epoch 8/50\n",
      "80/80 [==============================] - 0s 3ms/step - loss: 0.0955 - accuracy: 0.9675\n",
      "Epoch 9/50\n",
      "80/80 [==============================] - 0s 3ms/step - loss: 0.0730 - accuracy: 0.9775\n",
      "Epoch 10/50\n",
      "80/80 [==============================] - 0s 3ms/step - loss: 0.0676 - accuracy: 0.9787\n",
      "Epoch 11/50\n",
      "80/80 [==============================] - 0s 3ms/step - loss: 0.0560 - accuracy: 0.9825\n",
      "Epoch 12/50\n",
      "80/80 [==============================] - 0s 3ms/step - loss: 0.0646 - accuracy: 0.9737\n",
      "Epoch 13/50\n",
      "80/80 [==============================] - 0s 3ms/step - loss: 0.0458 - accuracy: 0.9812\n",
      "Epoch 14/50\n",
      "80/80 [==============================] - 0s 3ms/step - loss: 0.0421 - accuracy: 0.9812\n",
      "Epoch 15/50\n",
      "80/80 [==============================] - 0s 3ms/step - loss: 0.0395 - accuracy: 0.9862\n",
      "Epoch 16/50\n",
      "80/80 [==============================] - 0s 3ms/step - loss: 0.0471 - accuracy: 0.9775\n",
      "Epoch 17/50\n",
      "80/80 [==============================] - 0s 3ms/step - loss: 0.0353 - accuracy: 0.9875\n",
      "Epoch 18/50\n",
      "80/80 [==============================] - 0s 3ms/step - loss: 0.0349 - accuracy: 0.9875\n",
      "Epoch 19/50\n",
      "80/80 [==============================] - 0s 3ms/step - loss: 0.0436 - accuracy: 0.9850\n",
      "Epoch 20/50\n",
      "80/80 [==============================] - 0s 3ms/step - loss: 0.0309 - accuracy: 0.9887\n",
      "Epoch 21/50\n",
      "80/80 [==============================] - 0s 3ms/step - loss: 0.0333 - accuracy: 0.9825\n",
      "Epoch 22/50\n",
      "80/80 [==============================] - 0s 3ms/step - loss: 0.0597 - accuracy: 0.9775\n",
      "Epoch 23/50\n",
      "80/80 [==============================] - 0s 3ms/step - loss: 0.0329 - accuracy: 0.9887\n",
      "Epoch 24/50\n",
      "80/80 [==============================] - 0s 3ms/step - loss: 0.0446 - accuracy: 0.9787\n",
      "Epoch 25/50\n",
      "80/80 [==============================] - 0s 3ms/step - loss: 0.0313 - accuracy: 0.9900\n",
      "Epoch 26/50\n",
      "80/80 [==============================] - 0s 3ms/step - loss: 0.0321 - accuracy: 0.9875\n",
      "Epoch 27/50\n",
      "80/80 [==============================] - 0s 3ms/step - loss: 0.0230 - accuracy: 0.9912\n",
      "Epoch 28/50\n",
      "80/80 [==============================] - 0s 3ms/step - loss: 0.0310 - accuracy: 0.9887\n",
      "Epoch 29/50\n",
      "80/80 [==============================] - 0s 3ms/step - loss: 0.0237 - accuracy: 0.9900\n",
      "Epoch 30/50\n",
      "80/80 [==============================] - 0s 3ms/step - loss: 0.0409 - accuracy: 0.9887\n",
      "Epoch 31/50\n",
      "80/80 [==============================] - 0s 3ms/step - loss: 0.0317 - accuracy: 0.9837\n",
      "Epoch 32/50\n",
      "80/80 [==============================] - 0s 3ms/step - loss: 0.0284 - accuracy: 0.9875\n",
      "Epoch 33/50\n",
      "80/80 [==============================] - 0s 3ms/step - loss: 0.0284 - accuracy: 0.9875\n",
      "Epoch 34/50\n",
      "80/80 [==============================] - 0s 3ms/step - loss: 0.0240 - accuracy: 0.9887\n",
      "Epoch 35/50\n",
      "80/80 [==============================] - 0s 3ms/step - loss: 0.0285 - accuracy: 0.9887\n",
      "Epoch 36/50\n",
      "80/80 [==============================] - 0s 3ms/step - loss: 0.0243 - accuracy: 0.9925\n",
      "Epoch 37/50\n",
      "80/80 [==============================] - 0s 3ms/step - loss: 0.0314 - accuracy: 0.9875\n",
      "Epoch 38/50\n",
      "80/80 [==============================] - 0s 3ms/step - loss: 0.0387 - accuracy: 0.9862\n",
      "Epoch 39/50\n",
      "80/80 [==============================] - 0s 3ms/step - loss: 0.0294 - accuracy: 0.9887\n",
      "Epoch 40/50\n",
      "80/80 [==============================] - 0s 3ms/step - loss: 0.0357 - accuracy: 0.9875\n",
      "Epoch 41/50\n",
      "80/80 [==============================] - 0s 3ms/step - loss: 0.0267 - accuracy: 0.9887\n",
      "Epoch 42/50\n",
      "80/80 [==============================] - 0s 3ms/step - loss: 0.0226 - accuracy: 0.9900\n",
      "Epoch 43/50\n",
      "80/80 [==============================] - 0s 3ms/step - loss: 0.0299 - accuracy: 0.9900\n",
      "Epoch 44/50\n",
      "80/80 [==============================] - 0s 3ms/step - loss: 0.0289 - accuracy: 0.9875\n",
      "Epoch 45/50\n",
      "80/80 [==============================] - 0s 3ms/step - loss: 0.0254 - accuracy: 0.9900\n",
      "Epoch 46/50\n",
      "80/80 [==============================] - 0s 3ms/step - loss: 0.0278 - accuracy: 0.9900\n",
      "Epoch 47/50\n",
      "80/80 [==============================] - 0s 3ms/step - loss: 0.0275 - accuracy: 0.9887\n",
      "Epoch 48/50\n",
      "80/80 [==============================] - 0s 3ms/step - loss: 0.0239 - accuracy: 0.9912\n",
      "Epoch 49/50\n",
      "80/80 [==============================] - 0s 3ms/step - loss: 0.0253 - accuracy: 0.9887\n",
      "Epoch 50/50\n",
      "80/80 [==============================] - 0s 3ms/step - loss: 0.0255 - accuracy: 0.9912\n"
     ]
    },
    {
     "output_type": "execute_result",
     "data": {
      "text/plain": [
       "<tensorflow.python.keras.callbacks.History at 0x22c307f0080>"
      ]
     },
     "metadata": {},
     "execution_count": 111
    }
   ],
   "source": [
    "model.fit(x_train,y_train,batch_size=10,epochs=50)#more epochs can result in overfitting"
   ]
  },
  {
   "cell_type": "code",
   "execution_count": 112,
   "metadata": {},
   "outputs": [],
   "source": [
    "y_pred = model.predict(x_test)\n",
    "y_pred = y_pred > 0.5"
   ]
  },
  {
   "cell_type": "code",
   "execution_count": 113,
   "metadata": {},
   "outputs": [
    {
     "output_type": "stream",
     "name": "stdout",
     "text": [
      "0.725\n"
     ]
    }
   ],
   "source": [
    "from sklearn.metrics import confusion_matrix, accuracy_score\n",
    "cmn = confusion_matrix(y_test, y_pred)\n",
    "acc = accuracy_score(y_test,y_pred)\n",
    "print(acc)"
   ]
  },
  {
   "cell_type": "code",
   "execution_count": 114,
   "metadata": {},
   "outputs": [
    {
     "output_type": "execute_result",
     "data": {
      "text/plain": [
       "<AxesSubplot:>"
      ]
     },
     "metadata": {},
     "execution_count": 114
    },
    {
     "output_type": "display_data",
     "data": {
      "text/plain": "<Figure size 432x288 with 2 Axes>",
      "image/svg+xml": "<?xml version=\"1.0\" encoding=\"utf-8\" standalone=\"no\"?>\r\n<!DOCTYPE svg PUBLIC \"-//W3C//DTD SVG 1.1//EN\"\r\n  \"http://www.w3.org/Graphics/SVG/1.1/DTD/svg11.dtd\">\r\n<!-- Created with matplotlib (https://matplotlib.org/) -->\r\n<svg height=\"248.518125pt\" version=\"1.1\" viewBox=\"0 0 346.255125 248.518125\" width=\"346.255125pt\" xmlns=\"http://www.w3.org/2000/svg\" xmlns:xlink=\"http://www.w3.org/1999/xlink\">\r\n <metadata>\r\n  <rdf:RDF xmlns:cc=\"http://creativecommons.org/ns#\" xmlns:dc=\"http://purl.org/dc/elements/1.1/\" xmlns:rdf=\"http://www.w3.org/1999/02/22-rdf-syntax-ns#\">\r\n   <cc:Work>\r\n    <dc:type rdf:resource=\"http://purl.org/dc/dcmitype/StillImage\"/>\r\n    <dc:date>2021-02-16T19:04:27.942156</dc:date>\r\n    <dc:format>image/svg+xml</dc:format>\r\n    <dc:creator>\r\n     <cc:Agent>\r\n      <dc:title>Matplotlib v3.3.1, https://matplotlib.org/</dc:title>\r\n     </cc:Agent>\r\n    </dc:creator>\r\n   </cc:Work>\r\n  </rdf:RDF>\r\n </metadata>\r\n <defs>\r\n  <style type=\"text/css\">*{stroke-linecap:butt;stroke-linejoin:round;}</style>\r\n </defs>\r\n <g id=\"figure_1\">\r\n  <g id=\"patch_1\">\r\n   <path d=\"M -0 248.518125 \r\nL 346.255125 248.518125 \r\nL 346.255125 0 \r\nL -0 0 \r\nz\r\n\" style=\"fill:none;\"/>\r\n  </g>\r\n  <g id=\"axes_1\">\r\n   <g id=\"patch_2\">\r\n    <path d=\"M 23.878125 224.64 \r\nL 291.718125 224.64 \r\nL 291.718125 7.2 \r\nL 23.878125 7.2 \r\nz\r\n\" style=\"fill:#ffffff;\"/>\r\n   </g>\r\n   <g id=\"QuadMesh_1\">\r\n    <path clip-path=\"url(#p193abc8134)\" d=\"M 23.878125 7.2 \r\nL 157.798125 7.2 \r\nL 157.798125 115.92 \r\nL 23.878125 115.92 \r\nL 23.878125 7.2 \r\n\" style=\"fill:#faebdd;\"/>\r\n    <path clip-path=\"url(#p193abc8134)\" d=\"M 157.798125 7.2 \r\nL 291.718125 7.2 \r\nL 291.718125 115.92 \r\nL 157.798125 115.92 \r\nL 157.798125 7.2 \r\n\" style=\"fill:#03051a;\"/>\r\n    <path clip-path=\"url(#p193abc8134)\" d=\"M 23.878125 115.92 \r\nL 157.798125 115.92 \r\nL 157.798125 224.64 \r\nL 23.878125 224.64 \r\nL 23.878125 115.92 \r\n\" style=\"fill:#501d4c;\"/>\r\n    <path clip-path=\"url(#p193abc8134)\" d=\"M 157.798125 115.92 \r\nL 291.718125 115.92 \r\nL 291.718125 224.64 \r\nL 157.798125 224.64 \r\nL 157.798125 115.92 \r\n\" style=\"fill:#f7c7a8;\"/>\r\n   </g>\r\n   <g id=\"matplotlib.axis_1\">\r\n    <g id=\"xtick_1\">\r\n     <g id=\"line2d_1\">\r\n      <defs>\r\n       <path d=\"M 0 0 \r\nL 0 3.5 \r\n\" id=\"m0a588deff6\" style=\"stroke:#000000;stroke-width:0.8;\"/>\r\n      </defs>\r\n      <g>\r\n       <use style=\"stroke:#000000;stroke-width:0.8;\" x=\"90.838125\" xlink:href=\"#m0a588deff6\" y=\"224.64\"/>\r\n      </g>\r\n     </g>\r\n     <g id=\"text_1\">\r\n      <!-- 0 -->\r\n      <g transform=\"translate(87.656875 239.238437)scale(0.1 -0.1)\">\r\n       <defs>\r\n        <path d=\"M 31.78125 66.40625 \r\nQ 24.171875 66.40625 20.328125 58.90625 \r\nQ 16.5 51.421875 16.5 36.375 \r\nQ 16.5 21.390625 20.328125 13.890625 \r\nQ 24.171875 6.390625 31.78125 6.390625 \r\nQ 39.453125 6.390625 43.28125 13.890625 \r\nQ 47.125 21.390625 47.125 36.375 \r\nQ 47.125 51.421875 43.28125 58.90625 \r\nQ 39.453125 66.40625 31.78125 66.40625 \r\nz\r\nM 31.78125 74.21875 \r\nQ 44.046875 74.21875 50.515625 64.515625 \r\nQ 56.984375 54.828125 56.984375 36.375 \r\nQ 56.984375 17.96875 50.515625 8.265625 \r\nQ 44.046875 -1.421875 31.78125 -1.421875 \r\nQ 19.53125 -1.421875 13.0625 8.265625 \r\nQ 6.59375 17.96875 6.59375 36.375 \r\nQ 6.59375 54.828125 13.0625 64.515625 \r\nQ 19.53125 74.21875 31.78125 74.21875 \r\nz\r\n\" id=\"DejaVuSans-48\"/>\r\n       </defs>\r\n       <use xlink:href=\"#DejaVuSans-48\"/>\r\n      </g>\r\n     </g>\r\n    </g>\r\n    <g id=\"xtick_2\">\r\n     <g id=\"line2d_2\">\r\n      <g>\r\n       <use style=\"stroke:#000000;stroke-width:0.8;\" x=\"224.758125\" xlink:href=\"#m0a588deff6\" y=\"224.64\"/>\r\n      </g>\r\n     </g>\r\n     <g id=\"text_2\">\r\n      <!-- 1 -->\r\n      <g transform=\"translate(221.576875 239.238437)scale(0.1 -0.1)\">\r\n       <defs>\r\n        <path d=\"M 12.40625 8.296875 \r\nL 28.515625 8.296875 \r\nL 28.515625 63.921875 \r\nL 10.984375 60.40625 \r\nL 10.984375 69.390625 \r\nL 28.421875 72.90625 \r\nL 38.28125 72.90625 \r\nL 38.28125 8.296875 \r\nL 54.390625 8.296875 \r\nL 54.390625 0 \r\nL 12.40625 0 \r\nz\r\n\" id=\"DejaVuSans-49\"/>\r\n       </defs>\r\n       <use xlink:href=\"#DejaVuSans-49\"/>\r\n      </g>\r\n     </g>\r\n    </g>\r\n   </g>\r\n   <g id=\"matplotlib.axis_2\">\r\n    <g id=\"ytick_1\">\r\n     <g id=\"line2d_3\">\r\n      <defs>\r\n       <path d=\"M 0 0 \r\nL -3.5 0 \r\n\" id=\"m40cebf8847\" style=\"stroke:#000000;stroke-width:0.8;\"/>\r\n      </defs>\r\n      <g>\r\n       <use style=\"stroke:#000000;stroke-width:0.8;\" x=\"23.878125\" xlink:href=\"#m40cebf8847\" y=\"61.56\"/>\r\n      </g>\r\n     </g>\r\n     <g id=\"text_3\">\r\n      <!-- 0 -->\r\n      <g transform=\"translate(14.798438 64.123281)rotate(-90)scale(0.1 -0.1)\">\r\n       <use xlink:href=\"#DejaVuSans-48\"/>\r\n      </g>\r\n     </g>\r\n    </g>\r\n    <g id=\"ytick_2\">\r\n     <g id=\"line2d_4\">\r\n      <g>\r\n       <use style=\"stroke:#000000;stroke-width:0.8;\" x=\"23.878125\" xlink:href=\"#m40cebf8847\" y=\"170.28\"/>\r\n      </g>\r\n     </g>\r\n     <g id=\"text_4\">\r\n      <!-- 1 -->\r\n      <g transform=\"translate(14.798438 172.843281)rotate(-90)scale(0.1 -0.1)\">\r\n       <use xlink:href=\"#DejaVuSans-49\"/>\r\n      </g>\r\n     </g>\r\n    </g>\r\n   </g>\r\n   <g id=\"text_5\">\r\n    <!-- 75 -->\r\n    <g style=\"fill:#262626;\" transform=\"translate(84.475625 64.319375)scale(0.1 -0.1)\">\r\n     <defs>\r\n      <path d=\"M 8.203125 72.90625 \r\nL 55.078125 72.90625 \r\nL 55.078125 68.703125 \r\nL 28.609375 0 \r\nL 18.3125 0 \r\nL 43.21875 64.59375 \r\nL 8.203125 64.59375 \r\nz\r\n\" id=\"DejaVuSans-55\"/>\r\n      <path d=\"M 10.796875 72.90625 \r\nL 49.515625 72.90625 \r\nL 49.515625 64.59375 \r\nL 19.828125 64.59375 \r\nL 19.828125 46.734375 \r\nQ 21.96875 47.46875 24.109375 47.828125 \r\nQ 26.265625 48.1875 28.421875 48.1875 \r\nQ 40.625 48.1875 47.75 41.5 \r\nQ 54.890625 34.8125 54.890625 23.390625 \r\nQ 54.890625 11.625 47.5625 5.09375 \r\nQ 40.234375 -1.421875 26.90625 -1.421875 \r\nQ 22.3125 -1.421875 17.546875 -0.640625 \r\nQ 12.796875 0.140625 7.71875 1.703125 \r\nL 7.71875 11.625 \r\nQ 12.109375 9.234375 16.796875 8.0625 \r\nQ 21.484375 6.890625 26.703125 6.890625 \r\nQ 35.15625 6.890625 40.078125 11.328125 \r\nQ 45.015625 15.765625 45.015625 23.390625 \r\nQ 45.015625 31 40.078125 35.4375 \r\nQ 35.15625 39.890625 26.703125 39.890625 \r\nQ 22.75 39.890625 18.8125 39.015625 \r\nQ 14.890625 38.140625 10.796875 36.28125 \r\nz\r\n\" id=\"DejaVuSans-53\"/>\r\n     </defs>\r\n     <use xlink:href=\"#DejaVuSans-55\"/>\r\n     <use x=\"63.623047\" xlink:href=\"#DejaVuSans-53\"/>\r\n    </g>\r\n   </g>\r\n   <g id=\"text_6\">\r\n    <!-- 22 -->\r\n    <g style=\"fill:#ffffff;\" transform=\"translate(218.395625 64.319375)scale(0.1 -0.1)\">\r\n     <defs>\r\n      <path d=\"M 19.1875 8.296875 \r\nL 53.609375 8.296875 \r\nL 53.609375 0 \r\nL 7.328125 0 \r\nL 7.328125 8.296875 \r\nQ 12.9375 14.109375 22.625 23.890625 \r\nQ 32.328125 33.6875 34.8125 36.53125 \r\nQ 39.546875 41.84375 41.421875 45.53125 \r\nQ 43.3125 49.21875 43.3125 52.78125 \r\nQ 43.3125 58.59375 39.234375 62.25 \r\nQ 35.15625 65.921875 28.609375 65.921875 \r\nQ 23.96875 65.921875 18.8125 64.3125 \r\nQ 13.671875 62.703125 7.8125 59.421875 \r\nL 7.8125 69.390625 \r\nQ 13.765625 71.78125 18.9375 73 \r\nQ 24.125 74.21875 28.421875 74.21875 \r\nQ 39.75 74.21875 46.484375 68.546875 \r\nQ 53.21875 62.890625 53.21875 53.421875 \r\nQ 53.21875 48.921875 51.53125 44.890625 \r\nQ 49.859375 40.875 45.40625 35.40625 \r\nQ 44.1875 33.984375 37.640625 27.21875 \r\nQ 31.109375 20.453125 19.1875 8.296875 \r\nz\r\n\" id=\"DejaVuSans-50\"/>\r\n     </defs>\r\n     <use xlink:href=\"#DejaVuSans-50\"/>\r\n     <use x=\"63.623047\" xlink:href=\"#DejaVuSans-50\"/>\r\n    </g>\r\n   </g>\r\n   <g id=\"text_7\">\r\n    <!-- 33 -->\r\n    <g style=\"fill:#ffffff;\" transform=\"translate(84.475625 173.039375)scale(0.1 -0.1)\">\r\n     <defs>\r\n      <path d=\"M 40.578125 39.3125 \r\nQ 47.65625 37.796875 51.625 33 \r\nQ 55.609375 28.21875 55.609375 21.1875 \r\nQ 55.609375 10.40625 48.1875 4.484375 \r\nQ 40.765625 -1.421875 27.09375 -1.421875 \r\nQ 22.515625 -1.421875 17.65625 -0.515625 \r\nQ 12.796875 0.390625 7.625 2.203125 \r\nL 7.625 11.71875 \r\nQ 11.71875 9.328125 16.59375 8.109375 \r\nQ 21.484375 6.890625 26.8125 6.890625 \r\nQ 36.078125 6.890625 40.9375 10.546875 \r\nQ 45.796875 14.203125 45.796875 21.1875 \r\nQ 45.796875 27.640625 41.28125 31.265625 \r\nQ 36.765625 34.90625 28.71875 34.90625 \r\nL 20.21875 34.90625 \r\nL 20.21875 43.015625 \r\nL 29.109375 43.015625 \r\nQ 36.375 43.015625 40.234375 45.921875 \r\nQ 44.09375 48.828125 44.09375 54.296875 \r\nQ 44.09375 59.90625 40.109375 62.90625 \r\nQ 36.140625 65.921875 28.71875 65.921875 \r\nQ 24.65625 65.921875 20.015625 65.03125 \r\nQ 15.375 64.15625 9.8125 62.3125 \r\nL 9.8125 71.09375 \r\nQ 15.4375 72.65625 20.34375 73.4375 \r\nQ 25.25 74.21875 29.59375 74.21875 \r\nQ 40.828125 74.21875 47.359375 69.109375 \r\nQ 53.90625 64.015625 53.90625 55.328125 \r\nQ 53.90625 49.265625 50.4375 45.09375 \r\nQ 46.96875 40.921875 40.578125 39.3125 \r\nz\r\n\" id=\"DejaVuSans-51\"/>\r\n     </defs>\r\n     <use xlink:href=\"#DejaVuSans-51\"/>\r\n     <use x=\"63.623047\" xlink:href=\"#DejaVuSans-51\"/>\r\n    </g>\r\n   </g>\r\n   <g id=\"text_8\">\r\n    <!-- 70 -->\r\n    <g style=\"fill:#262626;\" transform=\"translate(218.395625 173.039375)scale(0.1 -0.1)\">\r\n     <use xlink:href=\"#DejaVuSans-55\"/>\r\n     <use x=\"63.623047\" xlink:href=\"#DejaVuSans-48\"/>\r\n    </g>\r\n   </g>\r\n  </g>\r\n  <g id=\"axes_2\">\r\n   <g id=\"patch_3\">\r\n    <path clip-path=\"url(#p6ac049193a)\" d=\"M 308.458125 224.64 \r\nL 308.458125 223.790625 \r\nL 308.458125 8.049375 \r\nL 308.458125 7.2 \r\nL 319.330125 7.2 \r\nL 319.330125 8.049375 \r\nL 319.330125 223.790625 \r\nL 319.330125 224.64 \r\nz\r\n\" style=\"fill:#ffffff;stroke:#ffffff;stroke-linejoin:miter;stroke-width:0.01;\"/>\r\n   </g>\r\n   <image height=\"217\" id=\"imagedffb98184a\" transform=\"scale(1 -1)translate(0 -217)\" width=\"11\" x=\"308\" xlink:href=\"data:image/png;base64,\r\niVBORw0KGgoAAAANSUhEUgAAAAsAAADZCAYAAAD2WsoCAAABX0lEQVR4nNWa2w0DMQjAeN0S3X/OXlfAH5ZovhEyhqS5qDnP543lmszcxtLgAMFdJWUurcAiGCgzsuFhHPHc6dk4MXWoQLEpNzKb7dZsaBgTaDb2y5wNrd0QY7/Mk58EjzZIzIbXbm9brUPp8HvqoA2AIarTmJGNI8wIg+1ukpkVuP48+FsbJJjY8DDmBgZrN2EehHHEhoYx7z61uAfrBgaykWExwwIBRjNmEgxEi+oSnAXTJLhIMMKAmdexMV1fKbNYIDjsGHM1sAGZAQZSJ9oYbTYQs6auwFWGYYQ3G14wuPeQxx6qjmUGN3OWGdwLJgiGx8wwwM8mzEyeLFBmGEze6zQbQZ4NPRtJbES3hIGa4nnO0QoU200yoz0IPnlVG6SDHgaywc461EFLHdzdGoZXIMrcaPhvMLN2o3nWNmzemDrRBinwxvBnP1Jmc/iJZ9Ju9C+LKwWydmtnnVXgD2R4KiPLLY7SAAAAAElFTkSuQmCC\" y=\"-7\"/>\r\n   <g id=\"matplotlib.axis_3\"/>\r\n   <g id=\"matplotlib.axis_4\">\r\n    <g id=\"ytick_3\">\r\n     <g id=\"line2d_5\">\r\n      <defs>\r\n       <path d=\"M 0 0 \r\nL 3.5 0 \r\n\" id=\"m4f6cecd626\" style=\"stroke:#000000;stroke-width:0.8;\"/>\r\n      </defs>\r\n      <g>\r\n       <use style=\"stroke:#000000;stroke-width:0.8;\" x=\"319.330125\" xlink:href=\"#m4f6cecd626\" y=\"191.818868\"/>\r\n      </g>\r\n     </g>\r\n     <g id=\"text_9\">\r\n      <!-- 30 -->\r\n      <g transform=\"translate(326.330125 195.618087)scale(0.1 -0.1)\">\r\n       <use xlink:href=\"#DejaVuSans-51\"/>\r\n       <use x=\"63.623047\" xlink:href=\"#DejaVuSans-48\"/>\r\n      </g>\r\n     </g>\r\n    </g>\r\n    <g id=\"ytick_4\">\r\n     <g id=\"line2d_6\">\r\n      <g>\r\n       <use style=\"stroke:#000000;stroke-width:0.8;\" x=\"319.330125\" xlink:href=\"#m4f6cecd626\" y=\"150.792453\"/>\r\n      </g>\r\n     </g>\r\n     <g id=\"text_10\">\r\n      <!-- 40 -->\r\n      <g transform=\"translate(326.330125 154.591672)scale(0.1 -0.1)\">\r\n       <defs>\r\n        <path d=\"M 37.796875 64.3125 \r\nL 12.890625 25.390625 \r\nL 37.796875 25.390625 \r\nz\r\nM 35.203125 72.90625 \r\nL 47.609375 72.90625 \r\nL 47.609375 25.390625 \r\nL 58.015625 25.390625 \r\nL 58.015625 17.1875 \r\nL 47.609375 17.1875 \r\nL 47.609375 0 \r\nL 37.796875 0 \r\nL 37.796875 17.1875 \r\nL 4.890625 17.1875 \r\nL 4.890625 26.703125 \r\nz\r\n\" id=\"DejaVuSans-52\"/>\r\n       </defs>\r\n       <use xlink:href=\"#DejaVuSans-52\"/>\r\n       <use x=\"63.623047\" xlink:href=\"#DejaVuSans-48\"/>\r\n      </g>\r\n     </g>\r\n    </g>\r\n    <g id=\"ytick_5\">\r\n     <g id=\"line2d_7\">\r\n      <g>\r\n       <use style=\"stroke:#000000;stroke-width:0.8;\" x=\"319.330125\" xlink:href=\"#m4f6cecd626\" y=\"109.766038\"/>\r\n      </g>\r\n     </g>\r\n     <g id=\"text_11\">\r\n      <!-- 50 -->\r\n      <g transform=\"translate(326.330125 113.565256)scale(0.1 -0.1)\">\r\n       <use xlink:href=\"#DejaVuSans-53\"/>\r\n       <use x=\"63.623047\" xlink:href=\"#DejaVuSans-48\"/>\r\n      </g>\r\n     </g>\r\n    </g>\r\n    <g id=\"ytick_6\">\r\n     <g id=\"line2d_8\">\r\n      <g>\r\n       <use style=\"stroke:#000000;stroke-width:0.8;\" x=\"319.330125\" xlink:href=\"#m4f6cecd626\" y=\"68.739623\"/>\r\n      </g>\r\n     </g>\r\n     <g id=\"text_12\">\r\n      <!-- 60 -->\r\n      <g transform=\"translate(326.330125 72.538841)scale(0.1 -0.1)\">\r\n       <defs>\r\n        <path d=\"M 33.015625 40.375 \r\nQ 26.375 40.375 22.484375 35.828125 \r\nQ 18.609375 31.296875 18.609375 23.390625 \r\nQ 18.609375 15.53125 22.484375 10.953125 \r\nQ 26.375 6.390625 33.015625 6.390625 \r\nQ 39.65625 6.390625 43.53125 10.953125 \r\nQ 47.40625 15.53125 47.40625 23.390625 \r\nQ 47.40625 31.296875 43.53125 35.828125 \r\nQ 39.65625 40.375 33.015625 40.375 \r\nz\r\nM 52.59375 71.296875 \r\nL 52.59375 62.3125 \r\nQ 48.875 64.0625 45.09375 64.984375 \r\nQ 41.3125 65.921875 37.59375 65.921875 \r\nQ 27.828125 65.921875 22.671875 59.328125 \r\nQ 17.53125 52.734375 16.796875 39.40625 \r\nQ 19.671875 43.65625 24.015625 45.921875 \r\nQ 28.375 48.1875 33.59375 48.1875 \r\nQ 44.578125 48.1875 50.953125 41.515625 \r\nQ 57.328125 34.859375 57.328125 23.390625 \r\nQ 57.328125 12.15625 50.6875 5.359375 \r\nQ 44.046875 -1.421875 33.015625 -1.421875 \r\nQ 20.359375 -1.421875 13.671875 8.265625 \r\nQ 6.984375 17.96875 6.984375 36.375 \r\nQ 6.984375 53.65625 15.1875 63.9375 \r\nQ 23.390625 74.21875 37.203125 74.21875 \r\nQ 40.921875 74.21875 44.703125 73.484375 \r\nQ 48.484375 72.75 52.59375 71.296875 \r\nz\r\n\" id=\"DejaVuSans-54\"/>\r\n       </defs>\r\n       <use xlink:href=\"#DejaVuSans-54\"/>\r\n       <use x=\"63.623047\" xlink:href=\"#DejaVuSans-48\"/>\r\n      </g>\r\n     </g>\r\n    </g>\r\n    <g id=\"ytick_7\">\r\n     <g id=\"line2d_9\">\r\n      <g>\r\n       <use style=\"stroke:#000000;stroke-width:0.8;\" x=\"319.330125\" xlink:href=\"#m4f6cecd626\" y=\"27.713208\"/>\r\n      </g>\r\n     </g>\r\n     <g id=\"text_13\">\r\n      <!-- 70 -->\r\n      <g transform=\"translate(326.330125 31.512426)scale(0.1 -0.1)\">\r\n       <use xlink:href=\"#DejaVuSans-55\"/>\r\n       <use x=\"63.623047\" xlink:href=\"#DejaVuSans-48\"/>\r\n      </g>\r\n     </g>\r\n    </g>\r\n   </g>\r\n   <g id=\"patch_4\">\r\n    <path d=\"M 308.458125 224.64 \r\nL 308.458125 223.790625 \r\nL 308.458125 8.049375 \r\nL 308.458125 7.2 \r\nL 319.330125 7.2 \r\nL 319.330125 8.049375 \r\nL 319.330125 223.790625 \r\nL 319.330125 224.64 \r\nz\r\n\" style=\"fill:none;\"/>\r\n   </g>\r\n  </g>\r\n </g>\r\n <defs>\r\n  <clipPath id=\"p193abc8134\">\r\n   <rect height=\"217.44\" width=\"267.84\" x=\"23.878125\" y=\"7.2\"/>\r\n  </clipPath>\r\n  <clipPath id=\"p6ac049193a\">\r\n   <rect height=\"217.44\" width=\"10.872\" x=\"308.458125\" y=\"7.2\"/>\r\n  </clipPath>\r\n </defs>\r\n</svg>\r\n",
      "image/png": "[encoded data removed]"
     },
     "metadata": {
      "needs_background": "light"
     }
    }
   ],
   "source": [
    "import seaborn as sns\n",
    "sns.heatmap(cmn,annot=True)"
   ]
  },
  {
   "cell_type": "code",
   "execution_count": 115,
   "metadata": {},
   "outputs": [
    {
     "output_type": "stream",
     "name": "stdout",
     "text": [
      "Model: \"sequential_1\"\n_________________________________________________________________\nLayer (type)                 Output Shape              Param #   \n=================================================================\ndense_13 (Dense)             (None, 1000)              1501000   \n_________________________________________________________________\ndense_14 (Dense)             (None, 100)               100100    \n_________________________________________________________________\ndense_15 (Dense)             (None, 1)                 101       \n=================================================================\nTotal params: 1,601,201\nTrainable params: 1,601,201\nNon-trainable params: 0\n_________________________________________________________________\n"
     ]
    }
   ],
   "source": [
    "model.summary()"
   ]
  }
 ]
}