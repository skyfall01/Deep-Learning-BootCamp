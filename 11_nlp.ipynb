{
 "metadata": {
  "language_info": {
   "codemirror_mode": {
    "name": "ipython",
    "version": 3
   },
   "file_extension": ".py",
   "mimetype": "text/x-python",
   "name": "python",
   "nbconvert_exporter": "python",
   "pygments_lexer": "ipython3",
   "version": 3
  },
  "orig_nbformat": 2
 },
 "nbformat": 4,
 "nbformat_minor": 2,
 "cells": [
  {
   "source": [
    "Virtual assistants -> 1) Own database   2)Structured protocol(Ex: HTTP(hyper text transfer protocol) highly secure)"
   ],
   "cell_type": "markdown",
   "metadata": {}
  },
  {
   "source": [
    "NLP -> natural language to binary(machine language)\n",
    "\n",
    "Why NLP?\n",
    "\n",
    "Most data for NLP is available in www, social-media\n",
    "\n",
    "Mostly textual and unstructured\n",
    "\n",
    "Such data analysis & processing req to extract meaningful info such as sentimental analysis"
   ],
   "cell_type": "markdown",
   "metadata": {}
  },
  {
   "source": [
    "NLP Components: \n",
    " \n",
    " 1) Natural Language Understanding(NLU): \n",
    " \n",
    "    Helps machine understands human language by extracting meta-data from content such as concepts, keywords, emotions, relations etc.\n",
    "\n",
    "    a) map given i/p into useful representation\n",
    "\n",
    "    b) analyze different aspects of mapped data\n",
    " \n",
    " 2) Natural Language Generation(NLG):\n",
    "\n",
    "        Converts computerized data to natural language (reverse of NLU)\n",
    "        Involves:\n",
    "\n",
    "            a) Text, Sentence planning\n",
    "\n",
    "            b) Text Realization\n"
   ],
   "cell_type": "markdown",
   "metadata": {}
  },
  {
   "source": [
    "Different Phases of NLP:\n",
    "\n",
    " Lexical Analysis \n",
    "\n",
    " Pragmatic Analysis\n",
    "\n",
    " Syntactic Analysis\n",
    "\n",
    " Symantec Analysis\n",
    "\n",
    " Discourse Integration"
   ],
   "cell_type": "markdown",
   "metadata": {}
  },
  {
   "source": [
    "NLP Pipeline: \n",
    "\n",
    "  Understanding data to train machine in an even better way\n",
    "\n",
    "Sentence Segmentation:\n",
    "\n",
    "   Divide para into meaningful sentences\n",
    "\n",
    "   ex: Hello, welcome to rbei. Lets learn tech here\n",
    "\n",
    "3 sentences:\n",
    "\n",
    "   hello,  welcome to rbei, Lets learn tech here\n",
    "\n",
    "Word Tokenization: \n",
    "  Removing seperators, punctuation, greetings etc.\n",
    "\n",
    "  From above example:\n",
    "\n",
    "Sentences tokenized into words \n",
    "\n",
    "  Welcome\n",
    "\n",
    "  to\n",
    "\n",
    "  rbei\n",
    "\n",
    "  lets\n",
    "\n",
    "  learn\n",
    "\n",
    "  tech\n",
    "\n",
    "  here\n",
    "\n",
    "Stemming & Lemmatization:\n",
    "\n",
    "  converting different tenses or parts of speech of same word into single stemmed word(common word) and lemmatized(for meaningful word conversion)\n",
    "\n",
    "  Ex:\n",
    "\n",
    "  troubled, troublesome, troubles will be stemmed to troubl and troubl will be lemmatized to trouble\n",
    "\n",
    "Stop Words:\n",
    "\n",
    " Removing articles, prepositions, adverbs etc\n",
    "\n",
    " Ex: the, is, in, for, where, when, at etc.\n",
    "\n",
    "Bag of Words/Model:\n",
    "\n",
    "Each individual word formed as column with their frequency as counts. Each row is a sentence\n",
    "\n",
    "ex:\n",
    "\n",
    "                          like vit much this is bad\n",
    "\n",
    "i like vit very much.       1   1    1   0   0   0\n",
    "this is bad                 0   0    0   1   1   1 \n",
    "\n",
    "Sparce matrix: \n",
    "\n",
    "more 0's in matrix\n",
    "\n",
    "\n",
    "\n",
    "\n"
   ],
   "cell_type": "code",
   "metadata": {},
   "execution_count": null,
   "outputs": []
  },
  {
   "source": [
    "Steps:\n",
    "\n",
    "text preprocessing\n",
    "\n",
    ".-parsing & eda\n",
    "\n",
    ".-feature engineering - enhance dataset\n",
    "\n",
    ".-modeling & patterning\n",
    "\n",
    "evaluation & deployment\n",
    "\n",
    ".- comes under nlp pipeline"
   ],
   "cell_type": "markdown",
   "metadata": {}
  },
  {
   "cell_type": "code",
   "execution_count": null,
   "metadata": {},
   "outputs": [],
   "source": []
  }
 ]
}